{
 "cells": [
  {
   "cell_type": "markdown",
   "metadata": {},
   "source": [
    "# Inicialization"
   ]
  },
  {
   "cell_type": "code",
   "execution_count": 89,
   "metadata": {},
   "outputs": [],
   "source": [
    "# Importing libraries\n",
    "import pandas as pd\n",
    "import matplotlib.pyplot as plt\n",
    "import seaborn as sns\n",
    "import plotly.graph_objects as go\n",
    "import scipy.stats as stats"
   ]
  },
  {
   "cell_type": "markdown",
   "metadata": {},
   "source": [
    "# Loading the dataset"
   ]
  },
  {
   "cell_type": "code",
   "execution_count": 90,
   "metadata": {},
   "outputs": [],
   "source": [
    "# Loading the data\n",
    "df = pd.read_csv('logs_exp_us.csv', sep='\\t')"
   ]
  },
  {
   "cell_type": "markdown",
   "metadata": {},
   "source": [
    "# Preparing the data"
   ]
  },
  {
   "cell_type": "code",
   "execution_count": 91,
   "metadata": {},
   "outputs": [],
   "source": [
    "# Renaming columns\n",
    "df.columns = ['event_name', 'user_id', 'event_hour', 'exp_id']"
   ]
  },
  {
   "cell_type": "code",
   "execution_count": 92,
   "metadata": {},
   "outputs": [],
   "source": [
    "# Converting values to seconds\n",
    "df['event_hour'] = pd.to_datetime(df['event_hour'], unit='s')"
   ]
  },
  {
   "cell_type": "code",
   "execution_count": 93,
   "metadata": {},
   "outputs": [],
   "source": [
    "# Creating the date column\n",
    "df['session_date'] = df['event_hour'].dt.date"
   ]
  },
  {
   "cell_type": "code",
   "execution_count": 94,
   "metadata": {},
   "outputs": [],
   "source": [
    "# Changing the data type\n",
    "df['session_date'] = pd.to_datetime(df['session_date'])"
   ]
  },
  {
   "cell_type": "code",
   "execution_count": 95,
   "metadata": {
    "scrolled": true
   },
   "outputs": [
    {
     "name": "stdout",
     "output_type": "stream",
     "text": [
      "<class 'pandas.core.frame.DataFrame'>\n",
      "RangeIndex: 244126 entries, 0 to 244125\n",
      "Data columns (total 5 columns):\n",
      " #   Column        Non-Null Count   Dtype         \n",
      "---  ------        --------------   -----         \n",
      " 0   event_name    244126 non-null  object        \n",
      " 1   user_id       244126 non-null  int64         \n",
      " 2   event_hour    244126 non-null  datetime64[ns]\n",
      " 3   exp_id        244126 non-null  int64         \n",
      " 4   session_date  244126 non-null  datetime64[ns]\n",
      "dtypes: datetime64[ns](2), int64(2), object(1)\n",
      "memory usage: 9.3+ MB\n"
     ]
    }
   ],
   "source": [
    "# Viewing the data\n",
    "df.info()"
   ]
  },
  {
   "cell_type": "code",
   "execution_count": 96,
   "metadata": {},
   "outputs": [
    {
     "data": {
      "text/html": [
       "<div>\n",
       "<style scoped>\n",
       "    .dataframe tbody tr th:only-of-type {\n",
       "        vertical-align: middle;\n",
       "    }\n",
       "\n",
       "    .dataframe tbody tr th {\n",
       "        vertical-align: top;\n",
       "    }\n",
       "\n",
       "    .dataframe thead th {\n",
       "        text-align: right;\n",
       "    }\n",
       "</style>\n",
       "<table border=\"1\" class=\"dataframe\">\n",
       "  <thead>\n",
       "    <tr style=\"text-align: right;\">\n",
       "      <th></th>\n",
       "      <th>event_name</th>\n",
       "      <th>user_id</th>\n",
       "      <th>event_hour</th>\n",
       "      <th>exp_id</th>\n",
       "      <th>session_date</th>\n",
       "    </tr>\n",
       "  </thead>\n",
       "  <tbody>\n",
       "    <tr>\n",
       "      <th>0</th>\n",
       "      <td>MainScreenAppear</td>\n",
       "      <td>4575588528974610257</td>\n",
       "      <td>2019-07-25 04:43:36</td>\n",
       "      <td>246</td>\n",
       "      <td>2019-07-25</td>\n",
       "    </tr>\n",
       "    <tr>\n",
       "      <th>1</th>\n",
       "      <td>MainScreenAppear</td>\n",
       "      <td>7416695313311560658</td>\n",
       "      <td>2019-07-25 11:11:42</td>\n",
       "      <td>246</td>\n",
       "      <td>2019-07-25</td>\n",
       "    </tr>\n",
       "    <tr>\n",
       "      <th>2</th>\n",
       "      <td>PaymentScreenSuccessful</td>\n",
       "      <td>3518123091307005509</td>\n",
       "      <td>2019-07-25 11:28:47</td>\n",
       "      <td>248</td>\n",
       "      <td>2019-07-25</td>\n",
       "    </tr>\n",
       "    <tr>\n",
       "      <th>3</th>\n",
       "      <td>CartScreenAppear</td>\n",
       "      <td>3518123091307005509</td>\n",
       "      <td>2019-07-25 11:28:47</td>\n",
       "      <td>248</td>\n",
       "      <td>2019-07-25</td>\n",
       "    </tr>\n",
       "    <tr>\n",
       "      <th>4</th>\n",
       "      <td>PaymentScreenSuccessful</td>\n",
       "      <td>6217807653094995999</td>\n",
       "      <td>2019-07-25 11:48:42</td>\n",
       "      <td>248</td>\n",
       "      <td>2019-07-25</td>\n",
       "    </tr>\n",
       "  </tbody>\n",
       "</table>\n",
       "</div>"
      ],
      "text/plain": [
       "                event_name              user_id          event_hour  exp_id  \\\n",
       "0         MainScreenAppear  4575588528974610257 2019-07-25 04:43:36     246   \n",
       "1         MainScreenAppear  7416695313311560658 2019-07-25 11:11:42     246   \n",
       "2  PaymentScreenSuccessful  3518123091307005509 2019-07-25 11:28:47     248   \n",
       "3         CartScreenAppear  3518123091307005509 2019-07-25 11:28:47     248   \n",
       "4  PaymentScreenSuccessful  6217807653094995999 2019-07-25 11:48:42     248   \n",
       "\n",
       "  session_date  \n",
       "0   2019-07-25  \n",
       "1   2019-07-25  \n",
       "2   2019-07-25  \n",
       "3   2019-07-25  \n",
       "4   2019-07-25  "
      ]
     },
     "execution_count": 96,
     "metadata": {},
     "output_type": "execute_result"
    }
   ],
   "source": [
    "# Displaying the data\n",
    "df.head()"
   ]
  },
  {
   "cell_type": "code",
   "execution_count": 97,
   "metadata": {},
   "outputs": [
    {
     "data": {
      "text/plain": [
       "413"
      ]
     },
     "execution_count": 97,
     "metadata": {},
     "output_type": "execute_result"
    }
   ],
   "source": [
    "# Checking for duplicate values\n",
    "df.duplicated().sum()"
   ]
  },
  {
   "cell_type": "code",
   "execution_count": 98,
   "metadata": {
    "scrolled": false
   },
   "outputs": [
    {
     "data": {
      "text/html": [
       "<div>\n",
       "<style scoped>\n",
       "    .dataframe tbody tr th:only-of-type {\n",
       "        vertical-align: middle;\n",
       "    }\n",
       "\n",
       "    .dataframe tbody tr th {\n",
       "        vertical-align: top;\n",
       "    }\n",
       "\n",
       "    .dataframe thead th {\n",
       "        text-align: right;\n",
       "    }\n",
       "</style>\n",
       "<table border=\"1\" class=\"dataframe\">\n",
       "  <thead>\n",
       "    <tr style=\"text-align: right;\">\n",
       "      <th></th>\n",
       "      <th>event_name</th>\n",
       "      <th>user_id</th>\n",
       "      <th>event_hour</th>\n",
       "      <th>exp_id</th>\n",
       "      <th>session_date</th>\n",
       "    </tr>\n",
       "  </thead>\n",
       "  <tbody>\n",
       "    <tr>\n",
       "      <th>453</th>\n",
       "      <td>MainScreenAppear</td>\n",
       "      <td>5613408041324010552</td>\n",
       "      <td>2019-07-30 08:19:44</td>\n",
       "      <td>248</td>\n",
       "      <td>2019-07-30</td>\n",
       "    </tr>\n",
       "    <tr>\n",
       "      <th>2350</th>\n",
       "      <td>CartScreenAppear</td>\n",
       "      <td>1694940645335807244</td>\n",
       "      <td>2019-07-31 21:51:39</td>\n",
       "      <td>248</td>\n",
       "      <td>2019-07-31</td>\n",
       "    </tr>\n",
       "    <tr>\n",
       "      <th>3573</th>\n",
       "      <td>MainScreenAppear</td>\n",
       "      <td>434103746454591587</td>\n",
       "      <td>2019-08-01 02:59:37</td>\n",
       "      <td>248</td>\n",
       "      <td>2019-08-01</td>\n",
       "    </tr>\n",
       "    <tr>\n",
       "      <th>4076</th>\n",
       "      <td>MainScreenAppear</td>\n",
       "      <td>3761373764179762633</td>\n",
       "      <td>2019-08-01 03:47:46</td>\n",
       "      <td>247</td>\n",
       "      <td>2019-08-01</td>\n",
       "    </tr>\n",
       "    <tr>\n",
       "      <th>4803</th>\n",
       "      <td>MainScreenAppear</td>\n",
       "      <td>2835328739789306622</td>\n",
       "      <td>2019-08-01 04:44:01</td>\n",
       "      <td>248</td>\n",
       "      <td>2019-08-01</td>\n",
       "    </tr>\n",
       "    <tr>\n",
       "      <th>...</th>\n",
       "      <td>...</td>\n",
       "      <td>...</td>\n",
       "      <td>...</td>\n",
       "      <td>...</td>\n",
       "      <td>...</td>\n",
       "    </tr>\n",
       "    <tr>\n",
       "      <th>242329</th>\n",
       "      <td>MainScreenAppear</td>\n",
       "      <td>8870358373313968633</td>\n",
       "      <td>2019-08-07 19:26:44</td>\n",
       "      <td>247</td>\n",
       "      <td>2019-08-07</td>\n",
       "    </tr>\n",
       "    <tr>\n",
       "      <th>242332</th>\n",
       "      <td>PaymentScreenSuccessful</td>\n",
       "      <td>4718002964983105693</td>\n",
       "      <td>2019-08-07 19:26:45</td>\n",
       "      <td>247</td>\n",
       "      <td>2019-08-07</td>\n",
       "    </tr>\n",
       "    <tr>\n",
       "      <th>242360</th>\n",
       "      <td>PaymentScreenSuccessful</td>\n",
       "      <td>2382591782303281935</td>\n",
       "      <td>2019-08-07 19:27:29</td>\n",
       "      <td>246</td>\n",
       "      <td>2019-08-07</td>\n",
       "    </tr>\n",
       "    <tr>\n",
       "      <th>242362</th>\n",
       "      <td>CartScreenAppear</td>\n",
       "      <td>2382591782303281935</td>\n",
       "      <td>2019-08-07 19:27:29</td>\n",
       "      <td>246</td>\n",
       "      <td>2019-08-07</td>\n",
       "    </tr>\n",
       "    <tr>\n",
       "      <th>242635</th>\n",
       "      <td>MainScreenAppear</td>\n",
       "      <td>4097782667445790512</td>\n",
       "      <td>2019-08-07 19:36:58</td>\n",
       "      <td>246</td>\n",
       "      <td>2019-08-07</td>\n",
       "    </tr>\n",
       "  </tbody>\n",
       "</table>\n",
       "<p>413 rows × 5 columns</p>\n",
       "</div>"
      ],
      "text/plain": [
       "                     event_name              user_id          event_hour  \\\n",
       "453            MainScreenAppear  5613408041324010552 2019-07-30 08:19:44   \n",
       "2350           CartScreenAppear  1694940645335807244 2019-07-31 21:51:39   \n",
       "3573           MainScreenAppear   434103746454591587 2019-08-01 02:59:37   \n",
       "4076           MainScreenAppear  3761373764179762633 2019-08-01 03:47:46   \n",
       "4803           MainScreenAppear  2835328739789306622 2019-08-01 04:44:01   \n",
       "...                         ...                  ...                 ...   \n",
       "242329         MainScreenAppear  8870358373313968633 2019-08-07 19:26:44   \n",
       "242332  PaymentScreenSuccessful  4718002964983105693 2019-08-07 19:26:45   \n",
       "242360  PaymentScreenSuccessful  2382591782303281935 2019-08-07 19:27:29   \n",
       "242362         CartScreenAppear  2382591782303281935 2019-08-07 19:27:29   \n",
       "242635         MainScreenAppear  4097782667445790512 2019-08-07 19:36:58   \n",
       "\n",
       "        exp_id session_date  \n",
       "453        248   2019-07-30  \n",
       "2350       248   2019-07-31  \n",
       "3573       248   2019-08-01  \n",
       "4076       247   2019-08-01  \n",
       "4803       248   2019-08-01  \n",
       "...        ...          ...  \n",
       "242329     247   2019-08-07  \n",
       "242332     247   2019-08-07  \n",
       "242360     246   2019-08-07  \n",
       "242362     246   2019-08-07  \n",
       "242635     246   2019-08-07  \n",
       "\n",
       "[413 rows x 5 columns]"
      ]
     },
     "execution_count": 98,
     "metadata": {},
     "output_type": "execute_result"
    }
   ],
   "source": [
    "df[df.duplicated()]"
   ]
  },
  {
   "cell_type": "code",
   "execution_count": 99,
   "metadata": {},
   "outputs": [],
   "source": [
    "# Removing duplicate values\n",
    "df = df.drop_duplicates(subset=['event_name', 'user_id', 'event_hour', 'exp_id', 'session_date'])"
   ]
  },
  {
   "cell_type": "markdown",
   "metadata": {},
   "source": [
    "# Studying and Verifying the Data"
   ]
  },
  {
   "cell_type": "code",
   "execution_count": 100,
   "metadata": {},
   "outputs": [
    {
     "data": {
      "text/plain": [
       "event_name           5\n",
       "user_id           7551\n",
       "event_hour      176654\n",
       "exp_id               3\n",
       "session_date        14\n",
       "dtype: int64"
      ]
     },
     "execution_count": 100,
     "metadata": {},
     "output_type": "execute_result"
    }
   ],
   "source": [
    "# How many events are in the records?\n",
    "\n",
    "# Getting the total number of events\n",
    "total_events_count = df.nunique()\n",
    "total_events_count"
   ]
  },
  {
   "cell_type": "code",
   "execution_count": 101,
   "metadata": {
    "scrolled": true
   },
   "outputs": [
    {
     "data": {
      "text/plain": [
       "event_name\n",
       "MainScreenAppear           119101\n",
       "OffersScreenAppear          46808\n",
       "CartScreenAppear            42668\n",
       "PaymentScreenSuccessful     34118\n",
       "Tutorial                     1018\n",
       "Name: count, dtype: int64"
      ]
     },
     "execution_count": 101,
     "metadata": {},
     "output_type": "execute_result"
    }
   ],
   "source": [
    "# Getting the count for each event\n",
    "event_count = df['event_name'].value_counts()\n",
    "event_count"
   ]
  },
  {
   "cell_type": "code",
   "execution_count": 102,
   "metadata": {
    "scrolled": false
   },
   "outputs": [
    {
     "data": {
      "image/png": "[encoded data removed]",
      "text/plain": [
       "<Figure size 640x480 with 1 Axes>"
      ]
     },
     "metadata": {},
     "output_type": "display_data"
    }
   ],
   "source": [
    "# Plotting a graph to observe the number of occurrences per event\n",
    "event_count.plot(kind='bar', edgecolor='k')\n",
    "plt.xlabel('Nome do Evento')\n",
    "plt.ylabel('Número de Ocorrências')\n",
    "plt.title('Número de Ocorrências por Evento')\n",
    "plt.xticks(rotation=45)\n",
    "plt.grid(True, axis='y')\n",
    "plt.show()"
   ]
  },
  {
   "cell_type": "markdown",
   "metadata": {},
   "source": [
    "Note: The most frequent event is user activity in the main menu of the app, while the least frequent event is the tutorial. This could be because the tutorial isn't mandatory, leading users to potentially skip this step (Hypothesis)"
   ]
  },
  {
   "cell_type": "code",
   "execution_count": 103,
   "metadata": {},
   "outputs": [
    {
     "name": "stdout",
     "output_type": "stream",
     "text": [
      "The number of unique users is 7551.\n"
     ]
    }
   ],
   "source": [
    "# How many users are in the records?\n",
    "\n",
    "# Getting the count of unique users in the records\n",
    "user_count = df['user_id'].nunique()\n",
    "print(f\"The number of unique users is {user_count}.\")"
   ]
  },
  {
   "cell_type": "code",
   "execution_count": 104,
   "metadata": {},
   "outputs": [
    {
     "name": "stdout",
     "output_type": "stream",
     "text": [
      "The average number of events per user is 32.28%\n"
     ]
    }
   ],
   "source": [
    "# What is the average number of events per user?\n",
    "\n",
    "total_events = df['event_name'].count()\n",
    "total_events\n",
    "# Getting the average number of events per user\n",
    "avg_user_per_event = total_events / user_count\n",
    "avg_user_per_event\n",
    "print(f\"The average number of events per user is {avg_user_per_event:.2f}%\")"
   ]
  },
  {
   "cell_type": "code",
   "execution_count": 105,
   "metadata": {},
   "outputs": [
    {
     "name": "stdout",
     "output_type": "stream",
     "text": [
      "The minimum date is: 2019-07-25 00:00:00.\n"
     ]
    }
   ],
   "source": [
    "# What is the time period covered by the data?\n",
    "\n",
    "# Getting the start date of the data\n",
    "df_session_min = df['session_date'].min()\n",
    "print(f\"The minimum date is: {df_session_min}.\")"
   ]
  },
  {
   "cell_type": "code",
   "execution_count": 106,
   "metadata": {},
   "outputs": [
    {
     "name": "stdout",
     "output_type": "stream",
     "text": [
      "The maximum date is: 2019-08-07 00:00:00.\n"
     ]
    }
   ],
   "source": [
    "# Obtaining the last record date\n",
    "df_session_max = df['session_date'].max()\n",
    "print(f\"The maximum date is: {df_session_max}.\")"
   ]
  },
  {
   "cell_type": "code",
   "execution_count": 107,
   "metadata": {
    "scrolled": false
   },
   "outputs": [
    {
     "name": "stderr",
     "output_type": "stream",
     "text": [
      "k:\\Anaconda\\Lib\\site-packages\\seaborn\\_oldcore.py:1119: FutureWarning:\n",
      "\n",
      "use_inf_as_na option is deprecated and will be removed in a future version. Convert inf values to NaN before operating instead.\n",
      "\n"
     ]
    },
    {
     "data": {
      "image/png": "[encoded data removed]",
      "text/plain": [
       "<Figure size 1200x600 with 1 Axes>"
      ]
     },
     "metadata": {},
     "output_type": "display_data"
    }
   ],
   "source": [
    "# Drawing a histogram by date and time. Can you be sure that you have equally complete data for the entire period?\n",
    "\n",
    "# Creating histogram by date and time\n",
    "plt.figure(figsize=(12, 6))\n",
    "sns.histplot(df['event_hour'], bins=50, kde=False)\n",
    "plt.xlabel('Data e Hora')\n",
    "plt.ylabel('Número de eventos')\n",
    "plt.xticks(rotation=45)\n",
    "plt.show()          "
   ]
  },
  {
   "cell_type": "markdown",
   "metadata": {},
   "source": [
    "Note: We do not have complete data for the entire period, so I will separate the data by the date where it becomes more complete."
   ]
  },
  {
   "cell_type": "markdown",
   "metadata": {},
   "source": [
    "# Qual período os dados realmente representam?\n",
    "\n",
    "Note: We will take the data starting from August, as it is when the data becomes more complete."
   ]
  },
  {
   "cell_type": "markdown",
   "metadata": {},
   "source": [
    "# Você perdeu muitos eventos e usuários ao excluir os dados mais antigos?"
   ]
  },
  {
   "cell_type": "code",
   "execution_count": 108,
   "metadata": {},
   "outputs": [],
   "source": [
    "# Filtering the data by the chosen month\n",
    "df_filtered = df.loc[df['event_hour'].dt.month >= 8]"
   ]
  },
  {
   "cell_type": "code",
   "execution_count": 109,
   "metadata": {
    "scrolled": true
   },
   "outputs": [
    {
     "data": {
      "text/html": [
       "<div>\n",
       "<style scoped>\n",
       "    .dataframe tbody tr th:only-of-type {\n",
       "        vertical-align: middle;\n",
       "    }\n",
       "\n",
       "    .dataframe tbody tr th {\n",
       "        vertical-align: top;\n",
       "    }\n",
       "\n",
       "    .dataframe thead th {\n",
       "        text-align: right;\n",
       "    }\n",
       "</style>\n",
       "<table border=\"1\" class=\"dataframe\">\n",
       "  <thead>\n",
       "    <tr style=\"text-align: right;\">\n",
       "      <th></th>\n",
       "      <th>event_name</th>\n",
       "      <th>count</th>\n",
       "    </tr>\n",
       "  </thead>\n",
       "  <tbody>\n",
       "    <tr>\n",
       "      <th>0</th>\n",
       "      <td>MainScreenAppear</td>\n",
       "      <td>119101</td>\n",
       "    </tr>\n",
       "    <tr>\n",
       "      <th>1</th>\n",
       "      <td>OffersScreenAppear</td>\n",
       "      <td>46808</td>\n",
       "    </tr>\n",
       "    <tr>\n",
       "      <th>2</th>\n",
       "      <td>CartScreenAppear</td>\n",
       "      <td>42668</td>\n",
       "    </tr>\n",
       "    <tr>\n",
       "      <th>3</th>\n",
       "      <td>PaymentScreenSuccessful</td>\n",
       "      <td>34118</td>\n",
       "    </tr>\n",
       "    <tr>\n",
       "      <th>4</th>\n",
       "      <td>Tutorial</td>\n",
       "      <td>1018</td>\n",
       "    </tr>\n",
       "  </tbody>\n",
       "</table>\n",
       "</div>"
      ],
      "text/plain": [
       "                event_name   count\n",
       "0         MainScreenAppear  119101\n",
       "1       OffersScreenAppear   46808\n",
       "2         CartScreenAppear   42668\n",
       "3  PaymentScreenSuccessful   34118\n",
       "4                 Tutorial    1018"
      ]
     },
     "execution_count": 109,
     "metadata": {},
     "output_type": "execute_result"
    }
   ],
   "source": [
    "# Values before filtering the data\n",
    "event_count.reset_index()"
   ]
  },
  {
   "cell_type": "code",
   "execution_count": 110,
   "metadata": {
    "scrolled": true
   },
   "outputs": [
    {
     "data": {
      "text/html": [
       "<div>\n",
       "<style scoped>\n",
       "    .dataframe tbody tr th:only-of-type {\n",
       "        vertical-align: middle;\n",
       "    }\n",
       "\n",
       "    .dataframe tbody tr th {\n",
       "        vertical-align: top;\n",
       "    }\n",
       "\n",
       "    .dataframe thead th {\n",
       "        text-align: right;\n",
       "    }\n",
       "</style>\n",
       "<table border=\"1\" class=\"dataframe\">\n",
       "  <thead>\n",
       "    <tr style=\"text-align: right;\">\n",
       "      <th></th>\n",
       "      <th>event_name</th>\n",
       "      <th>count</th>\n",
       "    </tr>\n",
       "  </thead>\n",
       "  <tbody>\n",
       "    <tr>\n",
       "      <th>0</th>\n",
       "      <td>MainScreenAppear</td>\n",
       "      <td>117328</td>\n",
       "    </tr>\n",
       "    <tr>\n",
       "      <th>1</th>\n",
       "      <td>OffersScreenAppear</td>\n",
       "      <td>46333</td>\n",
       "    </tr>\n",
       "    <tr>\n",
       "      <th>2</th>\n",
       "      <td>CartScreenAppear</td>\n",
       "      <td>42303</td>\n",
       "    </tr>\n",
       "    <tr>\n",
       "      <th>3</th>\n",
       "      <td>PaymentScreenSuccessful</td>\n",
       "      <td>33918</td>\n",
       "    </tr>\n",
       "    <tr>\n",
       "      <th>4</th>\n",
       "      <td>Tutorial</td>\n",
       "      <td>1005</td>\n",
       "    </tr>\n",
       "  </tbody>\n",
       "</table>\n",
       "</div>"
      ],
      "text/plain": [
       "                event_name   count\n",
       "0         MainScreenAppear  117328\n",
       "1       OffersScreenAppear   46333\n",
       "2         CartScreenAppear   42303\n",
       "3  PaymentScreenSuccessful   33918\n",
       "4                 Tutorial    1005"
      ]
     },
     "execution_count": 110,
     "metadata": {},
     "output_type": "execute_result"
    }
   ],
   "source": [
    "# Values after filtering\n",
    "event_count_filtered = df_filtered['event_name'].value_counts()\n",
    "event_count_filtered.reset_index()"
   ]
  },
  {
   "cell_type": "code",
   "execution_count": 111,
   "metadata": {
    "scrolled": true
   },
   "outputs": [
    {
     "name": "stdout",
     "output_type": "stream",
     "text": [
      "event_name\n",
      "MainScreenAppear           1773\n",
      "OffersScreenAppear          475\n",
      "CartScreenAppear            365\n",
      "PaymentScreenSuccessful     200\n",
      "Tutorial                     13\n",
      "Name: count, dtype: int64\n",
      "Above we have the number of users lost after filtering the data.\n"
     ]
    }
   ],
   "source": [
    "df_comparsion = event_count - event_count_filtered\n",
    "print(df_comparsion)\n",
    "print(f\"Above we have the number of users lost after filtering the data.\")"
   ]
  },
  {
   "cell_type": "code",
   "execution_count": 112,
   "metadata": {},
   "outputs": [
    {
     "name": "stdout",
     "output_type": "stream",
     "text": [
      "event_name\n",
      "MainScreenAppear           1.488652\n",
      "OffersScreenAppear         1.014784\n",
      "CartScreenAppear           0.855442\n",
      "PaymentScreenSuccessful    0.586201\n",
      "Tutorial                   1.277014\n",
      "Name: count, dtype: float64\n",
      "Above we have the percentage of users lost after filtering the data.\n"
     ]
    }
   ],
   "source": [
    "df_comparsion_percent = df_comparsion / event_count * 100\n",
    "print(df_comparsion_percent)\n",
    "print(f\"Above we have the percentage of users lost after filtering the data.\")"
   ]
  },
  {
   "cell_type": "markdown",
   "metadata": {},
   "source": [
    "Note:  After filtering the data starting from August, where we found more complete records, we observed the loss of some events and users. However, these exclusions are minimal. I believe they will not have a significant impact on the research."
   ]
  },
  {
   "cell_type": "markdown",
   "metadata": {},
   "source": [
    "### Make sure to have users from all three experimental groups."
   ]
  },
  {
   "cell_type": "code",
   "execution_count": 113,
   "metadata": {},
   "outputs": [
    {
     "data": {
      "text/plain": [
       "exp_id\n",
       "248    85582\n",
       "246    80181\n",
       "247    77950\n",
       "Name: count, dtype: int64"
      ]
     },
     "execution_count": 113,
     "metadata": {},
     "output_type": "execute_result"
    }
   ],
   "source": [
    "# Values before data filtering\n",
    "df_exp_count = df['exp_id'].value_counts()\n",
    "df_exp_count"
   ]
  },
  {
   "cell_type": "code",
   "execution_count": 114,
   "metadata": {
    "scrolled": true
   },
   "outputs": [
    {
     "data": {
      "text/plain": [
       "exp_id\n",
       "248    84563\n",
       "246    79302\n",
       "247    77022\n",
       "Name: count, dtype: int64"
      ]
     },
     "execution_count": 114,
     "metadata": {},
     "output_type": "execute_result"
    }
   ],
   "source": [
    "# Values after data filtering\n",
    "df_exp_filtered = df_filtered['exp_id'].value_counts()\n",
    "df_exp_filtered"
   ]
  },
  {
   "cell_type": "markdown",
   "metadata": {},
   "source": [
    "Note: Even after filtering the data, we still have users from all three experimental groups."
   ]
  },
  {
   "cell_type": "code",
   "execution_count": 115,
   "metadata": {
    "scrolled": false
   },
   "outputs": [
    {
     "name": "stderr",
     "output_type": "stream",
     "text": [
      "k:\\Anaconda\\Lib\\site-packages\\seaborn\\_oldcore.py:1119: FutureWarning:\n",
      "\n",
      "use_inf_as_na option is deprecated and will be removed in a future version. Convert inf values to NaN before operating instead.\n",
      "\n"
     ]
    },
    {
     "data": {
      "image/png": "[encoded data removed]",
      "text/plain": [
       "<Figure size 1200x600 with 1 Axes>"
      ]
     },
     "metadata": {},
     "output_type": "display_data"
    }
   ],
   "source": [
    "# Histogram of the filtered data by date and time\n",
    "plt.figure(figsize=(12, 6))\n",
    "sns.histplot(df_filtered['event_hour'], bins=50, kde=False)\n",
    "plt.xlabel('Data e Hora')\n",
    "plt.ylabel('Número de eventos')\n",
    "plt.xticks(rotation=45)\n",
    "plt.show()          "
   ]
  },
  {
   "cell_type": "markdown",
   "metadata": {},
   "source": [
    "Note: We can clearly see that the data starting from the date 2019-08-01 is more complete than the previous records."
   ]
  },
  {
   "cell_type": "markdown",
   "metadata": {},
   "source": [
    "# Study of event endings\n",
    "\n",
    "See which events are in the logs and their frequency of occurrence. Sort them by frequency."
   ]
  },
  {
   "cell_type": "code",
   "execution_count": 116,
   "metadata": {},
   "outputs": [
    {
     "data": {
      "text/html": [
       "<div>\n",
       "<style scoped>\n",
       "    .dataframe tbody tr th:only-of-type {\n",
       "        vertical-align: middle;\n",
       "    }\n",
       "\n",
       "    .dataframe tbody tr th {\n",
       "        vertical-align: top;\n",
       "    }\n",
       "\n",
       "    .dataframe thead th {\n",
       "        text-align: right;\n",
       "    }\n",
       "</style>\n",
       "<table border=\"1\" class=\"dataframe\">\n",
       "  <thead>\n",
       "    <tr style=\"text-align: right;\">\n",
       "      <th></th>\n",
       "      <th>event_name</th>\n",
       "      <th>frequency</th>\n",
       "    </tr>\n",
       "  </thead>\n",
       "  <tbody>\n",
       "    <tr>\n",
       "      <th>0</th>\n",
       "      <td>MainScreenAppear</td>\n",
       "      <td>117328</td>\n",
       "    </tr>\n",
       "    <tr>\n",
       "      <th>1</th>\n",
       "      <td>OffersScreenAppear</td>\n",
       "      <td>46333</td>\n",
       "    </tr>\n",
       "    <tr>\n",
       "      <th>2</th>\n",
       "      <td>CartScreenAppear</td>\n",
       "      <td>42303</td>\n",
       "    </tr>\n",
       "    <tr>\n",
       "      <th>3</th>\n",
       "      <td>PaymentScreenSuccessful</td>\n",
       "      <td>33918</td>\n",
       "    </tr>\n",
       "    <tr>\n",
       "      <th>4</th>\n",
       "      <td>Tutorial</td>\n",
       "      <td>1005</td>\n",
       "    </tr>\n",
       "  </tbody>\n",
       "</table>\n",
       "</div>"
      ],
      "text/plain": [
       "                event_name  frequency\n",
       "0         MainScreenAppear     117328\n",
       "1       OffersScreenAppear      46333\n",
       "2         CartScreenAppear      42303\n",
       "3  PaymentScreenSuccessful      33918\n",
       "4                 Tutorial       1005"
      ]
     },
     "execution_count": 116,
     "metadata": {},
     "output_type": "execute_result"
    }
   ],
   "source": [
    "# Displaying the event frequency\n",
    "event_count_filtered = df_filtered['event_name'].value_counts().reset_index()\n",
    "event_count_filtered.columns = ['event_name', 'frequency']\n",
    "event_count_filtered = event_count_filtered.sort_values(by='frequency', ascending=False).reset_index(drop=True)\n",
    "event_count_filtered"
   ]
  },
  {
   "cell_type": "markdown",
   "metadata": {},
   "source": [
    "## Find the number of users who performed each of these actions. Sort the events by the number of users. Calculate the proportion of users who performed the action at least once."
   ]
  },
  {
   "cell_type": "code",
   "execution_count": 117,
   "metadata": {
    "scrolled": true
   },
   "outputs": [
    {
     "data": {
      "text/plain": [
       "0    0.984736\n",
       "1    0.609636\n",
       "2    0.495620\n",
       "3    0.469737\n",
       "4    0.111495\n",
       "Name: proportion, dtype: float64"
      ]
     },
     "execution_count": 117,
     "metadata": {},
     "output_type": "execute_result"
    }
   ],
   "source": [
    "user_counts = df_filtered.groupby('event_name')['user_id'].nunique().reset_index() # Grouping the data\n",
    "user_counts.columns = ['event_name', 'numb_user'] # Renaming the columns\n",
    "user_counts = user_counts.sort_values(by='numb_user', ascending=False).reset_index(drop=True)\n",
    "#user_counts_per_events\n",
    "total_user = df_filtered['user_id'].nunique() # Calculating the total number of unique users\n",
    "user_counts['proportion'] = user_counts['numb_user'] / total_user\n",
    "user_counts['proportion']"
   ]
  },
  {
   "cell_type": "markdown",
   "metadata": {},
   "source": [
    "## What order do you think the actions occurred in? Do they all belong to a single sequence? You don't need to consider them when calculating the funnel."
   ]
  },
  {
   "cell_type": "markdown",
   "metadata": {},
   "source": [
    "Note: The event MainScreenAppear is the most frequent, indicating that most users view the main screen.\n",
    "\n",
    "Next, the event OffersScreenAppear is the second most frequent, suggesting that many users who view the main screen also access the offers screen.\n",
    "\n",
    "The CartScreenAppear event occurs less frequently than MainScreenAppear and OffersScreenAppear, but it is still significant.\n",
    "\n",
    "Only a fraction of users who reach the cart screen successfully complete the payment in the PaymentScreenSuccessful event.\n",
    "\n",
    "Lastly, the Tutorial event is the least frequent, being accessed by a minority of users.\n",
    "\n",
    "Not all events are part of the same sequence; a small percentage of users start with the tutorial, even though it is not mandatory."
   ]
  },
  {
   "cell_type": "markdown",
   "metadata": {},
   "source": [
    "## Use the event funnel to find the proportion of users who move from one stage to the next (for example, for the event sequence A → B → C, calculate the proportion of users at stage B to the number of users at stage A, and the proportion of users at stage C to the number at stage B)."
   ]
  },
  {
   "cell_type": "raw",
   "metadata": {
    "scrolled": false
   },
   "source": [
    "# Contando e renomeando as colunas por eventos\n",
    "event_counts = df_filtered['event_name'].value_counts().reset_index()\n",
    "event_counts.columns = ['event_name', 'count'] # Renomeando as colunas\n",
    "\n",
    "# calculando a porcentagem que cada evento representa do total de eventos\n",
    "total_events = event_counts['count'].sum()\n",
    "event_counts['percentage'] = (event_counts['count'] / total_events) * 100\n",
    "\n",
    "# Criando o gráfico de funil\n",
    "fig = go.Figure(go.Funnel(\n",
    "    y = event_counts['event_name'],\n",
    "    x = event_counts['percentage'],\n",
    "    textinfo = \"value+percent initial\"\n",
    "))\n",
    "\n",
    "fig.update_layout(\n",
    "    title = \"Event Funnel\",\n",
    "    yaxis_title = \"Events\",\n",
    "    xaxis_title = \"Percentage (%)\"\n",
    ")\n",
    "\n",
    "fig.show() # Exibindo o gráfico"
   ]
  },
  {
   "cell_type": "code",
   "execution_count": 118,
   "metadata": {},
   "outputs": [
    {
     "data": {
      "application/vnd.plotly.v1+json": {
       "config": {
        "plotlyServerURL": "https://plot.ly"
       },
       "data": [
        {
         "connector": {
          "line": {
           "color": "royalblue",
           "dash": "dot"
          }
         },
         "name": "Event Funnel",
         "textinfo": "value+percent initial",
         "type": "funnel",
         "x": [
          48.7066549876083,
          19.234329789486356,
          17.561346191367736,
          14.080460963024159,
          0.4172080685134524
         ],
         "y": [
          "MainScreenAppear",
          "OffersScreenAppear",
          "CartScreenAppear",
          "PaymentScreenSuccessful",
          "Tutorial"
         ]
        }
       ],
       "layout": {
        "annotations": [
         {
          "align": "left",
          "font": {
           "color": "black",
           "size": 12
          },
          "showarrow": false,
          "text": "7419 users",
          "x": 100,
          "y": 0
         },
         {
          "align": "left",
          "font": {
           "color": "black",
           "size": 12
          },
          "showarrow": false,
          "text": "4593 users",
          "x": 100,
          "y": 1
         },
         {
          "align": "left",
          "font": {
           "color": "black",
           "size": 12
          },
          "showarrow": false,
          "text": "3734 users",
          "x": 100,
          "y": 2
         },
         {
          "align": "left",
          "font": {
           "color": "black",
           "size": 12
          },
          "showarrow": false,
          "text": "3539 users",
          "x": 100,
          "y": 3
         },
         {
          "align": "left",
          "font": {
           "color": "black",
           "size": 12
          },
          "showarrow": false,
          "text": "840 users",
          "x": 100,
          "y": 4
         }
        ],
        "template": {
         "data": {
          "bar": [
           {
            "error_x": {
             "color": "#2a3f5f"
            },
            "error_y": {
             "color": "#2a3f5f"
            },
            "marker": {
             "line": {
              "color": "#E5ECF6",
              "width": 0.5
             },
             "pattern": {
              "fillmode": "overlay",
              "size": 10,
              "solidity": 0.2
             }
            },
            "type": "bar"
           }
          ],
          "barpolar": [
           {
            "marker": {
             "line": {
              "color": "#E5ECF6",
              "width": 0.5
             },
             "pattern": {
              "fillmode": "overlay",
              "size": 10,
              "solidity": 0.2
             }
            },
            "type": "barpolar"
           }
          ],
          "carpet": [
           {
            "aaxis": {
             "endlinecolor": "#2a3f5f",
             "gridcolor": "white",
             "linecolor": "white",
             "minorgridcolor": "white",
             "startlinecolor": "#2a3f5f"
            },
            "baxis": {
             "endlinecolor": "#2a3f5f",
             "gridcolor": "white",
             "linecolor": "white",
             "minorgridcolor": "white",
             "startlinecolor": "#2a3f5f"
            },
            "type": "carpet"
           }
          ],
          "choropleth": [
           {
            "colorbar": {
             "outlinewidth": 0,
             "ticks": ""
            },
            "type": "choropleth"
           }
          ],
          "contour": [
           {
            "colorbar": {
             "outlinewidth": 0,
             "ticks": ""
            },
            "colorscale": [
             [
              0,
              "#0d0887"
             ],
             [
              0.1111111111111111,
              "#46039f"
             ],
             [
              0.2222222222222222,
              "#7201a8"
             ],
             [
              0.3333333333333333,
              "#9c179e"
             ],
             [
              0.4444444444444444,
              "#bd3786"
             ],
             [
              0.5555555555555556,
              "#d8576b"
             ],
             [
              0.6666666666666666,
              "#ed7953"
             ],
             [
              0.7777777777777778,
              "#fb9f3a"
             ],
             [
              0.8888888888888888,
              "#fdca26"
             ],
             [
              1,
              "#f0f921"
             ]
            ],
            "type": "contour"
           }
          ],
          "contourcarpet": [
           {
            "colorbar": {
             "outlinewidth": 0,
             "ticks": ""
            },
            "type": "contourcarpet"
           }
          ],
          "heatmap": [
           {
            "colorbar": {
             "outlinewidth": 0,
             "ticks": ""
            },
            "colorscale": [
             [
              0,
              "#0d0887"
             ],
             [
              0.1111111111111111,
              "#46039f"
             ],
             [
              0.2222222222222222,
              "#7201a8"
             ],
             [
              0.3333333333333333,
              "#9c179e"
             ],
             [
              0.4444444444444444,
              "#bd3786"
             ],
             [
              0.5555555555555556,
              "#d8576b"
             ],
             [
              0.6666666666666666,
              "#ed7953"
             ],
             [
              0.7777777777777778,
              "#fb9f3a"
             ],
             [
              0.8888888888888888,
              "#fdca26"
             ],
             [
              1,
              "#f0f921"
             ]
            ],
            "type": "heatmap"
           }
          ],
          "heatmapgl": [
           {
            "colorbar": {
             "outlinewidth": 0,
             "ticks": ""
            },
            "colorscale": [
             [
              0,
              "#0d0887"
             ],
             [
              0.1111111111111111,
              "#46039f"
             ],
             [
              0.2222222222222222,
              "#7201a8"
             ],
             [
              0.3333333333333333,
              "#9c179e"
             ],
             [
              0.4444444444444444,
              "#bd3786"
             ],
             [
              0.5555555555555556,
              "#d8576b"
             ],
             [
              0.6666666666666666,
              "#ed7953"
             ],
             [
              0.7777777777777778,
              "#fb9f3a"
             ],
             [
              0.8888888888888888,
              "#fdca26"
             ],
             [
              1,
              "#f0f921"
             ]
            ],
            "type": "heatmapgl"
           }
          ],
          "histogram": [
           {
            "marker": {
             "pattern": {
              "fillmode": "overlay",
              "size": 10,
              "solidity": 0.2
             }
            },
            "type": "histogram"
           }
          ],
          "histogram2d": [
           {
            "colorbar": {
             "outlinewidth": 0,
             "ticks": ""
            },
            "colorscale": [
             [
              0,
              "#0d0887"
             ],
             [
              0.1111111111111111,
              "#46039f"
             ],
             [
              0.2222222222222222,
              "#7201a8"
             ],
             [
              0.3333333333333333,
              "#9c179e"
             ],
             [
              0.4444444444444444,
              "#bd3786"
             ],
             [
              0.5555555555555556,
              "#d8576b"
             ],
             [
              0.6666666666666666,
              "#ed7953"
             ],
             [
              0.7777777777777778,
              "#fb9f3a"
             ],
             [
              0.8888888888888888,
              "#fdca26"
             ],
             [
              1,
              "#f0f921"
             ]
            ],
            "type": "histogram2d"
           }
          ],
          "histogram2dcontour": [
           {
            "colorbar": {
             "outlinewidth": 0,
             "ticks": ""
            },
            "colorscale": [
             [
              0,
              "#0d0887"
             ],
             [
              0.1111111111111111,
              "#46039f"
             ],
             [
              0.2222222222222222,
              "#7201a8"
             ],
             [
              0.3333333333333333,
              "#9c179e"
             ],
             [
              0.4444444444444444,
              "#bd3786"
             ],
             [
              0.5555555555555556,
              "#d8576b"
             ],
             [
              0.6666666666666666,
              "#ed7953"
             ],
             [
              0.7777777777777778,
              "#fb9f3a"
             ],
             [
              0.8888888888888888,
              "#fdca26"
             ],
             [
              1,
              "#f0f921"
             ]
            ],
            "type": "histogram2dcontour"
           }
          ],
          "mesh3d": [
           {
            "colorbar": {
             "outlinewidth": 0,
             "ticks": ""
            },
            "type": "mesh3d"
           }
          ],
          "parcoords": [
           {
            "line": {
             "colorbar": {
              "outlinewidth": 0,
              "ticks": ""
             }
            },
            "type": "parcoords"
           }
          ],
          "pie": [
           {
            "automargin": true,
            "type": "pie"
           }
          ],
          "scatter": [
           {
            "fillpattern": {
             "fillmode": "overlay",
             "size": 10,
             "solidity": 0.2
            },
            "type": "scatter"
           }
          ],
          "scatter3d": [
           {
            "line": {
             "colorbar": {
              "outlinewidth": 0,
              "ticks": ""
             }
            },
            "marker": {
             "colorbar": {
              "outlinewidth": 0,
              "ticks": ""
             }
            },
            "type": "scatter3d"
           }
          ],
          "scattercarpet": [
           {
            "marker": {
             "colorbar": {
              "outlinewidth": 0,
              "ticks": ""
             }
            },
            "type": "scattercarpet"
           }
          ],
          "scattergeo": [
           {
            "marker": {
             "colorbar": {
              "outlinewidth": 0,
              "ticks": ""
             }
            },
            "type": "scattergeo"
           }
          ],
          "scattergl": [
           {
            "marker": {
             "colorbar": {
              "outlinewidth": 0,
              "ticks": ""
             }
            },
            "type": "scattergl"
           }
          ],
          "scattermapbox": [
           {
            "marker": {
             "colorbar": {
              "outlinewidth": 0,
              "ticks": ""
             }
            },
            "type": "scattermapbox"
           }
          ],
          "scatterpolar": [
           {
            "marker": {
             "colorbar": {
              "outlinewidth": 0,
              "ticks": ""
             }
            },
            "type": "scatterpolar"
           }
          ],
          "scatterpolargl": [
           {
            "marker": {
             "colorbar": {
              "outlinewidth": 0,
              "ticks": ""
             }
            },
            "type": "scatterpolargl"
           }
          ],
          "scatterternary": [
           {
            "marker": {
             "colorbar": {
              "outlinewidth": 0,
              "ticks": ""
             }
            },
            "type": "scatterternary"
           }
          ],
          "surface": [
           {
            "colorbar": {
             "outlinewidth": 0,
             "ticks": ""
            },
            "colorscale": [
             [
              0,
              "#0d0887"
             ],
             [
              0.1111111111111111,
              "#46039f"
             ],
             [
              0.2222222222222222,
              "#7201a8"
             ],
             [
              0.3333333333333333,
              "#9c179e"
             ],
             [
              0.4444444444444444,
              "#bd3786"
             ],
             [
              0.5555555555555556,
              "#d8576b"
             ],
             [
              0.6666666666666666,
              "#ed7953"
             ],
             [
              0.7777777777777778,
              "#fb9f3a"
             ],
             [
              0.8888888888888888,
              "#fdca26"
             ],
             [
              1,
              "#f0f921"
             ]
            ],
            "type": "surface"
           }
          ],
          "table": [
           {
            "cells": {
             "fill": {
              "color": "#EBF0F8"
             },
             "line": {
              "color": "white"
             }
            },
            "header": {
             "fill": {
              "color": "#C8D4E3"
             },
             "line": {
              "color": "white"
             }
            },
            "type": "table"
           }
          ]
         },
         "layout": {
          "annotationdefaults": {
           "arrowcolor": "#2a3f5f",
           "arrowhead": 0,
           "arrowwidth": 1
          },
          "autotypenumbers": "strict",
          "coloraxis": {
           "colorbar": {
            "outlinewidth": 0,
            "ticks": ""
           }
          },
          "colorscale": {
           "diverging": [
            [
             0,
             "#8e0152"
            ],
            [
             0.1,
             "#c51b7d"
            ],
            [
             0.2,
             "#de77ae"
            ],
            [
             0.3,
             "#f1b6da"
            ],
            [
             0.4,
             "#fde0ef"
            ],
            [
             0.5,
             "#f7f7f7"
            ],
            [
             0.6,
             "#e6f5d0"
            ],
            [
             0.7,
             "#b8e186"
            ],
            [
             0.8,
             "#7fbc41"
            ],
            [
             0.9,
             "#4d9221"
            ],
            [
             1,
             "#276419"
            ]
           ],
           "sequential": [
            [
             0,
             "#0d0887"
            ],
            [
             0.1111111111111111,
             "#46039f"
            ],
            [
             0.2222222222222222,
             "#7201a8"
            ],
            [
             0.3333333333333333,
             "#9c179e"
            ],
            [
             0.4444444444444444,
             "#bd3786"
            ],
            [
             0.5555555555555556,
             "#d8576b"
            ],
            [
             0.6666666666666666,
             "#ed7953"
            ],
            [
             0.7777777777777778,
             "#fb9f3a"
            ],
            [
             0.8888888888888888,
             "#fdca26"
            ],
            [
             1,
             "#f0f921"
            ]
           ],
           "sequentialminus": [
            [
             0,
             "#0d0887"
            ],
            [
             0.1111111111111111,
             "#46039f"
            ],
            [
             0.2222222222222222,
             "#7201a8"
            ],
            [
             0.3333333333333333,
             "#9c179e"
            ],
            [
             0.4444444444444444,
             "#bd3786"
            ],
            [
             0.5555555555555556,
             "#d8576b"
            ],
            [
             0.6666666666666666,
             "#ed7953"
            ],
            [
             0.7777777777777778,
             "#fb9f3a"
            ],
            [
             0.8888888888888888,
             "#fdca26"
            ],
            [
             1,
             "#f0f921"
            ]
           ]
          },
          "colorway": [
           "#636efa",
           "#EF553B",
           "#00cc96",
           "#ab63fa",
           "#FFA15A",
           "#19d3f3",
           "#FF6692",
           "#B6E880",
           "#FF97FF",
           "#FECB52"
          ],
          "font": {
           "color": "#2a3f5f"
          },
          "geo": {
           "bgcolor": "white",
           "lakecolor": "white",
           "landcolor": "#E5ECF6",
           "showlakes": true,
           "showland": true,
           "subunitcolor": "white"
          },
          "hoverlabel": {
           "align": "left"
          },
          "hovermode": "closest",
          "mapbox": {
           "style": "light"
          },
          "paper_bgcolor": "white",
          "plot_bgcolor": "#E5ECF6",
          "polar": {
           "angularaxis": {
            "gridcolor": "white",
            "linecolor": "white",
            "ticks": ""
           },
           "bgcolor": "#E5ECF6",
           "radialaxis": {
            "gridcolor": "white",
            "linecolor": "white",
            "ticks": ""
           }
          },
          "scene": {
           "xaxis": {
            "backgroundcolor": "#E5ECF6",
            "gridcolor": "white",
            "gridwidth": 2,
            "linecolor": "white",
            "showbackground": true,
            "ticks": "",
            "zerolinecolor": "white"
           },
           "yaxis": {
            "backgroundcolor": "#E5ECF6",
            "gridcolor": "white",
            "gridwidth": 2,
            "linecolor": "white",
            "showbackground": true,
            "ticks": "",
            "zerolinecolor": "white"
           },
           "zaxis": {
            "backgroundcolor": "#E5ECF6",
            "gridcolor": "white",
            "gridwidth": 2,
            "linecolor": "white",
            "showbackground": true,
            "ticks": "",
            "zerolinecolor": "white"
           }
          },
          "shapedefaults": {
           "line": {
            "color": "#2a3f5f"
           }
          },
          "ternary": {
           "aaxis": {
            "gridcolor": "white",
            "linecolor": "white",
            "ticks": ""
           },
           "baxis": {
            "gridcolor": "white",
            "linecolor": "white",
            "ticks": ""
           },
           "bgcolor": "#E5ECF6",
           "caxis": {
            "gridcolor": "white",
            "linecolor": "white",
            "ticks": ""
           }
          },
          "title": {
           "x": 0.05
          },
          "xaxis": {
           "automargin": true,
           "gridcolor": "white",
           "linecolor": "white",
           "ticks": "",
           "title": {
            "standoff": 15
           },
           "zerolinecolor": "white",
           "zerolinewidth": 2
          },
          "yaxis": {
           "automargin": true,
           "gridcolor": "white",
           "linecolor": "white",
           "ticks": "",
           "title": {
            "standoff": 15
           },
           "zerolinecolor": "white",
           "zerolinewidth": 2
          }
         }
        },
        "title": {
         "text": "Event Funnel"
        },
        "xaxis": {
         "title": {
          "text": "Percentage (%)"
         }
        },
        "yaxis": {
         "title": {
          "text": "Events"
         }
        }
       }
      }
     },
     "metadata": {},
     "output_type": "display_data"
    }
   ],
   "source": [
    "# Counting and renaming columns by events\n",
    "event_counts = df_filtered['event_name'].value_counts().reset_index()\n",
    "event_counts.columns = ['event_name', 'count'] # Renaming the columns\n",
    "\n",
    "# Calculating the percentage each event represents of the total events\n",
    "total_events = event_counts['count'].sum()\n",
    "event_counts['percentage'] = (event_counts['count'] / total_events) * 100\n",
    "\n",
    "# Calculating the absolute number of users at each stage of the funnel\n",
    "user_counts = df_filtered.groupby('event_name')['user_id'].nunique().reset_index()\n",
    "user_counts.columns = ['event_name', 'num_users']\n",
    "\n",
    "# Creating the funnel chart with the absolute number of users\n",
    "fig = go.Figure(go.Funnel(\n",
    "    y = event_counts['event_name'],\n",
    "    x = event_counts['percentage'],\n",
    "    textinfo = \"value+percent initial\",\n",
    "    connector = {\"line\": {\"color\": \"royalblue\", \"dash\": \"dot\"}},\n",
    "    name = \"Event Funnel\"\n",
    "))\n",
    "\n",
    "fig.update_layout(\n",
    "    title = \"Event Funnel\",\n",
    "    yaxis_title = \"Events\",\n",
    "    xaxis_title = \"Percentage (%)\"\n",
    ")\n",
    "\n",
    "# Adding the absolute number of users at each stage\n",
    "for i in range(len(event_counts)):\n",
    "    event = event_counts.loc[i, 'event_name']\n",
    "    num_users = user_counts[user_counts['event_name'] == event]['num_users'].values[0]\n",
    "    fig.add_annotation(\n",
    "        x = 100, y = i,\n",
    "        text = f\"{num_users} users\",\n",
    "        showarrow = False,\n",
    "        font = dict(size=12, color=\"black\"),\n",
    "        align = \"left\"\n",
    "    )\n",
    "\n",
    "fig.show()\n"
   ]
  },
  {
   "cell_type": "markdown",
   "metadata": {},
   "source": [
    "Note:\n",
    "\n",
    "After creating the funnel, we can better identify the percentage of users who passed through each stage.\n",
    "\n",
    "Only 14.1% of users completed the entire process through to payment.\n",
    "\n",
    "We can also see a significant drop-off in users at the offers screen stage.\n",
    "\n",
    "80.2% of users who reached the cart stage completed their orders."
   ]
  },
  {
   "cell_type": "markdown",
   "metadata": {},
   "source": [
    "## Em qual fase você perde mais usuários?\n",
    "\n",
    "Note: We observed a higher drop-off of users on the payment screen, indicating that not everyone is completing their orders."
   ]
  },
  {
   "cell_type": "code",
   "execution_count": 119,
   "metadata": {},
   "outputs": [
    {
     "data": {
      "text/html": [
       "<div>\n",
       "<style scoped>\n",
       "    .dataframe tbody tr th:only-of-type {\n",
       "        vertical-align: middle;\n",
       "    }\n",
       "\n",
       "    .dataframe tbody tr th {\n",
       "        vertical-align: top;\n",
       "    }\n",
       "\n",
       "    .dataframe thead th {\n",
       "        text-align: right;\n",
       "    }\n",
       "</style>\n",
       "<table border=\"1\" class=\"dataframe\">\n",
       "  <thead>\n",
       "    <tr style=\"text-align: right;\">\n",
       "      <th></th>\n",
       "      <th>event_name</th>\n",
       "      <th>count</th>\n",
       "      <th>percentage</th>\n",
       "    </tr>\n",
       "  </thead>\n",
       "  <tbody>\n",
       "    <tr>\n",
       "      <th>0</th>\n",
       "      <td>MainScreenAppear</td>\n",
       "      <td>117328</td>\n",
       "      <td>48.706655</td>\n",
       "    </tr>\n",
       "    <tr>\n",
       "      <th>1</th>\n",
       "      <td>OffersScreenAppear</td>\n",
       "      <td>46333</td>\n",
       "      <td>19.234330</td>\n",
       "    </tr>\n",
       "    <tr>\n",
       "      <th>2</th>\n",
       "      <td>CartScreenAppear</td>\n",
       "      <td>42303</td>\n",
       "      <td>17.561346</td>\n",
       "    </tr>\n",
       "    <tr>\n",
       "      <th>3</th>\n",
       "      <td>PaymentScreenSuccessful</td>\n",
       "      <td>33918</td>\n",
       "      <td>14.080461</td>\n",
       "    </tr>\n",
       "    <tr>\n",
       "      <th>4</th>\n",
       "      <td>Tutorial</td>\n",
       "      <td>1005</td>\n",
       "      <td>0.417208</td>\n",
       "    </tr>\n",
       "  </tbody>\n",
       "</table>\n",
       "</div>"
      ],
      "text/plain": [
       "                event_name   count  percentage\n",
       "0         MainScreenAppear  117328   48.706655\n",
       "1       OffersScreenAppear   46333   19.234330\n",
       "2         CartScreenAppear   42303   17.561346\n",
       "3  PaymentScreenSuccessful   33918   14.080461\n",
       "4                 Tutorial    1005    0.417208"
      ]
     },
     "execution_count": 119,
     "metadata": {},
     "output_type": "execute_result"
    }
   ],
   "source": [
    "event_counts"
   ]
  },
  {
   "cell_type": "markdown",
   "metadata": {},
   "source": [
    "## What percentage of users follow the entire path from the first event to payment?\n",
    "\n",
    "Note: Only 14.1% of users go through the entire path to payment."
   ]
  },
  {
   "cell_type": "markdown",
   "metadata": {},
   "source": [
    "## How many users are in each group?"
   ]
  },
  {
   "cell_type": "code",
   "execution_count": 120,
   "metadata": {
    "scrolled": false
   },
   "outputs": [
    {
     "name": "stdout",
     "output_type": "stream",
     "text": [
      "Users in group 246: 2484\n",
      "Users in group 247: 2513\n",
      "Users in group 248: 2537\n"
     ]
    }
   ],
   "source": [
    "# Filter for user group [246]\n",
    "filter_246 = df_filtered[df_filtered['exp_id'] == 246]\n",
    "users_246 = filter_246['user_id'].nunique()\n",
    "\n",
    "# Filter for user group [247]\n",
    "filter_247 = df_filtered[df_filtered['exp_id'] == 247]\n",
    "users_247 = filter_247['user_id'].nunique()\n",
    "\n",
    "# Filter for user group [248]\n",
    "filter_248 = df_filtered[df_filtered['exp_id'] == 248]\n",
    "users_248 = filter_248['user_id'].nunique()\n",
    "\n",
    "# Exibir os resultados\n",
    "print(f\"Users in group 246: {users_246}\")\n",
    "print(f\"Users in group 247: {users_247}\")\n",
    "print(f\"Users in group 248: {users_248}\")"
   ]
  },
  {
   "cell_type": "code",
   "execution_count": 121,
   "metadata": {},
   "outputs": [
    {
     "data": {
      "image/png": "[encoded data removed]",
      "text/plain": [
       "<Figure size 800x600 with 1 Axes>"
      ]
     },
     "metadata": {},
     "output_type": "display_data"
    }
   ],
   "source": [
    "# Counting users in each group\n",
    "users = [users_246, users_247, users_248]\n",
    "group = ['Grupo 246', 'Grupo 247', 'Grupo 248']\n",
    "\n",
    "# Creating a horizontal bar chart\n",
    "plt.figure(figsize=(8, 6))\n",
    "plt.bar(group, users, color=['blue', 'green', 'orange'])\n",
    "plt.xlabel('Número de Usuários')\n",
    "plt.ylabel('Grupos de Experimento')\n",
    "plt.title('Número de Usuários em Cada Grupo de Experimento')\n",
    "plt.grid(True)\n",
    "plt.show()"
   ]
  },
  {
   "cell_type": "markdown",
   "metadata": {},
   "source": [
    "## Filter to count users in the control groups (246, 247) and test group (248)"
   ]
  },
  {
   "cell_type": "code",
   "execution_count": 122,
   "metadata": {},
   "outputs": [
    {
     "name": "stdout",
     "output_type": "stream",
     "text": [
      "In group A/A (control) there are: 4997 usuários\n",
      "In group B (test) there are: 2537 usuários\n"
     ]
    }
   ],
   "source": [
    "# Filter for group A/A\n",
    "group_A_A = users_246 + users_247\n",
    "# Filter for group B\n",
    "group_B = users_248\n",
    "\n",
    "print(f\"In group A/A (control) there are: {group_A_A} usuários\")\n",
    "print(f\"In group B (test) there are: {group_B} usuários\")"
   ]
  },
  {
   "cell_type": "markdown",
   "metadata": {},
   "source": [
    "## We have two control groups in the A/A test, where we verify our mechanisms and calculations. Check if there is a statistically significant difference between samples 246 and 247."
   ]
  },
  {
   "cell_type": "code",
   "execution_count": 123,
   "metadata": {},
   "outputs": [
    {
     "name": "stdout",
     "output_type": "stream",
     "text": [
      "t-test result: t-statistic = 0.7415177814595091, p-value = 0.4584152588842866\n",
      "There is no statistically significant difference between the groups\n"
     ]
    }
   ],
   "source": [
    "# Counting the number of events per user in each group\n",
    "events_per_user_246 = filter_246.groupby('user_id').size()\n",
    "events_per_user_247 = filter_247.groupby('user_id').size()\n",
    "\n",
    "# Performing Student's t-test for two samples\n",
    "t_stat, p_value = stats.ttest_ind(events_per_user_246, events_per_user_247, equal_var=False)\n",
    "\n",
    "# Display the result\n",
    "print(f\"t-test result: t-statistic = {t_stat}, p-value = {p_value}\")\n",
    "\n",
    "# Alpha value\n",
    "alpha = 0.05\n",
    "if p_value < alpha:\n",
    "    print(\"There is a statistically significant difference between the groups\")\n",
    "else:\n",
    "    print(\"There is no statistically significant difference between the groups\")"
   ]
  },
  {
   "cell_type": "markdown",
   "metadata": {},
   "source": [
    "Note: There is no statistically significant difference between groups 246 and 247."
   ]
  },
  {
   "cell_type": "markdown",
   "metadata": {},
   "source": [
    "## Select the most popular event. In each control group, find the number of users who performed this action. Find their proportion. Check if the difference between the groups is statistically significant. Repeat the procedure for all other events (it will save time if you create a special function for this test). Can you confirm if the groups were split correctly?"
   ]
  },
  {
   "cell_type": "code",
   "execution_count": 124,
   "metadata": {},
   "outputs": [
    {
     "name": "stdout",
     "output_type": "stream",
     "text": [
      "Most popular event in the group 246: MainScreenAppear\n",
      "Proportion of users who performed the event in the group 246: 0.9863%\n",
      "Most popular event in the group 247: MainScreenAppear\n",
      "Proportion of users who performed the event in the group 247: 0.9853%\n",
      "Proportion test (Z-score): Z = 0.3093, Valor p = 0.7571\n",
      "There is no statistically significant difference between the groups\n"
     ]
    }
   ],
   "source": [
    "# Function to perform the proportion test between the most popular events of two groups\n",
    "\n",
    "def teste_proporcao_eventos_populares(df, grupo1, grupo2):\n",
    "    #  Filtering data for each group\n",
    "    df_grupo1 = df[df['exp_id'] == grupo1]\n",
    "    df_grupo2 = df[df['exp_id'] == grupo2]\n",
    "    \n",
    "    # Finding the most popular event in each group\n",
    "    eventos_populares_grupo1 = df_grupo1['event_name'].value_counts().idxmax()\n",
    "    eventos_populares_grupo2 = df_grupo2['event_name'].value_counts().idxmax()\n",
    "    \n",
    "    # Calculating how many users performed the most popular event in each group\n",
    "    usuarios_evento_grupo1 = df_grupo1[df_grupo1['event_name'] == eventos_populares_grupo1]['user_id'].nunique()\n",
    "    usuarios_evento_grupo2 = df_grupo2[df_grupo2['event_name'] == eventos_populares_grupo2]['user_id'].nunique()\n",
    "    \n",
    "    # Calculating the total number of users in each group\n",
    "    total_usuarios_grupo1 = df_grupo1['user_id'].nunique()\n",
    "    total_usuarios_grupo2 = df_grupo2['user_id'].nunique()\n",
    "    \n",
    "    # Calculating the proportion of users who performed the most popular event relative to the total number of users in each group\n",
    "    proporcao_grupo1 = usuarios_evento_grupo1 / total_usuarios_grupo1\n",
    "    proporcao_grupo2 = usuarios_evento_grupo2 / total_usuarios_grupo2\n",
    "    \n",
    "    # Performing the proportion test (Z-score) to check for statistical significance between the groupss\n",
    "    # Defining the variables\n",
    "    \n",
    "    n1 = total_usuarios_grupo1\n",
    "    n2 = total_usuarios_grupo2\n",
    "    p1 = proporcao_grupo1\n",
    "    p2 = proporcao_grupo2\n",
    "    \n",
    "    # Calculating the pooled proportion and Z-score\n",
    "    p_pool = (usuarios_evento_grupo1 + usuarios_evento_grupo2) / (n1 + n2) \n",
    "    z_score = (p1 - p2) / ((p_pool * (1 - p_pool) * (1 / n1 + 1 / n2)) ** 0.5)\n",
    "    \n",
    "    # Calculating the p-value for the two-tailed test\n",
    "    p_value = 2 * (1 - stats.norm.cdf(abs(z_score)))\n",
    "    \n",
    "   \n",
    "    print(f\"Most popular event in the group {grupo1}: {eventos_populares_grupo1}\")\n",
    "    print(f\"Proportion of users who performed the event in the group {grupo1}: {proporcao_grupo1:.4f}%\")\n",
    "    print(f\"Most popular event in the group {grupo2}: {eventos_populares_grupo2}\")\n",
    "    print(f\"Proportion of users who performed the event in the group {grupo2}: {proporcao_grupo2:.4f}%\")\n",
    "    print(f\"Proportion test (Z-score): Z = {z_score:.4f}, Valor p = {p_value:.4f}\")\n",
    "    \n",
    "  \n",
    "    if p_value < 0.05:\n",
    "        print(\"Statistically significant difference between the groups.\")\n",
    "    else:\n",
    "        print(\"There is no statistically significant difference between the groups\")\n",
    "\n",
    "#  Performing the test for the control groups 246 and 247.\n",
    "teste_proporcao_eventos_populares(df_filtered, 246, 247)\n"
   ]
  },
  {
   "cell_type": "markdown",
   "metadata": {},
   "source": [
    "## Do the same for the group with altered sources. Compare the results with each of the control groups for each event individually. Compare the results with the combined results of the control groups. What conclusions can you draw from the experiment?"
   ]
  },
  {
   "cell_type": "code",
   "execution_count": 125,
   "metadata": {},
   "outputs": [
    {
     "name": "stdout",
     "output_type": "stream",
     "text": [
      "Most popular event in the group 246: MainScreenAppear\n",
      "Proportion of users who performed the event in the group 246: 0.9863%\n",
      "Most popular event in the group 247: MainScreenAppear\n",
      "Proportion of users who performed the event in the group 247: 0.9853%\n",
      "Most popular event in the group 248: MainScreenAppear\n",
      "Proportion of users who performed the event in the group 248: 0.9827%\n",
      "Proportion test (Z-score) between test group and combined control group: Z = -1.0489, Valor p = 0.2942\n",
      "Proportion test (Z-score) between control group 1 and control group 2: Z = 0.3093, Valor p = 0.7571\n",
      "There is no statistically significant difference between the test group and the combined control group.\n",
      "There is no statistically significant difference between control group 1 and control group 2.\n"
     ]
    }
   ],
   "source": [
    "def teste_proporcao_evento(df, grupo_controle1, grupo_controle2, grupo_teste):\n",
    "    # Finding the most popular event in each group\n",
    "    eventos_populares_grupo1 = df[df['exp_id'] == grupo_controle1]['event_name'].value_counts().idxmax()\n",
    "    eventos_populares_grupo2 = df[df['exp_id'] == grupo_controle2]['event_name'].value_counts().idxmax()\n",
    "    eventos_populares_grupo_teste = df[df['exp_id'] == grupo_teste]['event_name'].value_counts().idxmax()\n",
    "    \n",
    "    # Calculating the number of users who performed the most popular event in each group\n",
    "    usuarios_grupo1 = df[(df['exp_id'] == grupo_controle1) & (df['event_name'] == eventos_populares_grupo1)]['user_id'].nunique()\n",
    "    usuarios_grupo2 = df[(df['exp_id'] == grupo_controle2) & (df['event_name'] == eventos_populares_grupo2)]['user_id'].nunique()\n",
    "    usuarios_grupo_teste = df[(df['exp_id'] == grupo_teste) & (df['event_name'] == eventos_populares_grupo_teste)]['user_id'].nunique()\n",
    "    \n",
    "    # Calculating the total number of users in each group\n",
    "    total_usuarios_grupo1 = df[df['exp_id'] == grupo_controle1]['user_id'].nunique()\n",
    "    total_usuarios_grupo2 = df[df['exp_id'] == grupo_controle2]['user_id'].nunique()\n",
    "    total_usuarios_grupo_teste = df[df['exp_id'] == grupo_teste]['user_id'].nunique()\n",
    "    \n",
    "    # Calculating the proportion of users who performed the most popular event relative to the total number of users in each group\n",
    "    proporcao_grupo1 = usuarios_grupo1 / total_usuarios_grupo1\n",
    "    proporcao_grupo2 = usuarios_grupo2 / total_usuarios_grupo2\n",
    "    proporcao_grupo_teste = usuarios_grupo_teste / total_usuarios_grupo_teste\n",
    "    \n",
    "    # Performing the proportion test (Z-test)\n",
    "    n1 = total_usuarios_grupo1\n",
    "    n2 = total_usuarios_grupo2\n",
    "    n_teste = total_usuarios_grupo_teste\n",
    "    p1 = proporcao_grupo1\n",
    "    p2 = proporcao_grupo2\n",
    "    p_teste = proporcao_grupo_teste\n",
    "    \n",
    "    p_pool_controle = (usuarios_grupo1 + usuarios_grupo2) / (n1 + n2)\n",
    "    z_score_controle = (p1 - p2) / ((p_pool_controle * (1 - p_pool_controle) * (1 / n1 + 1 / n2)) ** 0.5)\n",
    "    p_value_controle = 2 * (1 - stats.norm.cdf(abs(z_score_controle)))  # Two-tailed test\n",
    "    \n",
    "    p_pool_teste = (usuarios_grupo1 + usuarios_grupo2 + usuarios_grupo_teste) / (n1 + n2 + n_teste)\n",
    "    z_score_teste_controle = (p_teste - p_pool_controle) / ((p_pool_teste * (1 - p_pool_teste) * (1 / n_teste + 1 / (n1 + n2))) ** 0.5)\n",
    "    p_value_teste_controle = 2 * (1 - stats.norm.cdf(abs(z_score_teste_controle)))  # Two-tailed test\n",
    "    \n",
    "    # Displaying results\n",
    "    print(f\"Most popular event in the group {grupo_controle1}: {eventos_populares_grupo1}\")\n",
    "    print(f\"Proportion of users who performed the event in the group {grupo_controle1}: {proporcao_grupo1:.4f}%\")\n",
    "    print(f\"Most popular event in the group {grupo_controle2}: {eventos_populares_grupo2}\")\n",
    "    print(f\"Proportion of users who performed the event in the group {grupo_controle2}: {proporcao_grupo2:.4f}%\")\n",
    "    print(f\"Most popular event in the group {grupo_teste}: {eventos_populares_grupo_teste}\")\n",
    "    print(f\"Proportion of users who performed the event in the group {grupo_teste}: {proporcao_grupo_teste:.4f}%\")\n",
    "    print(f\"Proportion test (Z-score) between test group and combined control group: Z = {z_score_teste_controle:.4f}, Valor p = {p_value_teste_controle:.4f}\")\n",
    "    print(f\"Proportion test (Z-score) between control group 1 and control group 2: Z = {z_score_controle:.4f}, Valor p = {p_value_controle:.4f}\")\n",
    "    \n",
    "    # Interpret the results\n",
    "    alpha = 0.05\n",
    "    if p_value_teste_controle < alpha:\n",
    "        print(\"Statistically significant difference between the test group and the combined control group.\")\n",
    "    else:\n",
    "        print(\"There is no statistically significant difference between the test group and the combined control group.\")\n",
    "    \n",
    "    if p_value_controle < alpha:\n",
    "        print(\"Statistically significant difference between control group 1 and control group 2. \")\n",
    "    else:\n",
    "        print(\"There is no statistically significant difference between control group 1 and control group 2.\")\n",
    "\n",
    "# Performing the test for control groups 246 and 247 and the test group 248.\n",
    "teste_proporcao_evento(df_filtered, 246, 247, 248)"
   ]
  },
  {
   "cell_type": "markdown",
   "metadata": {},
   "source": [
    "## What significance level did you define to test the statistical hypotheses mentioned above? Calculate how many statistical hypothesis tests you performed. With a statistical significance level of 0.1, one out of every 10 results could be false. What should the significance level be? If you want to change it, run the previous steps again and check your conclusions.\n",
    "\n",
    "Note: For the above tests, I had set the alpha value at 0.05."
   ]
  },
  {
   "cell_type": "code",
   "execution_count": 126,
   "metadata": {},
   "outputs": [
    {
     "name": "stdout",
     "output_type": "stream",
     "text": [
      "Most popular event in the group 246: MainScreenAppear\n",
      "Proportion of users who performed the event in the group 246: 0.9863%\n",
      "Most popular event in the group 247: MainScreenAppear\n",
      "Proportion of users who performed the event in the group 247: 0.9853%\n",
      "Most popular event in the group248: MainScreenAppear\n",
      "Proportion of users who performed the event in the group 248: 0.9827%\n",
      "Proportion test (Z-score) between the test group and the combined control group: Z = -1.0489, Valor p = 0.2942\n",
      "Proportion test (Z-score) between control group 1 and control group 2: Z = 0.3093, Valor p = 0.7571\n",
      "P-value of the proportion test for the control group:0.7571%\n",
      "P-value of the proportion test between the test group and the combined control group:0.2942%\n",
      "No statistically significant difference between the test group and the combined control group (alpha = 0.01).\n",
      "No statistically significant difference between control group 1 and control group 2 (alpha = 0.01).\n"
     ]
    }
   ],
   "source": [
    "def teste_proporcao_evento(df, grupo_controle1, grupo_controle2, grupo_teste, alpha=0.01):\n",
    "    # Finding the most popular event in each group\n",
    "    eventos_populares_grupo1 = df[df['exp_id'] == grupo_controle1]['event_name'].value_counts().idxmax()\n",
    "    eventos_populares_grupo2 = df[df['exp_id'] == grupo_controle2]['event_name'].value_counts().idxmax()\n",
    "    eventos_populares_grupo_teste = df[df['exp_id'] == grupo_teste]['event_name'].value_counts().idxmax()\n",
    "    \n",
    "    # Calculating the number of users who performed the most popular event in each group\n",
    "    usuarios_grupo1 = df[(df['exp_id'] == grupo_controle1) & (df['event_name'] == eventos_populares_grupo1)]['user_id'].nunique()\n",
    "    usuarios_grupo2 = df[(df['exp_id'] == grupo_controle2) & (df['event_name'] == eventos_populares_grupo2)]['user_id'].nunique()\n",
    "    usuarios_grupo_teste = df[(df['exp_id'] == grupo_teste) & (df['event_name'] == eventos_populares_grupo_teste)]['user_id'].nunique()\n",
    "    \n",
    "    # Calculating the total number of users in each group\n",
    "    total_usuarios_grupo1 = df[df['exp_id'] == grupo_controle1]['user_id'].nunique()\n",
    "    total_usuarios_grupo2 = df[df['exp_id'] == grupo_controle2]['user_id'].nunique()\n",
    "    total_usuarios_grupo_teste = df[df['exp_id'] == grupo_teste]['user_id'].nunique()\n",
    "    \n",
    "    # Calculating the proportion of users who performed the most popular event relative to the total number of users in each group\n",
    "    proporcao_grupo1 = usuarios_grupo1 / total_usuarios_grupo1\n",
    "    proporcao_grupo2 = usuarios_grupo2 / total_usuarios_grupo2\n",
    "    proporcao_grupo_teste = usuarios_grupo_teste / total_usuarios_grupo_teste\n",
    "    \n",
    "    # Perform the proportion test (Z-test\n",
    "    n1 = total_usuarios_grupo1\n",
    "    n2 = total_usuarios_grupo2\n",
    "    n_teste = total_usuarios_grupo_teste\n",
    "    p1 = proporcao_grupo1\n",
    "    p2 = proporcao_grupo2\n",
    "    p_teste = proporcao_grupo_teste\n",
    "    \n",
    "    p_pool_controle = (usuarios_grupo1 + usuarios_grupo2) / (n1 + n2)\n",
    "    z_score_controle = (p1 - p2) / ((p_pool_controle * (1 - p_pool_controle) * (1 / n1 + 1 / n2)) ** 0.5)\n",
    "    p_value_controle = 2 * (1 - stats.norm.cdf(abs(z_score_controle)))  # Two-tailed test\n",
    "    \n",
    "    p_pool_teste = (usuarios_grupo1 + usuarios_grupo2 + usuarios_grupo_teste) / (n1 + n2 + n_teste)\n",
    "    z_score_teste_controle = (p_teste - p_pool_controle) / ((p_pool_teste * (1 - p_pool_teste) * (1 / n_teste + 1 / (n1 + n2))) ** 0.5)\n",
    "    p_value_teste_controle = 2 * (1 - stats.norm.cdf(abs(z_score_teste_controle)))  # Two-tailed test\n",
    "    \n",
    "    # Interpret the results\n",
    "    print(f\"Most popular event in the group {grupo_controle1}: {eventos_populares_grupo1}\")\n",
    "    print(f\"Proportion of users who performed the event in the group {grupo_controle1}: {proporcao_grupo1:.4f}%\")\n",
    "    print(f\"Most popular event in the group {grupo_controle2}: {eventos_populares_grupo2}\")\n",
    "    print(f\"Proportion of users who performed the event in the group {grupo_controle2}: {proporcao_grupo2:.4f}%\")\n",
    "    print(f\"Most popular event in the group{grupo_teste}: {eventos_populares_grupo_teste}\")\n",
    "    print(f\"Proportion of users who performed the event in the group {grupo_teste}: {proporcao_grupo_teste:.4f}%\")\n",
    "    print(f\"Proportion test (Z-score) between the test group and the combined control group: Z = {z_score_teste_controle:.4f}, Valor p = {p_value_teste_controle:.4f}\")\n",
    "    print(f\"Proportion test (Z-score) between control group 1 and control group 2: Z = {z_score_controle:.4f}, Valor p = {p_value_controle:.4f}\")\n",
    "    print(f\"P-value of the proportion test for the control group:{p_value_controle:.4f}%\")\n",
    "    print(f\"P-value of the proportion test between the test group and the combined control group:{p_value_teste_controle:.4f}%\")\n",
    "   # Alpha = 0.01\n",
    "    if p_value_teste_controle < alpha:\n",
    "        print(f\"Statistically significant difference between the test group and the combined control group (alpha = {alpha}).\")\n",
    "    else:\n",
    "        print(f\"No statistically significant difference between the test group and the combined control group (alpha = {alpha}).\")\n",
    "    \n",
    "    if p_value_controle < alpha:\n",
    "        print(f\"Statistically significant difference between control group 1 and control group 2 (alpha = {alpha}).\")\n",
    "    else:\n",
    "        print(f\"No statistically significant difference between control group 1 and control group 2 (alpha = {alpha}).\")\n",
    "\n",
    "# Performing the test for control groups 246 and 247 and the test group 248, with alpha = 0.01\n",
    "teste_proporcao_evento(df_filtered, 246, 247, 248, alpha=0.01)\n"
   ]
  },
  {
   "cell_type": "markdown",
   "metadata": {},
   "source": [
    "Note: \n",
    "\n",
    "\n",
    "I made changes to all the alpha values to check for statistical differences between the groups, but no statistical difference was found, even with the alpha value changed to 0.1.\n",
    "\n",
    "Four hypothesis tests were conducted, one with a t-test and the other three with z-tests.\n",
    "\n",
    "Despite changing the alpha values in all the hypothesis tests, the results remained the same, where no statistical difference was found between the groups."
   ]
  },
  {
   "cell_type": "markdown",
   "metadata": {},
   "source": [
    "## Conclusion\n",
    "\n",
    "After filtering the data from August, I identified more complete records compared to previous months. During this analysis, I verified the presence of users in all three research groups: A/A (control) and B (test). Although I observed a slight drop in the number of users from July to August, particularly in the first step at the main screen, this loss was about 200 users and was not significant.\n",
    "\n",
    "After a more detailed investigation of the data, I applied a funnel to understand user behavior throughout the process. I discovered that only 14.1% of users completed all the steps up to the payment. Additionally, I identified that many users may be facing difficulties or not feeling attracted to the offers screen, suggesting the need for improvements in this process.\n",
    "\n",
    "When conducting hypothesis tests, I concluded that there is no evidence that the test group (248) behaves significantly differently compared to the combined control groups, specifically regarding the most popular event, \"MainScreenAppear.\" This indicates that the intervention or change tested in the test group did not have a differentiated impact compared to the other groups."
   ]
  }
 ],
 "metadata": {
  "ExecuteTimeLog": [
   {
    "duration": 500,
    "start_time": "2024-06-30T13:54:52.600Z"
   },
   {
    "duration": 337,
    "start_time": "2024-06-30T13:55:05.968Z"
   },
   {
    "duration": 19,
    "start_time": "2024-06-30T13:55:06.975Z"
   },
   {
    "duration": 317,
    "start_time": "2024-06-30T13:55:15.884Z"
   },
   {
    "duration": 416,
    "start_time": "2024-06-30T13:55:26.474Z"
   },
   {
    "duration": 317,
    "start_time": "2024-06-30T13:55:33.491Z"
   },
   {
    "duration": 15,
    "start_time": "2024-06-30T13:55:33.811Z"
   },
   {
    "duration": 301,
    "start_time": "2024-06-30T13:55:38.743Z"
   },
   {
    "duration": 11,
    "start_time": "2024-06-30T13:55:39.160Z"
   },
   {
    "duration": 301,
    "start_time": "2024-06-30T13:56:17.912Z"
   },
   {
    "duration": 12,
    "start_time": "2024-06-30T13:56:18.288Z"
   },
   {
    "duration": 11,
    "start_time": "2024-06-30T13:56:30.072Z"
   },
   {
    "duration": 13,
    "start_time": "2024-06-30T13:56:30.289Z"
   },
   {
    "duration": 777,
    "start_time": "2024-06-30T13:57:00.448Z"
   },
   {
    "duration": 12,
    "start_time": "2024-06-30T13:57:01.228Z"
   },
   {
    "duration": 6,
    "start_time": "2024-06-30T13:57:33.673Z"
   },
   {
    "duration": 11,
    "start_time": "2024-06-30T13:57:34.179Z"
   },
   {
    "duration": 170,
    "start_time": "2024-06-30T13:59:05.794Z"
   },
   {
    "duration": 14,
    "start_time": "2024-06-30T13:59:06.362Z"
   },
   {
    "duration": 3,
    "start_time": "2024-06-30T14:00:55.091Z"
   },
   {
    "duration": 166,
    "start_time": "2024-06-30T14:01:15.764Z"
   },
   {
    "duration": 24,
    "start_time": "2024-06-30T14:01:29.580Z"
   },
   {
    "duration": 11,
    "start_time": "2024-06-30T14:05:19.255Z"
   },
   {
    "duration": 329,
    "start_time": "2024-07-04T18:49:07.927Z"
   },
   {
    "duration": 470,
    "start_time": "2024-07-04T18:49:14.703Z"
   },
   {
    "duration": 222,
    "start_time": "2024-07-04T18:49:15.176Z"
   },
   {
    "duration": 31,
    "start_time": "2024-07-04T18:49:15.401Z"
   },
   {
    "duration": 19,
    "start_time": "2024-07-04T18:49:15.435Z"
   },
   {
    "duration": 4,
    "start_time": "2024-07-04T18:49:15.648Z"
   },
   {
    "duration": 11,
    "start_time": "2024-07-04T18:49:20.743Z"
   },
   {
    "duration": 24,
    "start_time": "2024-07-04T18:49:46.514Z"
   },
   {
    "duration": 13,
    "start_time": "2024-07-04T18:49:53.488Z"
   },
   {
    "duration": 12,
    "start_time": "2024-07-04T18:51:16.389Z"
   },
   {
    "duration": 25,
    "start_time": "2024-07-04T18:51:18.572Z"
   },
   {
    "duration": 11,
    "start_time": "2024-07-04T18:51:26.456Z"
   },
   {
    "duration": 4,
    "start_time": "2024-07-04T18:54:19.070Z"
   },
   {
    "duration": 17,
    "start_time": "2024-07-04T18:54:50.196Z"
   },
   {
    "duration": 91,
    "start_time": "2024-07-04T18:56:01.179Z"
   },
   {
    "duration": 33,
    "start_time": "2024-07-04T18:56:01.646Z"
   },
   {
    "duration": 11,
    "start_time": "2024-07-04T18:56:02.147Z"
   },
   {
    "duration": 478,
    "start_time": "2024-07-04T19:08:23.403Z"
   },
   {
    "duration": 182,
    "start_time": "2024-07-04T19:08:23.885Z"
   },
   {
    "duration": 3,
    "start_time": "2024-07-04T19:08:24.073Z"
   },
   {
    "duration": 20,
    "start_time": "2024-07-04T19:08:24.081Z"
   },
   {
    "duration": 102,
    "start_time": "2024-07-04T19:08:24.104Z"
   },
   {
    "duration": 34,
    "start_time": "2024-07-04T19:08:24.209Z"
   },
   {
    "duration": 19,
    "start_time": "2024-07-04T19:08:24.246Z"
   },
   {
    "duration": 25,
    "start_time": "2024-07-04T19:11:31.516Z"
   },
   {
    "duration": 28,
    "start_time": "2024-07-04T19:11:38.777Z"
   },
   {
    "duration": 15,
    "start_time": "2024-07-04T19:21:16.256Z"
   },
   {
    "duration": 12,
    "start_time": "2024-07-04T19:22:21.031Z"
   },
   {
    "duration": 138,
    "start_time": "2024-07-04T19:23:39.409Z"
   },
   {
    "duration": 5,
    "start_time": "2024-07-04T19:23:49.665Z"
   },
   {
    "duration": 5,
    "start_time": "2024-07-04T19:23:53.713Z"
   },
   {
    "duration": 6,
    "start_time": "2024-07-04T19:23:56.953Z"
   },
   {
    "duration": 237,
    "start_time": "2024-07-04T19:24:38.123Z"
   },
   {
    "duration": 6,
    "start_time": "2024-07-04T19:25:09.778Z"
   },
   {
    "duration": 6,
    "start_time": "2024-07-04T19:26:00.660Z"
   },
   {
    "duration": 8,
    "start_time": "2024-07-04T19:26:50.179Z"
   },
   {
    "duration": 29,
    "start_time": "2024-07-04T19:26:50.715Z"
   },
   {
    "duration": 6,
    "start_time": "2024-07-04T19:27:47.517Z"
   },
   {
    "duration": 28,
    "start_time": "2024-07-04T19:27:48.060Z"
   },
   {
    "duration": 12,
    "start_time": "2024-07-04T19:27:48.298Z"
   },
   {
    "duration": 5,
    "start_time": "2024-07-04T19:28:18.109Z"
   },
   {
    "duration": 19,
    "start_time": "2024-07-04T19:28:47.917Z"
   },
   {
    "duration": 21,
    "start_time": "2024-07-04T19:28:51.468Z"
   },
   {
    "duration": 24,
    "start_time": "2024-07-04T19:28:56.482Z"
   },
   {
    "duration": 43,
    "start_time": "2024-07-04T19:29:59.381Z"
   },
   {
    "duration": 25,
    "start_time": "2024-07-04T19:30:00.006Z"
   },
   {
    "duration": 17,
    "start_time": "2024-07-04T19:30:00.391Z"
   },
   {
    "duration": 8,
    "start_time": "2024-07-04T19:30:04.678Z"
   },
   {
    "duration": 8,
    "start_time": "2024-07-04T19:30:23.864Z"
   },
   {
    "duration": 6,
    "start_time": "2024-07-04T19:31:18.785Z"
   },
   {
    "duration": 7,
    "start_time": "2024-07-04T19:31:18.934Z"
   },
   {
    "duration": 33,
    "start_time": "2024-07-04T20:39:23.751Z"
   },
   {
    "duration": 25,
    "start_time": "2024-07-04T20:39:37.708Z"
   },
   {
    "duration": 282,
    "start_time": "2024-07-04T20:39:46.529Z"
   },
   {
    "duration": 641,
    "start_time": "2024-07-04T20:40:03.776Z"
   },
   {
    "duration": 1407,
    "start_time": "2024-07-04T20:48:11.838Z"
   },
   {
    "duration": 413,
    "start_time": "2024-07-04T20:48:35.557Z"
   },
   {
    "duration": 2960,
    "start_time": "2024-07-04T20:53:58.546Z"
   },
   {
    "duration": 2944,
    "start_time": "2024-07-04T20:54:38.658Z"
   },
   {
    "duration": 1531,
    "start_time": "2024-07-04T20:55:55.219Z"
   },
   {
    "duration": 1405,
    "start_time": "2024-07-04T20:56:04.110Z"
   },
   {
    "duration": 1358,
    "start_time": "2024-07-04T20:56:51.252Z"
   },
   {
    "duration": 3,
    "start_time": "2024-07-04T20:58:22.421Z"
   },
   {
    "duration": 3,
    "start_time": "2024-07-04T20:58:26.093Z"
   },
   {
    "duration": 3,
    "start_time": "2024-07-04T20:59:27.413Z"
   },
   {
    "duration": 4,
    "start_time": "2024-07-04T20:59:37.588Z"
   },
   {
    "duration": 3,
    "start_time": "2024-07-04T20:59:41.061Z"
   },
   {
    "duration": 7,
    "start_time": "2024-07-04T21:05:34.777Z"
   },
   {
    "duration": 7,
    "start_time": "2024-07-04T21:05:38.009Z"
   },
   {
    "duration": 9,
    "start_time": "2024-07-04T21:05:40.496Z"
   },
   {
    "duration": 10,
    "start_time": "2024-07-04T21:05:44.869Z"
   },
   {
    "duration": 35,
    "start_time": "2024-07-04T21:08:10.597Z"
   },
   {
    "duration": 7,
    "start_time": "2024-07-04T21:09:44.181Z"
   },
   {
    "duration": 9,
    "start_time": "2024-07-04T21:09:48.553Z"
   },
   {
    "duration": 35,
    "start_time": "2024-07-04T21:10:23.918Z"
   },
   {
    "duration": 29,
    "start_time": "2024-07-04T21:11:07.870Z"
   },
   {
    "duration": 6,
    "start_time": "2024-07-04T21:11:33.814Z"
   },
   {
    "duration": 28,
    "start_time": "2024-07-04T21:12:32.735Z"
   },
   {
    "duration": 10,
    "start_time": "2024-07-04T21:12:43.128Z"
   },
   {
    "duration": 10,
    "start_time": "2024-07-04T21:13:00.423Z"
   },
   {
    "duration": 1282,
    "start_time": "2024-07-04T21:13:05.754Z"
   },
   {
    "duration": 180,
    "start_time": "2024-07-04T21:13:07.040Z"
   },
   {
    "duration": 5,
    "start_time": "2024-07-04T21:13:07.225Z"
   },
   {
    "duration": 16,
    "start_time": "2024-07-04T21:13:07.232Z"
   },
   {
    "duration": 110,
    "start_time": "2024-07-04T21:13:07.252Z"
   },
   {
    "duration": 76,
    "start_time": "2024-07-04T21:13:07.365Z"
   },
   {
    "duration": 27,
    "start_time": "2024-07-04T21:13:07.444Z"
   },
   {
    "duration": 37,
    "start_time": "2024-07-04T21:13:07.474Z"
   },
   {
    "duration": 6,
    "start_time": "2024-07-04T21:13:07.514Z"
   },
   {
    "duration": 31,
    "start_time": "2024-07-04T21:13:07.523Z"
   },
   {
    "duration": 47,
    "start_time": "2024-07-04T21:13:07.557Z"
   },
   {
    "duration": 7,
    "start_time": "2024-07-04T21:13:07.608Z"
   },
   {
    "duration": 10,
    "start_time": "2024-07-04T21:13:07.618Z"
   },
   {
    "duration": 8,
    "start_time": "2024-07-04T21:13:07.635Z"
   },
   {
    "duration": 1472,
    "start_time": "2024-07-04T21:13:07.646Z"
   },
   {
    "duration": 3,
    "start_time": "2024-07-04T21:13:09.122Z"
   },
   {
    "duration": 4,
    "start_time": "2024-07-04T21:13:09.128Z"
   },
   {
    "duration": 66,
    "start_time": "2024-07-04T21:13:09.135Z"
   },
   {
    "duration": 8,
    "start_time": "2024-07-04T21:13:09.204Z"
   },
   {
    "duration": 36,
    "start_time": "2024-07-04T21:13:09.215Z"
   },
   {
    "duration": 4,
    "start_time": "2024-07-04T21:13:09.255Z"
   },
   {
    "duration": 43,
    "start_time": "2024-07-04T21:13:09.262Z"
   },
   {
    "duration": 10,
    "start_time": "2024-07-04T21:13:09.309Z"
   },
   {
    "duration": 1258,
    "start_time": "2024-07-04T21:18:09.960Z"
   },
   {
    "duration": 182,
    "start_time": "2024-07-04T21:18:11.222Z"
   },
   {
    "duration": 5,
    "start_time": "2024-07-04T21:18:11.407Z"
   },
   {
    "duration": 15,
    "start_time": "2024-07-04T21:18:11.415Z"
   },
   {
    "duration": 114,
    "start_time": "2024-07-04T21:18:11.434Z"
   },
   {
    "duration": 63,
    "start_time": "2024-07-04T21:18:11.551Z"
   },
   {
    "duration": 26,
    "start_time": "2024-07-04T21:18:11.617Z"
   },
   {
    "duration": 16,
    "start_time": "2024-07-04T21:18:11.646Z"
   },
   {
    "duration": 38,
    "start_time": "2024-07-04T21:18:11.666Z"
   },
   {
    "duration": 30,
    "start_time": "2024-07-04T21:18:11.708Z"
   },
   {
    "duration": 12,
    "start_time": "2024-07-04T21:18:11.741Z"
   },
   {
    "duration": 45,
    "start_time": "2024-07-04T21:18:11.756Z"
   },
   {
    "duration": 8,
    "start_time": "2024-07-04T21:18:11.804Z"
   },
   {
    "duration": 7,
    "start_time": "2024-07-04T21:18:11.818Z"
   },
   {
    "duration": 1439,
    "start_time": "2024-07-04T21:18:11.828Z"
   },
   {
    "duration": 6,
    "start_time": "2024-07-04T21:18:13.271Z"
   },
   {
    "duration": 4,
    "start_time": "2024-07-04T21:18:13.280Z"
   },
   {
    "duration": 35,
    "start_time": "2024-07-04T21:18:13.304Z"
   },
   {
    "duration": 9,
    "start_time": "2024-07-04T21:18:13.343Z"
   },
   {
    "duration": 62,
    "start_time": "2024-07-04T21:18:13.355Z"
   },
   {
    "duration": 3,
    "start_time": "2024-07-04T21:18:13.420Z"
   },
   {
    "duration": 10,
    "start_time": "2024-07-04T21:18:13.427Z"
   },
   {
    "duration": 10,
    "start_time": "2024-07-04T21:18:13.440Z"
   },
   {
    "duration": 50,
    "start_time": "2024-07-04T21:18:13.452Z"
   },
   {
    "duration": 5,
    "start_time": "2024-07-04T21:18:13.505Z"
   },
   {
    "duration": 4,
    "start_time": "2024-07-04T21:18:13.514Z"
   },
   {
    "duration": 4,
    "start_time": "2024-07-04T21:18:13.522Z"
   },
   {
    "duration": 4,
    "start_time": "2024-07-04T21:18:13.529Z"
   },
   {
    "duration": 3,
    "start_time": "2024-07-04T21:18:13.536Z"
   },
   {
    "duration": 2157,
    "start_time": "2024-07-04T21:19:28.317Z"
   },
   {
    "duration": 364,
    "start_time": "2024-07-04T21:20:08.829Z"
   },
   {
    "duration": 218,
    "start_time": "2024-07-04T21:21:44.198Z"
   },
   {
    "duration": 222,
    "start_time": "2024-07-04T21:22:51.889Z"
   },
   {
    "duration": 1416,
    "start_time": "2024-07-04T21:23:45.700Z"
   },
   {
    "duration": 1478,
    "start_time": "2024-07-04T21:24:19.549Z"
   },
   {
    "duration": 6,
    "start_time": "2024-07-04T21:26:27.426Z"
   },
   {
    "duration": 5,
    "start_time": "2024-07-04T21:26:54.798Z"
   },
   {
    "duration": 6,
    "start_time": "2024-07-04T21:27:06.547Z"
   },
   {
    "duration": 9,
    "start_time": "2024-07-04T21:27:43.075Z"
   },
   {
    "duration": 9,
    "start_time": "2024-07-04T21:27:47.243Z"
   },
   {
    "duration": 9,
    "start_time": "2024-07-04T21:27:54.131Z"
   },
   {
    "duration": 8,
    "start_time": "2024-07-04T21:28:02.604Z"
   },
   {
    "duration": 4,
    "start_time": "2024-07-04T21:28:58.781Z"
   },
   {
    "duration": 4,
    "start_time": "2024-07-04T21:29:11.773Z"
   },
   {
    "duration": 7,
    "start_time": "2024-07-04T21:29:22.508Z"
   },
   {
    "duration": 5,
    "start_time": "2024-07-04T21:29:36.533Z"
   },
   {
    "duration": 5,
    "start_time": "2024-07-04T21:29:58.525Z"
   },
   {
    "duration": 1219,
    "start_time": "2024-07-04T21:30:09.154Z"
   },
   {
    "duration": 179,
    "start_time": "2024-07-04T21:30:10.376Z"
   },
   {
    "duration": 4,
    "start_time": "2024-07-04T21:30:10.560Z"
   },
   {
    "duration": 14,
    "start_time": "2024-07-04T21:30:10.569Z"
   },
   {
    "duration": 104,
    "start_time": "2024-07-04T21:30:10.603Z"
   },
   {
    "duration": 48,
    "start_time": "2024-07-04T21:30:10.710Z"
   },
   {
    "duration": 46,
    "start_time": "2024-07-04T21:30:10.761Z"
   },
   {
    "duration": 16,
    "start_time": "2024-07-04T21:30:10.810Z"
   },
   {
    "duration": 5,
    "start_time": "2024-07-04T21:30:10.830Z"
   },
   {
    "duration": 66,
    "start_time": "2024-07-04T21:30:10.840Z"
   },
   {
    "duration": 244,
    "start_time": "2024-07-04T21:30:10.909Z"
   },
   {
    "duration": 11,
    "start_time": "2024-07-04T21:30:11.156Z"
   },
   {
    "duration": 5,
    "start_time": "2024-07-04T21:30:11.169Z"
   },
   {
    "duration": 28,
    "start_time": "2024-07-04T21:30:11.177Z"
   },
   {
    "duration": 6,
    "start_time": "2024-07-04T21:30:11.209Z"
   },
   {
    "duration": 1441,
    "start_time": "2024-07-04T21:30:11.219Z"
   },
   {
    "duration": 3,
    "start_time": "2024-07-04T21:30:12.665Z"
   },
   {
    "duration": 4,
    "start_time": "2024-07-04T21:30:12.673Z"
   },
   {
    "duration": 54,
    "start_time": "2024-07-04T21:30:12.680Z"
   },
   {
    "duration": 7,
    "start_time": "2024-07-04T21:30:12.736Z"
   },
   {
    "duration": 28,
    "start_time": "2024-07-04T21:30:12.746Z"
   },
   {
    "duration": 4,
    "start_time": "2024-07-04T21:30:12.804Z"
   },
   {
    "duration": 10,
    "start_time": "2024-07-04T21:30:12.812Z"
   },
   {
    "duration": 10,
    "start_time": "2024-07-04T21:30:12.828Z"
   },
   {
    "duration": 1403,
    "start_time": "2024-07-04T21:30:12.843Z"
   },
   {
    "duration": 4,
    "start_time": "2024-07-04T21:30:14.249Z"
   },
   {
    "duration": 4,
    "start_time": "2024-07-04T21:30:14.256Z"
   },
   {
    "duration": 3,
    "start_time": "2024-07-04T21:30:14.268Z"
   },
   {
    "duration": 3,
    "start_time": "2024-07-04T21:30:14.303Z"
   },
   {
    "duration": 4,
    "start_time": "2024-07-04T21:30:14.312Z"
   },
   {
    "duration": 4,
    "start_time": "2024-07-04T21:30:14.319Z"
   },
   {
    "duration": 6355,
    "start_time": "2024-07-06T22:20:27.696Z"
   },
   {
    "duration": 723,
    "start_time": "2024-07-06T22:20:34.062Z"
   },
   {
    "duration": 10,
    "start_time": "2024-07-06T22:20:34.803Z"
   },
   {
    "duration": 27,
    "start_time": "2024-07-06T22:20:34.834Z"
   },
   {
    "duration": 143,
    "start_time": "2024-07-06T22:20:34.869Z"
   },
   {
    "duration": 74,
    "start_time": "2024-07-06T22:20:35.022Z"
   },
   {
    "duration": 41,
    "start_time": "2024-07-06T22:20:35.105Z"
   },
   {
    "duration": 22,
    "start_time": "2024-07-06T22:20:35.155Z"
   },
   {
    "duration": 23,
    "start_time": "2024-07-06T22:20:35.184Z"
   },
   {
    "duration": 62,
    "start_time": "2024-07-06T22:20:35.217Z"
   },
   {
    "duration": 313,
    "start_time": "2024-07-06T22:20:35.287Z"
   },
   {
    "duration": 13,
    "start_time": "2024-07-06T22:20:35.603Z"
   },
   {
    "duration": 7,
    "start_time": "2024-07-06T22:20:35.633Z"
   },
   {
    "duration": 13,
    "start_time": "2024-07-06T22:20:35.643Z"
   },
   {
    "duration": 13,
    "start_time": "2024-07-06T22:20:35.659Z"
   },
   {
    "duration": 1980,
    "start_time": "2024-07-06T22:20:35.675Z"
   },
   {
    "duration": 7,
    "start_time": "2024-07-06T22:20:37.662Z"
   },
   {
    "duration": 7,
    "start_time": "2024-07-06T22:20:37.676Z"
   },
   {
    "duration": 42,
    "start_time": "2024-07-06T22:20:37.691Z"
   },
   {
    "duration": 11,
    "start_time": "2024-07-06T22:20:37.742Z"
   },
   {
    "duration": 58,
    "start_time": "2024-07-06T22:20:37.759Z"
   },
   {
    "duration": 8,
    "start_time": "2024-07-06T22:20:37.824Z"
   },
   {
    "duration": 22,
    "start_time": "2024-07-06T22:20:37.840Z"
   },
   {
    "duration": 16,
    "start_time": "2024-07-06T22:20:37.868Z"
   },
   {
    "duration": 1910,
    "start_time": "2024-07-06T22:20:37.898Z"
   },
   {
    "duration": 6,
    "start_time": "2024-07-06T22:20:39.811Z"
   },
   {
    "duration": 28,
    "start_time": "2024-07-06T22:20:39.821Z"
   },
   {
    "duration": 10,
    "start_time": "2024-07-06T22:20:39.861Z"
   },
   {
    "duration": 4,
    "start_time": "2024-07-06T22:20:39.875Z"
   },
   {
    "duration": 3,
    "start_time": "2024-07-06T22:20:39.886Z"
   },
   {
    "duration": 3,
    "start_time": "2024-07-06T22:20:39.893Z"
   },
   {
    "duration": 5,
    "start_time": "2024-07-06T22:22:16.940Z"
   },
   {
    "duration": 9,
    "start_time": "2024-07-06T22:22:34.954Z"
   },
   {
    "duration": 9,
    "start_time": "2024-07-06T22:22:39.387Z"
   },
   {
    "duration": 407,
    "start_time": "2024-07-06T22:23:52.166Z"
   },
   {
    "duration": 363,
    "start_time": "2024-07-06T22:24:11.446Z"
   },
   {
    "duration": 2314,
    "start_time": "2024-07-06T22:24:29.541Z"
   },
   {
    "duration": 16,
    "start_time": "2024-07-06T22:25:15.327Z"
   },
   {
    "duration": 30,
    "start_time": "2024-07-06T22:27:30.479Z"
   },
   {
    "duration": 45,
    "start_time": "2024-07-06T22:27:41.431Z"
   },
   {
    "duration": 84,
    "start_time": "2024-07-06T22:29:14.280Z"
   },
   {
    "duration": 50,
    "start_time": "2024-07-06T22:29:27.760Z"
   },
   {
    "duration": 55,
    "start_time": "2024-07-06T22:29:34.615Z"
   },
   {
    "duration": 48,
    "start_time": "2024-07-06T22:29:57.289Z"
   },
   {
    "duration": 53,
    "start_time": "2024-07-06T22:30:05.225Z"
   },
   {
    "duration": 52,
    "start_time": "2024-07-06T22:30:15.690Z"
   },
   {
    "duration": 51,
    "start_time": "2024-07-06T22:30:30.132Z"
   },
   {
    "duration": 50,
    "start_time": "2024-07-06T22:31:17.923Z"
   },
   {
    "duration": 96,
    "start_time": "2024-07-06T22:34:32.036Z"
   },
   {
    "duration": 96,
    "start_time": "2024-07-06T22:34:35.678Z"
   },
   {
    "duration": 88,
    "start_time": "2024-07-06T22:35:00.470Z"
   },
   {
    "duration": 102,
    "start_time": "2024-07-06T22:35:08.863Z"
   },
   {
    "duration": 89,
    "start_time": "2024-07-06T22:35:32.589Z"
   },
   {
    "duration": 90,
    "start_time": "2024-07-06T22:36:29.431Z"
   },
   {
    "duration": 73,
    "start_time": "2024-07-06T22:37:52.727Z"
   },
   {
    "duration": 90,
    "start_time": "2024-07-06T22:37:57.464Z"
   },
   {
    "duration": 83,
    "start_time": "2024-07-06T22:38:43.071Z"
   },
   {
    "duration": 91,
    "start_time": "2024-07-06T22:39:30.141Z"
   },
   {
    "duration": 100,
    "start_time": "2024-07-06T22:39:36.682Z"
   },
   {
    "duration": 13,
    "start_time": "2024-07-06T22:41:24.915Z"
   },
   {
    "duration": 491,
    "start_time": "2024-07-06T22:41:41.987Z"
   },
   {
    "duration": 162,
    "start_time": "2024-07-06T23:03:56.323Z"
   },
   {
    "duration": 19,
    "start_time": "2024-07-06T23:03:57.226Z"
   },
   {
    "duration": 8,
    "start_time": "2024-07-06T23:03:58.076Z"
   },
   {
    "duration": 74,
    "start_time": "2024-07-06T23:03:58.588Z"
   },
   {
    "duration": 3,
    "start_time": "2024-07-06T23:07:55.086Z"
   },
   {
    "duration": 5,
    "start_time": "2024-07-06T23:08:14.480Z"
   },
   {
    "duration": 3,
    "start_time": "2024-07-06T23:08:23.083Z"
   },
   {
    "duration": 17,
    "start_time": "2024-07-06T23:08:25.895Z"
   },
   {
    "duration": 8,
    "start_time": "2024-07-06T23:08:35.119Z"
   },
   {
    "duration": 4,
    "start_time": "2024-07-06T23:08:38.080Z"
   },
   {
    "duration": 1605,
    "start_time": "2024-07-06T23:14:23.609Z"
   },
   {
    "duration": 270,
    "start_time": "2024-07-06T23:14:25.218Z"
   },
   {
    "duration": 7,
    "start_time": "2024-07-06T23:14:25.497Z"
   },
   {
    "duration": 22,
    "start_time": "2024-07-06T23:14:25.510Z"
   },
   {
    "duration": 145,
    "start_time": "2024-07-06T23:14:25.540Z"
   },
   {
    "duration": 102,
    "start_time": "2024-07-06T23:14:25.695Z"
   },
   {
    "duration": 61,
    "start_time": "2024-07-06T23:14:25.808Z"
   },
   {
    "duration": 53,
    "start_time": "2024-07-06T23:14:25.872Z"
   },
   {
    "duration": 9,
    "start_time": "2024-07-06T23:14:25.928Z"
   },
   {
    "duration": 69,
    "start_time": "2024-07-06T23:14:25.940Z"
   },
   {
    "duration": 309,
    "start_time": "2024-07-06T23:14:26.013Z"
   },
   {
    "duration": 14,
    "start_time": "2024-07-06T23:14:26.326Z"
   },
   {
    "duration": 5,
    "start_time": "2024-07-06T23:14:26.343Z"
   },
   {
    "duration": 8,
    "start_time": "2024-07-06T23:14:26.356Z"
   },
   {
    "duration": 6,
    "start_time": "2024-07-06T23:14:26.367Z"
   },
   {
    "duration": 2041,
    "start_time": "2024-07-06T23:14:26.376Z"
   },
   {
    "duration": 11,
    "start_time": "2024-07-06T23:14:28.438Z"
   },
   {
    "duration": 11,
    "start_time": "2024-07-06T23:14:28.466Z"
   },
   {
    "duration": 122,
    "start_time": "2024-07-06T23:14:28.487Z"
   },
   {
    "duration": 46,
    "start_time": "2024-07-06T23:14:28.627Z"
   },
   {
    "duration": 122,
    "start_time": "2024-07-06T23:14:28.691Z"
   },
   {
    "duration": 6,
    "start_time": "2024-07-06T23:14:28.819Z"
   },
   {
    "duration": 22,
    "start_time": "2024-07-06T23:14:28.828Z"
   },
   {
    "duration": 21,
    "start_time": "2024-07-06T23:14:28.853Z"
   },
   {
    "duration": 1821,
    "start_time": "2024-07-06T23:14:28.880Z"
   },
   {
    "duration": 5,
    "start_time": "2024-07-06T23:14:30.711Z"
   },
   {
    "duration": 51,
    "start_time": "2024-07-06T23:14:30.741Z"
   },
   {
    "duration": 5,
    "start_time": "2024-07-06T23:14:30.801Z"
   },
   {
    "duration": 102,
    "start_time": "2024-07-06T23:14:30.816Z"
   },
   {
    "duration": 5,
    "start_time": "2024-07-06T23:14:30.927Z"
   },
   {
    "duration": 6,
    "start_time": "2024-07-06T23:14:30.942Z"
   },
   {
    "duration": 358,
    "start_time": "2024-07-06T23:14:30.957Z"
   },
   {
    "duration": 16,
    "start_time": "2024-07-06T23:14:31.317Z"
   },
   {
    "duration": 12,
    "start_time": "2024-07-06T23:14:31.337Z"
   },
   {
    "duration": 7,
    "start_time": "2024-07-06T23:14:31.352Z"
   },
   {
    "duration": 6,
    "start_time": "2024-07-06T23:14:31.362Z"
   },
   {
    "duration": 5,
    "start_time": "2024-07-06T23:14:31.370Z"
   },
   {
    "duration": 5,
    "start_time": "2024-07-06T23:14:31.379Z"
   },
   {
    "duration": 8,
    "start_time": "2024-07-06T23:14:31.388Z"
   },
   {
    "duration": 5,
    "start_time": "2024-07-06T23:15:39.540Z"
   },
   {
    "duration": 8,
    "start_time": "2024-07-06T23:15:46.409Z"
   },
   {
    "duration": 651,
    "start_time": "2024-07-06T23:16:17.827Z"
   },
   {
    "duration": 38,
    "start_time": "2024-07-06T23:16:40.972Z"
   },
   {
    "duration": 40,
    "start_time": "2024-07-06T23:17:02.493Z"
   },
   {
    "duration": 13,
    "start_time": "2024-07-06T23:17:21.508Z"
   },
   {
    "duration": 43,
    "start_time": "2024-07-07T00:15:03.721Z"
   },
   {
    "duration": 47,
    "start_time": "2024-07-07T00:15:12.881Z"
   },
   {
    "duration": 59,
    "start_time": "2024-07-07T00:15:31.072Z"
   },
   {
    "duration": 30,
    "start_time": "2024-07-07T00:16:19.433Z"
   },
   {
    "duration": 3,
    "start_time": "2024-07-07T00:16:36.586Z"
   },
   {
    "duration": 6,
    "start_time": "2024-07-07T00:16:40.145Z"
   },
   {
    "duration": 1496,
    "start_time": "2024-07-07T00:16:44.893Z"
   },
   {
    "duration": 245,
    "start_time": "2024-07-07T00:16:46.399Z"
   },
   {
    "duration": 6,
    "start_time": "2024-07-07T00:16:46.647Z"
   },
   {
    "duration": 15,
    "start_time": "2024-07-07T00:16:46.659Z"
   },
   {
    "duration": 154,
    "start_time": "2024-07-07T00:16:46.676Z"
   },
   {
    "duration": 75,
    "start_time": "2024-07-07T00:16:46.833Z"
   },
   {
    "duration": 52,
    "start_time": "2024-07-07T00:16:46.911Z"
   },
   {
    "duration": 21,
    "start_time": "2024-07-07T00:16:46.966Z"
   },
   {
    "duration": 6,
    "start_time": "2024-07-07T00:16:46.991Z"
   },
   {
    "duration": 72,
    "start_time": "2024-07-07T00:16:47.005Z"
   },
   {
    "duration": 305,
    "start_time": "2024-07-07T00:16:47.081Z"
   },
   {
    "duration": 13,
    "start_time": "2024-07-07T00:16:47.389Z"
   },
   {
    "duration": 5,
    "start_time": "2024-07-07T00:16:47.406Z"
   },
   {
    "duration": 8,
    "start_time": "2024-07-07T00:16:47.432Z"
   },
   {
    "duration": 7,
    "start_time": "2024-07-07T00:16:47.445Z"
   },
   {
    "duration": 1967,
    "start_time": "2024-07-07T00:16:47.455Z"
   },
   {
    "duration": 10,
    "start_time": "2024-07-07T00:16:49.425Z"
   },
   {
    "duration": 5,
    "start_time": "2024-07-07T00:16:49.437Z"
   },
   {
    "duration": 38,
    "start_time": "2024-07-07T00:16:49.452Z"
   },
   {
    "duration": 13,
    "start_time": "2024-07-07T00:16:49.493Z"
   },
   {
    "duration": 40,
    "start_time": "2024-07-07T00:16:49.512Z"
   },
   {
    "duration": 4,
    "start_time": "2024-07-07T00:16:49.557Z"
   },
   {
    "duration": 12,
    "start_time": "2024-07-07T00:16:49.564Z"
   },
   {
    "duration": 11,
    "start_time": "2024-07-07T00:16:49.580Z"
   },
   {
    "duration": 1464,
    "start_time": "2024-07-07T00:16:49.595Z"
   },
   {
    "duration": 4,
    "start_time": "2024-07-07T00:16:51.061Z"
   },
   {
    "duration": 38,
    "start_time": "2024-07-07T00:16:51.069Z"
   },
   {
    "duration": 5,
    "start_time": "2024-07-07T00:16:51.133Z"
   },
   {
    "duration": 100,
    "start_time": "2024-07-07T00:16:51.142Z"
   },
   {
    "duration": 5,
    "start_time": "2024-07-07T00:16:51.251Z"
   },
   {
    "duration": 3,
    "start_time": "2024-07-07T00:16:51.260Z"
   },
   {
    "duration": 304,
    "start_time": "2024-07-07T00:16:51.267Z"
   },
   {
    "duration": 4,
    "start_time": "2024-07-07T00:16:51.573Z"
   },
   {
    "duration": 3,
    "start_time": "2024-07-07T00:16:51.580Z"
   },
   {
    "duration": 51,
    "start_time": "2024-07-07T00:16:51.586Z"
   },
   {
    "duration": 3,
    "start_time": "2024-07-07T00:16:51.641Z"
   },
   {
    "duration": 3,
    "start_time": "2024-07-07T00:16:51.651Z"
   },
   {
    "duration": 4,
    "start_time": "2024-07-07T00:16:51.658Z"
   },
   {
    "duration": 4,
    "start_time": "2024-07-07T00:16:51.667Z"
   },
   {
    "duration": 4,
    "start_time": "2024-07-07T00:16:51.675Z"
   },
   {
    "duration": 51,
    "start_time": "2024-07-07T00:16:51.682Z"
   },
   {
    "duration": 6,
    "start_time": "2024-07-07T00:19:15.771Z"
   },
   {
    "duration": 11,
    "start_time": "2024-07-07T00:19:20.971Z"
   },
   {
    "duration": 12,
    "start_time": "2024-07-07T00:19:25.609Z"
   },
   {
    "duration": 13,
    "start_time": "2024-07-07T00:19:30.739Z"
   },
   {
    "duration": 38,
    "start_time": "2024-07-07T00:20:36.660Z"
   },
   {
    "duration": 31,
    "start_time": "2024-07-07T00:22:21.870Z"
   },
   {
    "duration": 162,
    "start_time": "2024-07-07T00:23:18.492Z"
   },
   {
    "duration": 661,
    "start_time": "2024-07-07T00:24:58.735Z"
   },
   {
    "duration": 292,
    "start_time": "2024-07-07T00:25:33.222Z"
   },
   {
    "duration": 177,
    "start_time": "2024-07-07T00:51:06.245Z"
   },
   {
    "duration": 321,
    "start_time": "2024-07-07T00:51:32.843Z"
   },
   {
    "duration": 8,
    "start_time": "2024-07-07T00:51:51.940Z"
   },
   {
    "duration": 7,
    "start_time": "2024-07-07T00:52:05.855Z"
   },
   {
    "duration": 237,
    "start_time": "2024-07-07T00:52:11.380Z"
   },
   {
    "duration": 6,
    "start_time": "2024-07-07T00:52:24.411Z"
   },
   {
    "duration": 203,
    "start_time": "2024-07-07T00:52:42.740Z"
   },
   {
    "duration": 200,
    "start_time": "2024-07-07T00:52:56.932Z"
   },
   {
    "duration": 3,
    "start_time": "2024-07-07T00:53:49.635Z"
   },
   {
    "duration": 3,
    "start_time": "2024-07-07T00:53:54.398Z"
   },
   {
    "duration": 6,
    "start_time": "2024-07-07T00:53:56.485Z"
   },
   {
    "duration": 6,
    "start_time": "2024-07-07T00:54:19.523Z"
   },
   {
    "duration": 5,
    "start_time": "2024-07-07T00:54:45.964Z"
   },
   {
    "duration": 6,
    "start_time": "2024-07-07T00:55:23.528Z"
   },
   {
    "duration": 6,
    "start_time": "2024-07-07T00:55:44.140Z"
   },
   {
    "duration": 6,
    "start_time": "2024-07-07T00:55:56.414Z"
   },
   {
    "duration": 5,
    "start_time": "2024-07-07T00:56:00.053Z"
   },
   {
    "duration": 6,
    "start_time": "2024-07-07T00:56:06.053Z"
   },
   {
    "duration": 30,
    "start_time": "2024-07-07T00:58:38.797Z"
   },
   {
    "duration": 4,
    "start_time": "2024-07-07T00:58:48.552Z"
   },
   {
    "duration": 854,
    "start_time": "2024-07-07T00:58:51.226Z"
   },
   {
    "duration": 19,
    "start_time": "2024-07-07T00:59:18.559Z"
   },
   {
    "duration": 21,
    "start_time": "2024-07-07T01:01:28.259Z"
   },
   {
    "duration": 16,
    "start_time": "2024-07-07T01:03:28.677Z"
   },
   {
    "duration": 20,
    "start_time": "2024-07-07T01:03:32.154Z"
   },
   {
    "duration": 140,
    "start_time": "2024-07-07T01:04:21.021Z"
   },
   {
    "duration": 14,
    "start_time": "2024-07-07T01:05:40.038Z"
   },
   {
    "duration": 14,
    "start_time": "2024-07-07T01:05:46.600Z"
   },
   {
    "duration": 136,
    "start_time": "2024-07-07T01:05:58.837Z"
   },
   {
    "duration": 150,
    "start_time": "2024-07-07T01:06:48.433Z"
   },
   {
    "duration": 144,
    "start_time": "2024-07-07T01:08:16.664Z"
   },
   {
    "duration": 1345,
    "start_time": "2024-07-07T01:10:23.851Z"
   },
   {
    "duration": 176,
    "start_time": "2024-07-07T01:10:25.199Z"
   },
   {
    "duration": 7,
    "start_time": "2024-07-07T01:10:25.378Z"
   },
   {
    "duration": 13,
    "start_time": "2024-07-07T01:10:25.389Z"
   },
   {
    "duration": 90,
    "start_time": "2024-07-07T01:10:25.431Z"
   },
   {
    "duration": 50,
    "start_time": "2024-07-07T01:10:25.534Z"
   },
   {
    "duration": 43,
    "start_time": "2024-07-07T01:10:25.587Z"
   },
   {
    "duration": 17,
    "start_time": "2024-07-07T01:10:25.634Z"
   },
   {
    "duration": 6,
    "start_time": "2024-07-07T01:10:25.657Z"
   },
   {
    "duration": 29,
    "start_time": "2024-07-07T01:10:25.667Z"
   },
   {
    "duration": 249,
    "start_time": "2024-07-07T01:10:25.732Z"
   },
   {
    "duration": 14,
    "start_time": "2024-07-07T01:10:25.984Z"
   },
   {
    "duration": 31,
    "start_time": "2024-07-07T01:10:26.001Z"
   },
   {
    "duration": 7,
    "start_time": "2024-07-07T01:10:26.041Z"
   },
   {
    "duration": 7,
    "start_time": "2024-07-07T01:10:26.050Z"
   },
   {
    "duration": 1461,
    "start_time": "2024-07-07T01:10:26.060Z"
   },
   {
    "duration": 3,
    "start_time": "2024-07-07T01:10:27.530Z"
   },
   {
    "duration": 4,
    "start_time": "2024-07-07T01:10:27.537Z"
   },
   {
    "duration": 40,
    "start_time": "2024-07-07T01:10:27.544Z"
   },
   {
    "duration": 8,
    "start_time": "2024-07-07T01:10:27.586Z"
   },
   {
    "duration": 78,
    "start_time": "2024-07-07T01:10:27.597Z"
   },
   {
    "duration": 4,
    "start_time": "2024-07-07T01:10:27.678Z"
   },
   {
    "duration": 12,
    "start_time": "2024-07-07T01:10:27.685Z"
   },
   {
    "duration": 40,
    "start_time": "2024-07-07T01:10:27.700Z"
   },
   {
    "duration": 1440,
    "start_time": "2024-07-07T01:10:27.743Z"
   },
   {
    "duration": 4,
    "start_time": "2024-07-07T01:10:29.187Z"
   },
   {
    "duration": 53,
    "start_time": "2024-07-07T01:10:29.195Z"
   },
   {
    "duration": 4,
    "start_time": "2024-07-07T01:10:29.251Z"
   },
   {
    "duration": 92,
    "start_time": "2024-07-07T01:10:29.258Z"
   },
   {
    "duration": 3,
    "start_time": "2024-07-07T01:10:29.355Z"
   },
   {
    "duration": 4,
    "start_time": "2024-07-07T01:10:29.362Z"
   },
   {
    "duration": 323,
    "start_time": "2024-07-07T01:10:29.370Z"
   },
   {
    "duration": 3,
    "start_time": "2024-07-07T01:10:29.697Z"
   },
   {
    "duration": 3,
    "start_time": "2024-07-07T01:10:29.704Z"
   },
   {
    "duration": 40,
    "start_time": "2024-07-07T01:10:29.710Z"
   },
   {
    "duration": 4,
    "start_time": "2024-07-07T01:10:29.753Z"
   },
   {
    "duration": 90,
    "start_time": "2024-07-07T01:10:29.760Z"
   },
   {
    "duration": 227,
    "start_time": "2024-07-07T01:10:29.853Z"
   },
   {
    "duration": 4,
    "start_time": "2024-07-07T01:10:30.082Z"
   },
   {
    "duration": 6,
    "start_time": "2024-07-07T01:10:30.089Z"
   },
   {
    "duration": 3,
    "start_time": "2024-07-07T01:10:30.130Z"
   },
   {
    "duration": 14,
    "start_time": "2024-07-07T01:10:30.136Z"
   },
   {
    "duration": 4,
    "start_time": "2024-07-07T01:10:30.154Z"
   },
   {
    "duration": 129,
    "start_time": "2024-07-07T01:10:30.162Z"
   },
   {
    "duration": 4,
    "start_time": "2024-07-07T01:10:30.295Z"
   },
   {
    "duration": 165,
    "start_time": "2024-07-07T01:10:30.302Z"
   },
   {
    "duration": 3,
    "start_time": "2024-07-07T01:10:30.471Z"
   },
   {
    "duration": 180,
    "start_time": "2024-07-07T01:10:30.478Z"
   },
   {
    "duration": 27,
    "start_time": "2024-07-07T01:11:15.398Z"
   },
   {
    "duration": 24,
    "start_time": "2024-07-07T01:11:23.375Z"
   },
   {
    "duration": 16,
    "start_time": "2024-07-07T01:11:30.006Z"
   },
   {
    "duration": 4927,
    "start_time": "2024-07-07T13:01:47.248Z"
   },
   {
    "duration": 223,
    "start_time": "2024-07-07T13:01:52.179Z"
   },
   {
    "duration": 5,
    "start_time": "2024-07-07T13:01:52.405Z"
   },
   {
    "duration": 22,
    "start_time": "2024-07-07T13:01:52.414Z"
   },
   {
    "duration": 103,
    "start_time": "2024-07-07T13:01:52.439Z"
   },
   {
    "duration": 49,
    "start_time": "2024-07-07T13:01:52.546Z"
   },
   {
    "duration": 47,
    "start_time": "2024-07-07T13:01:52.598Z"
   },
   {
    "duration": 16,
    "start_time": "2024-07-07T13:01:52.649Z"
   },
   {
    "duration": 6,
    "start_time": "2024-07-07T13:01:52.668Z"
   },
   {
    "duration": 67,
    "start_time": "2024-07-07T13:01:52.680Z"
   },
   {
    "duration": 261,
    "start_time": "2024-07-07T13:01:52.749Z"
   },
   {
    "duration": 21,
    "start_time": "2024-07-07T13:01:53.013Z"
   },
   {
    "duration": 5,
    "start_time": "2024-07-07T13:01:53.038Z"
   },
   {
    "duration": 7,
    "start_time": "2024-07-07T13:01:53.047Z"
   },
   {
    "duration": 7,
    "start_time": "2024-07-07T13:01:53.057Z"
   },
   {
    "duration": 1452,
    "start_time": "2024-07-07T13:01:53.068Z"
   },
   {
    "duration": 3,
    "start_time": "2024-07-07T13:01:54.530Z"
   },
   {
    "duration": 4,
    "start_time": "2024-07-07T13:01:54.535Z"
   },
   {
    "duration": 34,
    "start_time": "2024-07-07T13:01:54.542Z"
   },
   {
    "duration": 7,
    "start_time": "2024-07-07T13:01:54.578Z"
   },
   {
    "duration": 69,
    "start_time": "2024-07-07T13:01:54.588Z"
   },
   {
    "duration": 4,
    "start_time": "2024-07-07T13:01:54.660Z"
   },
   {
    "duration": 13,
    "start_time": "2024-07-07T13:01:54.668Z"
   },
   {
    "duration": 50,
    "start_time": "2024-07-07T13:01:54.684Z"
   },
   {
    "duration": 1360,
    "start_time": "2024-07-07T13:01:54.737Z"
   },
   {
    "duration": 4,
    "start_time": "2024-07-07T13:01:56.100Z"
   },
   {
    "duration": 52,
    "start_time": "2024-07-07T13:01:56.107Z"
   },
   {
    "duration": 4,
    "start_time": "2024-07-07T13:01:56.166Z"
   },
   {
    "duration": 103,
    "start_time": "2024-07-07T13:01:56.173Z"
   },
   {
    "duration": 4,
    "start_time": "2024-07-07T13:01:56.279Z"
   },
   {
    "duration": 4,
    "start_time": "2024-07-07T13:01:56.286Z"
   },
   {
    "duration": 291,
    "start_time": "2024-07-07T13:01:56.293Z"
   },
   {
    "duration": 4,
    "start_time": "2024-07-07T13:01:56.587Z"
   },
   {
    "duration": 3,
    "start_time": "2024-07-07T13:01:56.594Z"
   },
   {
    "duration": 51,
    "start_time": "2024-07-07T13:01:56.600Z"
   },
   {
    "duration": 4,
    "start_time": "2024-07-07T13:01:56.654Z"
   },
   {
    "duration": 90,
    "start_time": "2024-07-07T13:01:56.660Z"
   },
   {
    "duration": 210,
    "start_time": "2024-07-07T13:01:56.753Z"
   },
   {
    "duration": 4,
    "start_time": "2024-07-07T13:01:56.966Z"
   },
   {
    "duration": 14,
    "start_time": "2024-07-07T13:01:56.973Z"
   },
   {
    "duration": 4,
    "start_time": "2024-07-07T13:01:56.990Z"
   },
   {
    "duration": 37,
    "start_time": "2024-07-07T13:01:56.998Z"
   },
   {
    "duration": 3,
    "start_time": "2024-07-07T13:01:57.038Z"
   },
   {
    "duration": 119,
    "start_time": "2024-07-07T13:01:57.045Z"
   },
   {
    "duration": 3,
    "start_time": "2024-07-07T13:01:57.168Z"
   },
   {
    "duration": 175,
    "start_time": "2024-07-07T13:01:57.174Z"
   },
   {
    "duration": 3,
    "start_time": "2024-07-07T13:01:57.352Z"
   },
   {
    "duration": 163,
    "start_time": "2024-07-07T13:01:57.359Z"
   },
   {
    "duration": 75,
    "start_time": "2024-07-07T13:07:17.949Z"
   },
   {
    "duration": 43,
    "start_time": "2024-07-07T13:11:04.256Z"
   },
   {
    "duration": 40,
    "start_time": "2024-07-07T13:11:13.311Z"
   },
   {
    "duration": 43,
    "start_time": "2024-07-07T13:14:21.689Z"
   },
   {
    "duration": 40,
    "start_time": "2024-07-07T13:18:50.557Z"
   },
   {
    "duration": 27,
    "start_time": "2024-07-07T13:20:44.807Z"
   },
   {
    "duration": 852,
    "start_time": "2024-07-07T13:21:57.464Z"
   },
   {
    "duration": 210,
    "start_time": "2024-07-07T13:22:05.583Z"
   },
   {
    "duration": 186,
    "start_time": "2024-07-07T13:22:10.583Z"
   },
   {
    "duration": 196,
    "start_time": "2024-07-07T13:22:17.567Z"
   },
   {
    "duration": 185,
    "start_time": "2024-07-07T13:22:23.367Z"
   },
   {
    "duration": 12,
    "start_time": "2024-07-07T13:35:22.680Z"
   },
   {
    "duration": 13,
    "start_time": "2024-07-07T13:36:16.338Z"
   },
   {
    "duration": 12,
    "start_time": "2024-07-07T13:36:22.105Z"
   },
   {
    "duration": 13,
    "start_time": "2024-07-07T13:36:51.105Z"
   },
   {
    "duration": 57,
    "start_time": "2024-07-07T13:45:27.759Z"
   },
   {
    "duration": 69,
    "start_time": "2024-07-07T13:45:46.281Z"
   },
   {
    "duration": 57,
    "start_time": "2024-07-07T13:45:53.554Z"
   },
   {
    "duration": 58,
    "start_time": "2024-07-07T13:48:05.899Z"
   },
   {
    "duration": 60,
    "start_time": "2024-07-07T13:48:32.451Z"
   },
   {
    "duration": 59,
    "start_time": "2024-07-07T13:49:37.830Z"
   },
   {
    "duration": 59,
    "start_time": "2024-07-07T13:51:28.761Z"
   },
   {
    "duration": 142,
    "start_time": "2024-07-07T13:54:00.459Z"
   },
   {
    "duration": 145,
    "start_time": "2024-07-07T13:55:23.672Z"
   },
   {
    "duration": 145,
    "start_time": "2024-07-07T13:56:42.858Z"
   },
   {
    "duration": 140,
    "start_time": "2024-07-07T13:56:49.898Z"
   },
   {
    "duration": 153,
    "start_time": "2024-07-07T13:56:57.259Z"
   },
   {
    "duration": 160,
    "start_time": "2024-07-07T13:57:02.690Z"
   },
   {
    "duration": 151,
    "start_time": "2024-07-07T13:57:07.011Z"
   },
   {
    "duration": 145,
    "start_time": "2024-07-07T13:57:12.177Z"
   },
   {
    "duration": 143,
    "start_time": "2024-07-07T13:57:15.464Z"
   },
   {
    "duration": 143,
    "start_time": "2024-07-07T13:57:20.354Z"
   },
   {
    "duration": 201,
    "start_time": "2024-07-07T13:57:24.499Z"
   },
   {
    "duration": 159,
    "start_time": "2024-07-07T13:57:28.627Z"
   },
   {
    "duration": 141,
    "start_time": "2024-07-07T13:57:33.699Z"
   },
   {
    "duration": 157,
    "start_time": "2024-07-07T13:57:43.897Z"
   },
   {
    "duration": 141,
    "start_time": "2024-07-07T13:57:44.858Z"
   },
   {
    "duration": 143,
    "start_time": "2024-07-07T13:57:46.274Z"
   },
   {
    "duration": 146,
    "start_time": "2024-07-07T13:57:47.267Z"
   },
   {
    "duration": 150,
    "start_time": "2024-07-07T13:57:48.193Z"
   },
   {
    "duration": 144,
    "start_time": "2024-07-07T13:57:49.313Z"
   },
   {
    "duration": 145,
    "start_time": "2024-07-07T13:57:50.345Z"
   },
   {
    "duration": 141,
    "start_time": "2024-07-07T13:57:53.793Z"
   },
   {
    "duration": 142,
    "start_time": "2024-07-07T13:57:54.959Z"
   },
   {
    "duration": 142,
    "start_time": "2024-07-07T13:57:56.010Z"
   },
   {
    "duration": 198,
    "start_time": "2024-07-07T13:58:24.254Z"
   },
   {
    "duration": 142,
    "start_time": "2024-07-07T13:58:55.068Z"
   },
   {
    "duration": 142,
    "start_time": "2024-07-07T13:59:21.813Z"
   },
   {
    "duration": 56,
    "start_time": "2024-07-07T13:59:29.923Z"
   },
   {
    "duration": 55,
    "start_time": "2024-07-07T13:59:54.956Z"
   },
   {
    "duration": 12,
    "start_time": "2024-07-07T14:00:00.858Z"
   },
   {
    "duration": 145,
    "start_time": "2024-07-07T14:01:04.309Z"
   },
   {
    "duration": 142,
    "start_time": "2024-07-07T14:01:13.542Z"
   },
   {
    "duration": 186,
    "start_time": "2024-07-07T14:01:20.861Z"
   },
   {
    "duration": 144,
    "start_time": "2024-07-07T14:01:24.452Z"
   },
   {
    "duration": 86,
    "start_time": "2024-07-07T14:01:29.597Z"
   },
   {
    "duration": 13,
    "start_time": "2024-07-07T14:01:37.908Z"
   },
   {
    "duration": 1341,
    "start_time": "2024-07-07T14:06:01.838Z"
   },
   {
    "duration": 191,
    "start_time": "2024-07-07T14:06:03.182Z"
   },
   {
    "duration": 5,
    "start_time": "2024-07-07T14:06:03.375Z"
   },
   {
    "duration": 13,
    "start_time": "2024-07-07T14:06:03.385Z"
   },
   {
    "duration": 111,
    "start_time": "2024-07-07T14:06:03.401Z"
   },
   {
    "duration": 60,
    "start_time": "2024-07-07T14:06:03.515Z"
   },
   {
    "duration": 25,
    "start_time": "2024-07-07T14:06:03.578Z"
   },
   {
    "duration": 15,
    "start_time": "2024-07-07T14:06:03.630Z"
   },
   {
    "duration": 6,
    "start_time": "2024-07-07T14:06:03.648Z"
   },
   {
    "duration": 31,
    "start_time": "2024-07-07T14:06:03.661Z"
   },
   {
    "duration": 296,
    "start_time": "2024-07-07T14:06:03.695Z"
   },
   {
    "duration": 11,
    "start_time": "2024-07-07T14:06:03.994Z"
   },
   {
    "duration": 23,
    "start_time": "2024-07-07T14:06:04.008Z"
   },
   {
    "duration": 7,
    "start_time": "2024-07-07T14:06:04.034Z"
   },
   {
    "duration": 6,
    "start_time": "2024-07-07T14:06:04.044Z"
   },
   {
    "duration": 1441,
    "start_time": "2024-07-07T14:06:04.054Z"
   },
   {
    "duration": 4,
    "start_time": "2024-07-07T14:06:05.498Z"
   },
   {
    "duration": 4,
    "start_time": "2024-07-07T14:06:05.504Z"
   },
   {
    "duration": 33,
    "start_time": "2024-07-07T14:06:05.531Z"
   },
   {
    "duration": 8,
    "start_time": "2024-07-07T14:06:05.566Z"
   },
   {
    "duration": 60,
    "start_time": "2024-07-07T14:06:05.577Z"
   },
   {
    "duration": 4,
    "start_time": "2024-07-07T14:06:05.640Z"
   },
   {
    "duration": 13,
    "start_time": "2024-07-07T14:06:05.647Z"
   },
   {
    "duration": 18,
    "start_time": "2024-07-07T14:06:05.668Z"
   },
   {
    "duration": 1398,
    "start_time": "2024-07-07T14:06:05.690Z"
   },
   {
    "duration": 3,
    "start_time": "2024-07-07T14:06:07.091Z"
   },
   {
    "duration": 52,
    "start_time": "2024-07-07T14:06:07.097Z"
   },
   {
    "duration": 3,
    "start_time": "2024-07-07T14:06:07.157Z"
   },
   {
    "duration": 101,
    "start_time": "2024-07-07T14:06:07.163Z"
   },
   {
    "duration": 7,
    "start_time": "2024-07-07T14:06:07.268Z"
   },
   {
    "duration": 4,
    "start_time": "2024-07-07T14:06:07.278Z"
   },
   {
    "duration": 286,
    "start_time": "2024-07-07T14:06:07.285Z"
   },
   {
    "duration": 3,
    "start_time": "2024-07-07T14:06:07.575Z"
   },
   {
    "duration": 3,
    "start_time": "2024-07-07T14:06:07.582Z"
   },
   {
    "duration": 4,
    "start_time": "2024-07-07T14:06:07.587Z"
   },
   {
    "duration": 65,
    "start_time": "2024-07-07T14:06:07.594Z"
   },
   {
    "duration": 237,
    "start_time": "2024-07-07T14:06:07.662Z"
   },
   {
    "duration": 3,
    "start_time": "2024-07-07T14:06:07.902Z"
   },
   {
    "duration": 21,
    "start_time": "2024-07-07T14:06:07.909Z"
   },
   {
    "duration": 4,
    "start_time": "2024-07-07T14:06:07.933Z"
   },
   {
    "duration": 13,
    "start_time": "2024-07-07T14:06:07.940Z"
   },
   {
    "duration": 4,
    "start_time": "2024-07-07T14:06:07.956Z"
   },
   {
    "duration": 100,
    "start_time": "2024-07-07T14:06:07.964Z"
   },
   {
    "duration": 6,
    "start_time": "2024-07-07T14:06:08.067Z"
   },
   {
    "duration": 161,
    "start_time": "2024-07-07T14:06:08.076Z"
   },
   {
    "duration": 4,
    "start_time": "2024-07-07T14:06:08.240Z"
   },
   {
    "duration": 171,
    "start_time": "2024-07-07T14:06:08.247Z"
   },
   {
    "duration": 4,
    "start_time": "2024-07-07T14:06:34.586Z"
   },
   {
    "duration": 1243,
    "start_time": "2024-07-07T14:06:41.089Z"
   },
   {
    "duration": 198,
    "start_time": "2024-07-07T14:06:42.335Z"
   },
   {
    "duration": 9,
    "start_time": "2024-07-07T14:06:42.536Z"
   },
   {
    "duration": 15,
    "start_time": "2024-07-07T14:06:42.552Z"
   },
   {
    "duration": 111,
    "start_time": "2024-07-07T14:06:42.570Z"
   },
   {
    "duration": 54,
    "start_time": "2024-07-07T14:06:42.684Z"
   },
   {
    "duration": 26,
    "start_time": "2024-07-07T14:06:42.741Z"
   },
   {
    "duration": 15,
    "start_time": "2024-07-07T14:06:42.770Z"
   },
   {
    "duration": 42,
    "start_time": "2024-07-07T14:06:42.788Z"
   },
   {
    "duration": 29,
    "start_time": "2024-07-07T14:06:42.837Z"
   },
   {
    "duration": 264,
    "start_time": "2024-07-07T14:06:42.869Z"
   },
   {
    "duration": 13,
    "start_time": "2024-07-07T14:06:43.135Z"
   },
   {
    "duration": 5,
    "start_time": "2024-07-07T14:06:43.151Z"
   },
   {
    "duration": 7,
    "start_time": "2024-07-07T14:06:43.158Z"
   },
   {
    "duration": 6,
    "start_time": "2024-07-07T14:06:43.168Z"
   },
   {
    "duration": 1439,
    "start_time": "2024-07-07T14:06:43.177Z"
   },
   {
    "duration": 13,
    "start_time": "2024-07-07T14:06:44.619Z"
   },
   {
    "duration": 4,
    "start_time": "2024-07-07T14:06:44.635Z"
   },
   {
    "duration": 33,
    "start_time": "2024-07-07T14:06:44.642Z"
   },
   {
    "duration": 6,
    "start_time": "2024-07-07T14:06:44.678Z"
   },
   {
    "duration": 69,
    "start_time": "2024-07-07T14:06:44.687Z"
   },
   {
    "duration": 5,
    "start_time": "2024-07-07T14:06:44.758Z"
   },
   {
    "duration": 12,
    "start_time": "2024-07-07T14:06:44.766Z"
   },
   {
    "duration": 51,
    "start_time": "2024-07-07T14:06:44.781Z"
   },
   {
    "duration": 1367,
    "start_time": "2024-07-07T14:06:44.835Z"
   },
   {
    "duration": 4,
    "start_time": "2024-07-07T14:06:46.205Z"
   },
   {
    "duration": 49,
    "start_time": "2024-07-07T14:06:46.212Z"
   },
   {
    "duration": 3,
    "start_time": "2024-07-07T14:06:46.270Z"
   },
   {
    "duration": 96,
    "start_time": "2024-07-07T14:06:46.275Z"
   },
   {
    "duration": 4,
    "start_time": "2024-07-07T14:06:46.374Z"
   },
   {
    "duration": 4,
    "start_time": "2024-07-07T14:06:46.381Z"
   },
   {
    "duration": 280,
    "start_time": "2024-07-07T14:06:46.389Z"
   },
   {
    "duration": 3,
    "start_time": "2024-07-07T14:06:46.672Z"
   },
   {
    "duration": 3,
    "start_time": "2024-07-07T14:06:46.678Z"
   },
   {
    "duration": 3,
    "start_time": "2024-07-07T14:06:46.684Z"
   },
   {
    "duration": 70,
    "start_time": "2024-07-07T14:06:46.690Z"
   },
   {
    "duration": 257,
    "start_time": "2024-07-07T14:06:46.763Z"
   },
   {
    "duration": 3,
    "start_time": "2024-07-07T14:06:47.030Z"
   },
   {
    "duration": 5,
    "start_time": "2024-07-07T14:06:47.037Z"
   },
   {
    "duration": 5,
    "start_time": "2024-07-07T14:06:47.046Z"
   },
   {
    "duration": 16,
    "start_time": "2024-07-07T14:06:47.054Z"
   },
   {
    "duration": 4,
    "start_time": "2024-07-07T14:06:47.074Z"
   },
   {
    "duration": 104,
    "start_time": "2024-07-07T14:06:47.081Z"
   },
   {
    "duration": 3,
    "start_time": "2024-07-07T14:06:47.188Z"
   },
   {
    "duration": 174,
    "start_time": "2024-07-07T14:06:47.194Z"
   },
   {
    "duration": 4,
    "start_time": "2024-07-07T14:06:47.371Z"
   },
   {
    "duration": 169,
    "start_time": "2024-07-07T14:06:47.379Z"
   },
   {
    "duration": 5120,
    "start_time": "2024-07-09T15:57:32.114Z"
   },
   {
    "duration": 216,
    "start_time": "2024-07-09T15:57:37.237Z"
   },
   {
    "duration": 4,
    "start_time": "2024-07-09T15:57:37.456Z"
   },
   {
    "duration": 13,
    "start_time": "2024-07-09T15:57:37.464Z"
   },
   {
    "duration": 117,
    "start_time": "2024-07-09T15:57:37.482Z"
   },
   {
    "duration": 52,
    "start_time": "2024-07-09T15:57:37.602Z"
   },
   {
    "duration": 28,
    "start_time": "2024-07-09T15:57:37.657Z"
   },
   {
    "duration": 17,
    "start_time": "2024-07-09T15:57:37.712Z"
   },
   {
    "duration": 6,
    "start_time": "2024-07-09T15:57:37.732Z"
   },
   {
    "duration": 29,
    "start_time": "2024-07-09T15:57:37.741Z"
   },
   {
    "duration": 298,
    "start_time": "2024-07-09T15:57:37.773Z"
   },
   {
    "duration": 12,
    "start_time": "2024-07-09T15:57:38.074Z"
   },
   {
    "duration": 24,
    "start_time": "2024-07-09T15:57:38.089Z"
   },
   {
    "duration": 7,
    "start_time": "2024-07-09T15:57:38.120Z"
   },
   {
    "duration": 6,
    "start_time": "2024-07-09T15:57:38.130Z"
   },
   {
    "duration": 1436,
    "start_time": "2024-07-09T15:57:38.140Z"
   },
   {
    "duration": 4,
    "start_time": "2024-07-09T15:57:39.578Z"
   },
   {
    "duration": 3,
    "start_time": "2024-07-09T15:57:39.587Z"
   },
   {
    "duration": 34,
    "start_time": "2024-07-09T15:57:39.612Z"
   },
   {
    "duration": 8,
    "start_time": "2024-07-09T15:57:39.650Z"
   },
   {
    "duration": 56,
    "start_time": "2024-07-09T15:57:39.661Z"
   },
   {
    "duration": 4,
    "start_time": "2024-07-09T15:57:39.721Z"
   },
   {
    "duration": 12,
    "start_time": "2024-07-09T15:57:39.729Z"
   },
   {
    "duration": 12,
    "start_time": "2024-07-09T15:57:39.743Z"
   },
   {
    "duration": 1454,
    "start_time": "2024-07-09T15:57:39.758Z"
   },
   {
    "duration": 4,
    "start_time": "2024-07-09T15:57:41.216Z"
   },
   {
    "duration": 36,
    "start_time": "2024-07-09T15:57:41.224Z"
   },
   {
    "duration": 3,
    "start_time": "2024-07-09T15:57:41.264Z"
   },
   {
    "duration": 110,
    "start_time": "2024-07-09T15:57:41.271Z"
   },
   {
    "duration": 4,
    "start_time": "2024-07-09T15:57:41.384Z"
   },
   {
    "duration": 25,
    "start_time": "2024-07-09T15:57:41.391Z"
   },
   {
    "duration": 309,
    "start_time": "2024-07-09T15:57:41.419Z"
   },
   {
    "duration": 3,
    "start_time": "2024-07-09T15:57:41.732Z"
   },
   {
    "duration": 5,
    "start_time": "2024-07-09T15:57:41.738Z"
   },
   {
    "duration": 4,
    "start_time": "2024-07-09T15:57:41.745Z"
   },
   {
    "duration": 78,
    "start_time": "2024-07-09T15:57:41.753Z"
   },
   {
    "duration": 302,
    "start_time": "2024-07-09T15:57:41.835Z"
   },
   {
    "duration": 4,
    "start_time": "2024-07-09T15:57:42.141Z"
   },
   {
    "duration": 6,
    "start_time": "2024-07-09T15:57:42.149Z"
   },
   {
    "duration": 4,
    "start_time": "2024-07-09T15:57:42.159Z"
   },
   {
    "duration": 48,
    "start_time": "2024-07-09T15:57:42.176Z"
   },
   {
    "duration": 9,
    "start_time": "2024-07-09T15:57:42.227Z"
   },
   {
    "duration": 100,
    "start_time": "2024-07-09T15:57:42.243Z"
   },
   {
    "duration": 3,
    "start_time": "2024-07-09T15:57:42.348Z"
   },
   {
    "duration": 174,
    "start_time": "2024-07-09T15:57:42.355Z"
   },
   {
    "duration": 4,
    "start_time": "2024-07-09T15:57:42.532Z"
   },
   {
    "duration": 163,
    "start_time": "2024-07-09T15:57:42.540Z"
   },
   {
    "duration": 226,
    "start_time": "2024-07-09T15:59:00.461Z"
   },
   {
    "duration": 95,
    "start_time": "2024-07-09T15:59:04.043Z"
   },
   {
    "duration": 373,
    "start_time": "2024-07-09T16:00:40.079Z"
   },
   {
    "duration": 129,
    "start_time": "2024-07-09T16:01:27.831Z"
   },
   {
    "duration": 10,
    "start_time": "2024-07-09T16:06:30.350Z"
   },
   {
    "duration": 6,
    "start_time": "2024-07-09T16:06:47.953Z"
   },
   {
    "duration": 6,
    "start_time": "2024-07-09T16:06:56.081Z"
   },
   {
    "duration": 88,
    "start_time": "2024-07-09T16:08:53.091Z"
   },
   {
    "duration": 74,
    "start_time": "2024-07-09T16:08:59.210Z"
   },
   {
    "duration": 69,
    "start_time": "2024-07-09T16:09:08.722Z"
   },
   {
    "duration": 1284,
    "start_time": "2024-07-09T16:09:20.619Z"
   },
   {
    "duration": 190,
    "start_time": "2024-07-09T16:09:21.906Z"
   },
   {
    "duration": 4,
    "start_time": "2024-07-09T16:09:22.099Z"
   },
   {
    "duration": 19,
    "start_time": "2024-07-09T16:09:22.105Z"
   },
   {
    "duration": 104,
    "start_time": "2024-07-09T16:09:22.128Z"
   },
   {
    "duration": 50,
    "start_time": "2024-07-09T16:09:22.235Z"
   },
   {
    "duration": 48,
    "start_time": "2024-07-09T16:09:22.287Z"
   },
   {
    "duration": 15,
    "start_time": "2024-07-09T16:09:22.338Z"
   },
   {
    "duration": 100,
    "start_time": "2024-07-09T16:09:22.357Z"
   },
   {
    "duration": 103,
    "start_time": "2024-07-09T16:09:22.459Z"
   },
   {
    "duration": 96,
    "start_time": "2024-07-09T16:09:22.565Z"
   },
   {
    "duration": 91,
    "start_time": "2024-07-09T16:09:22.664Z"
   },
   {
    "duration": 6,
    "start_time": "2024-07-09T16:09:22.759Z"
   },
   {
    "duration": 46,
    "start_time": "2024-07-09T16:09:22.773Z"
   },
   {
    "duration": 274,
    "start_time": "2024-07-09T16:09:22.822Z"
   },
   {
    "duration": 18,
    "start_time": "2024-07-09T16:09:23.099Z"
   },
   {
    "duration": 6,
    "start_time": "2024-07-09T16:09:23.122Z"
   },
   {
    "duration": 6,
    "start_time": "2024-07-09T16:09:23.132Z"
   },
   {
    "duration": 6,
    "start_time": "2024-07-09T16:09:23.142Z"
   },
   {
    "duration": 1475,
    "start_time": "2024-07-09T16:09:23.151Z"
   },
   {
    "duration": 3,
    "start_time": "2024-07-09T16:09:24.630Z"
   },
   {
    "duration": 4,
    "start_time": "2024-07-09T16:09:24.636Z"
   },
   {
    "duration": 29,
    "start_time": "2024-07-09T16:09:24.644Z"
   },
   {
    "duration": 40,
    "start_time": "2024-07-09T16:09:24.676Z"
   },
   {
    "duration": 29,
    "start_time": "2024-07-09T16:09:24.719Z"
   },
   {
    "duration": 3,
    "start_time": "2024-07-09T16:09:24.751Z"
   },
   {
    "duration": 10,
    "start_time": "2024-07-09T16:09:24.757Z"
   },
   {
    "duration": 9,
    "start_time": "2024-07-09T16:09:24.812Z"
   },
   {
    "duration": 1381,
    "start_time": "2024-07-09T16:09:24.824Z"
   },
   {
    "duration": 4,
    "start_time": "2024-07-09T16:09:26.211Z"
   },
   {
    "duration": 35,
    "start_time": "2024-07-09T16:09:26.218Z"
   },
   {
    "duration": 3,
    "start_time": "2024-07-09T16:09:26.256Z"
   },
   {
    "duration": 110,
    "start_time": "2024-07-09T16:09:26.262Z"
   },
   {
    "duration": 3,
    "start_time": "2024-07-09T16:09:26.375Z"
   },
   {
    "duration": 5,
    "start_time": "2024-07-09T16:09:26.382Z"
   },
   {
    "duration": 292,
    "start_time": "2024-07-09T16:09:26.390Z"
   },
   {
    "duration": 4,
    "start_time": "2024-07-09T16:09:26.685Z"
   },
   {
    "duration": 3,
    "start_time": "2024-07-09T16:09:26.692Z"
   },
   {
    "duration": 16,
    "start_time": "2024-07-09T16:09:26.698Z"
   },
   {
    "duration": 37,
    "start_time": "2024-07-09T16:09:26.717Z"
   },
   {
    "duration": 205,
    "start_time": "2024-07-09T16:09:26.818Z"
   },
   {
    "duration": 5,
    "start_time": "2024-07-09T16:09:27.026Z"
   },
   {
    "duration": 5,
    "start_time": "2024-07-09T16:09:27.034Z"
   },
   {
    "duration": 4,
    "start_time": "2024-07-09T16:09:27.042Z"
   },
   {
    "duration": 13,
    "start_time": "2024-07-09T16:09:27.049Z"
   },
   {
    "duration": 50,
    "start_time": "2024-07-09T16:09:27.065Z"
   },
   {
    "duration": 67,
    "start_time": "2024-07-09T16:09:27.119Z"
   },
   {
    "duration": 24,
    "start_time": "2024-07-09T16:09:27.189Z"
   },
   {
    "duration": 163,
    "start_time": "2024-07-09T16:09:27.216Z"
   },
   {
    "duration": 4,
    "start_time": "2024-07-09T16:09:27.382Z"
   },
   {
    "duration": 168,
    "start_time": "2024-07-09T16:09:27.389Z"
   },
   {
    "duration": 420,
    "start_time": "2024-07-09T16:10:08.740Z"
   },
   {
    "duration": 77,
    "start_time": "2024-07-09T16:10:23.074Z"
   },
   {
    "duration": 20,
    "start_time": "2024-07-09T16:10:32.091Z"
   },
   {
    "duration": 36,
    "start_time": "2024-07-09T16:10:39.644Z"
   },
   {
    "duration": 36,
    "start_time": "2024-07-09T16:10:44.518Z"
   },
   {
    "duration": 69,
    "start_time": "2024-07-09T16:10:50.611Z"
   },
   {
    "duration": 5,
    "start_time": "2024-07-09T16:13:38.766Z"
   },
   {
    "duration": 1237,
    "start_time": "2024-07-09T16:15:14.872Z"
   },
   {
    "duration": 185,
    "start_time": "2024-07-09T16:15:16.114Z"
   },
   {
    "duration": 4,
    "start_time": "2024-07-09T16:15:16.302Z"
   },
   {
    "duration": 16,
    "start_time": "2024-07-09T16:15:16.313Z"
   },
   {
    "duration": 100,
    "start_time": "2024-07-09T16:15:16.333Z"
   },
   {
    "duration": 48,
    "start_time": "2024-07-09T16:15:16.437Z"
   },
   {
    "duration": 49,
    "start_time": "2024-07-09T16:15:16.488Z"
   },
   {
    "duration": 15,
    "start_time": "2024-07-09T16:15:16.539Z"
   },
   {
    "duration": 101,
    "start_time": "2024-07-09T16:15:16.557Z"
   },
   {
    "duration": 109,
    "start_time": "2024-07-09T16:15:16.661Z"
   },
   {
    "duration": 108,
    "start_time": "2024-07-09T16:15:16.774Z"
   },
   {
    "duration": 91,
    "start_time": "2024-07-09T16:15:16.886Z"
   },
   {
    "duration": 79,
    "start_time": "2024-07-09T16:15:16.979Z"
   },
   {
    "duration": 28,
    "start_time": "2024-07-09T16:15:17.065Z"
   },
   {
    "duration": 250,
    "start_time": "2024-07-09T16:15:17.112Z"
   },
   {
    "duration": 10,
    "start_time": "2024-07-09T16:15:17.366Z"
   },
   {
    "duration": 488,
    "start_time": "2024-07-09T16:15:17.379Z"
   },
   {
    "duration": 0,
    "start_time": "2024-07-09T16:15:17.871Z"
   },
   {
    "duration": 0,
    "start_time": "2024-07-09T16:15:17.873Z"
   },
   {
    "duration": 0,
    "start_time": "2024-07-09T16:15:17.876Z"
   },
   {
    "duration": 0,
    "start_time": "2024-07-09T16:15:17.878Z"
   },
   {
    "duration": 0,
    "start_time": "2024-07-09T16:15:17.881Z"
   },
   {
    "duration": 0,
    "start_time": "2024-07-09T16:15:17.883Z"
   },
   {
    "duration": 0,
    "start_time": "2024-07-09T16:15:17.885Z"
   },
   {
    "duration": 0,
    "start_time": "2024-07-09T16:15:17.912Z"
   },
   {
    "duration": 0,
    "start_time": "2024-07-09T16:15:17.915Z"
   },
   {
    "duration": 0,
    "start_time": "2024-07-09T16:15:17.917Z"
   },
   {
    "duration": 0,
    "start_time": "2024-07-09T16:15:17.919Z"
   },
   {
    "duration": 0,
    "start_time": "2024-07-09T16:15:17.921Z"
   },
   {
    "duration": 0,
    "start_time": "2024-07-09T16:15:17.923Z"
   },
   {
    "duration": 0,
    "start_time": "2024-07-09T16:15:17.925Z"
   },
   {
    "duration": 0,
    "start_time": "2024-07-09T16:15:17.927Z"
   },
   {
    "duration": 0,
    "start_time": "2024-07-09T16:15:17.929Z"
   },
   {
    "duration": 0,
    "start_time": "2024-07-09T16:15:17.932Z"
   },
   {
    "duration": 0,
    "start_time": "2024-07-09T16:15:17.934Z"
   },
   {
    "duration": 0,
    "start_time": "2024-07-09T16:15:17.936Z"
   },
   {
    "duration": 0,
    "start_time": "2024-07-09T16:15:17.940Z"
   },
   {
    "duration": 0,
    "start_time": "2024-07-09T16:15:17.942Z"
   },
   {
    "duration": 0,
    "start_time": "2024-07-09T16:15:17.945Z"
   },
   {
    "duration": 0,
    "start_time": "2024-07-09T16:15:17.947Z"
   },
   {
    "duration": 0,
    "start_time": "2024-07-09T16:15:17.950Z"
   },
   {
    "duration": 0,
    "start_time": "2024-07-09T16:15:17.952Z"
   },
   {
    "duration": 0,
    "start_time": "2024-07-09T16:15:17.954Z"
   },
   {
    "duration": 0,
    "start_time": "2024-07-09T16:15:18.012Z"
   },
   {
    "duration": 0,
    "start_time": "2024-07-09T16:15:18.016Z"
   },
   {
    "duration": 0,
    "start_time": "2024-07-09T16:15:18.018Z"
   },
   {
    "duration": 0,
    "start_time": "2024-07-09T16:15:18.021Z"
   },
   {
    "duration": 0,
    "start_time": "2024-07-09T16:15:18.023Z"
   },
   {
    "duration": 0,
    "start_time": "2024-07-09T16:15:18.025Z"
   },
   {
    "duration": 0,
    "start_time": "2024-07-09T16:15:18.027Z"
   },
   {
    "duration": 0,
    "start_time": "2024-07-09T16:15:18.029Z"
   },
   {
    "duration": 4969,
    "start_time": "2024-07-09T16:56:02.798Z"
   },
   {
    "duration": 242,
    "start_time": "2024-07-09T16:56:07.773Z"
   },
   {
    "duration": 7,
    "start_time": "2024-07-09T16:56:08.018Z"
   },
   {
    "duration": 13,
    "start_time": "2024-07-09T16:56:08.028Z"
   },
   {
    "duration": 111,
    "start_time": "2024-07-09T16:56:08.046Z"
   },
   {
    "duration": 64,
    "start_time": "2024-07-09T16:56:08.160Z"
   },
   {
    "duration": 27,
    "start_time": "2024-07-09T16:56:08.226Z"
   },
   {
    "duration": 16,
    "start_time": "2024-07-09T16:56:08.256Z"
   },
   {
    "duration": 99,
    "start_time": "2024-07-09T16:56:08.275Z"
   },
   {
    "duration": 101,
    "start_time": "2024-07-09T16:56:08.377Z"
   },
   {
    "duration": 102,
    "start_time": "2024-07-09T16:56:08.482Z"
   },
   {
    "duration": 77,
    "start_time": "2024-07-09T16:56:08.587Z"
   },
   {
    "duration": 76,
    "start_time": "2024-07-09T16:56:08.667Z"
   },
   {
    "duration": 29,
    "start_time": "2024-07-09T16:56:08.752Z"
   },
   {
    "duration": 265,
    "start_time": "2024-07-09T16:56:08.784Z"
   },
   {
    "duration": 11,
    "start_time": "2024-07-09T16:56:09.052Z"
   },
   {
    "duration": 426,
    "start_time": "2024-07-09T16:56:09.066Z"
   },
   {
    "duration": 0,
    "start_time": "2024-07-09T16:56:09.495Z"
   },
   {
    "duration": 0,
    "start_time": "2024-07-09T16:56:09.497Z"
   },
   {
    "duration": 0,
    "start_time": "2024-07-09T16:56:09.508Z"
   },
   {
    "duration": 0,
    "start_time": "2024-07-09T16:56:09.510Z"
   },
   {
    "duration": 0,
    "start_time": "2024-07-09T16:56:09.512Z"
   },
   {
    "duration": 0,
    "start_time": "2024-07-09T16:56:09.514Z"
   },
   {
    "duration": 0,
    "start_time": "2024-07-09T16:56:09.516Z"
   },
   {
    "duration": 0,
    "start_time": "2024-07-09T16:56:09.517Z"
   },
   {
    "duration": 0,
    "start_time": "2024-07-09T16:56:09.520Z"
   },
   {
    "duration": 0,
    "start_time": "2024-07-09T16:56:09.522Z"
   },
   {
    "duration": 0,
    "start_time": "2024-07-09T16:56:09.525Z"
   },
   {
    "duration": 0,
    "start_time": "2024-07-09T16:56:09.527Z"
   },
   {
    "duration": 0,
    "start_time": "2024-07-09T16:56:09.530Z"
   },
   {
    "duration": 0,
    "start_time": "2024-07-09T16:56:09.531Z"
   },
   {
    "duration": 0,
    "start_time": "2024-07-09T16:56:09.533Z"
   },
   {
    "duration": 0,
    "start_time": "2024-07-09T16:56:09.534Z"
   },
   {
    "duration": 0,
    "start_time": "2024-07-09T16:56:09.536Z"
   },
   {
    "duration": 0,
    "start_time": "2024-07-09T16:56:09.538Z"
   },
   {
    "duration": 0,
    "start_time": "2024-07-09T16:56:09.540Z"
   },
   {
    "duration": 0,
    "start_time": "2024-07-09T16:56:09.542Z"
   },
   {
    "duration": 0,
    "start_time": "2024-07-09T16:56:09.548Z"
   },
   {
    "duration": 0,
    "start_time": "2024-07-09T16:56:09.550Z"
   },
   {
    "duration": 0,
    "start_time": "2024-07-09T16:56:09.553Z"
   },
   {
    "duration": 0,
    "start_time": "2024-07-09T16:56:09.554Z"
   },
   {
    "duration": 0,
    "start_time": "2024-07-09T16:56:09.555Z"
   },
   {
    "duration": 0,
    "start_time": "2024-07-09T16:56:09.608Z"
   },
   {
    "duration": 0,
    "start_time": "2024-07-09T16:56:09.611Z"
   },
   {
    "duration": 0,
    "start_time": "2024-07-09T16:56:09.613Z"
   },
   {
    "duration": 0,
    "start_time": "2024-07-09T16:56:09.615Z"
   },
   {
    "duration": 0,
    "start_time": "2024-07-09T16:56:09.616Z"
   },
   {
    "duration": 0,
    "start_time": "2024-07-09T16:56:09.618Z"
   },
   {
    "duration": 0,
    "start_time": "2024-07-09T16:56:09.621Z"
   },
   {
    "duration": 0,
    "start_time": "2024-07-09T16:56:09.626Z"
   },
   {
    "duration": 0,
    "start_time": "2024-07-09T16:56:09.629Z"
   },
   {
    "duration": 1301,
    "start_time": "2024-07-09T17:00:34.282Z"
   },
   {
    "duration": 195,
    "start_time": "2024-07-09T17:00:35.586Z"
   },
   {
    "duration": 4,
    "start_time": "2024-07-09T17:00:35.784Z"
   },
   {
    "duration": 25,
    "start_time": "2024-07-09T17:00:35.793Z"
   },
   {
    "duration": 104,
    "start_time": "2024-07-09T17:00:35.821Z"
   },
   {
    "duration": 52,
    "start_time": "2024-07-09T17:00:35.929Z"
   },
   {
    "duration": 41,
    "start_time": "2024-07-09T17:00:35.983Z"
   },
   {
    "duration": 15,
    "start_time": "2024-07-09T17:00:36.028Z"
   },
   {
    "duration": 104,
    "start_time": "2024-07-09T17:00:36.046Z"
   },
   {
    "duration": 100,
    "start_time": "2024-07-09T17:00:36.157Z"
   },
   {
    "duration": 91,
    "start_time": "2024-07-09T17:00:36.260Z"
   },
   {
    "duration": 86,
    "start_time": "2024-07-09T17:00:36.354Z"
   },
   {
    "duration": 75,
    "start_time": "2024-07-09T17:00:36.443Z"
   },
   {
    "duration": 29,
    "start_time": "2024-07-09T17:00:36.521Z"
   },
   {
    "duration": 260,
    "start_time": "2024-07-09T17:00:36.553Z"
   },
   {
    "duration": 10,
    "start_time": "2024-07-09T17:00:36.816Z"
   },
   {
    "duration": 483,
    "start_time": "2024-07-09T17:00:36.828Z"
   },
   {
    "duration": 0,
    "start_time": "2024-07-09T17:00:37.316Z"
   },
   {
    "duration": 0,
    "start_time": "2024-07-09T17:00:37.319Z"
   },
   {
    "duration": 0,
    "start_time": "2024-07-09T17:00:37.320Z"
   },
   {
    "duration": 0,
    "start_time": "2024-07-09T17:00:37.323Z"
   },
   {
    "duration": 0,
    "start_time": "2024-07-09T17:00:37.325Z"
   },
   {
    "duration": 0,
    "start_time": "2024-07-09T17:00:37.326Z"
   },
   {
    "duration": 0,
    "start_time": "2024-07-09T17:00:37.329Z"
   },
   {
    "duration": 0,
    "start_time": "2024-07-09T17:00:37.331Z"
   },
   {
    "duration": 0,
    "start_time": "2024-07-09T17:00:37.332Z"
   },
   {
    "duration": 0,
    "start_time": "2024-07-09T17:00:37.334Z"
   },
   {
    "duration": 0,
    "start_time": "2024-07-09T17:00:37.335Z"
   },
   {
    "duration": 0,
    "start_time": "2024-07-09T17:00:37.337Z"
   },
   {
    "duration": 0,
    "start_time": "2024-07-09T17:00:37.338Z"
   },
   {
    "duration": 0,
    "start_time": "2024-07-09T17:00:37.340Z"
   },
   {
    "duration": 0,
    "start_time": "2024-07-09T17:00:37.348Z"
   },
   {
    "duration": 0,
    "start_time": "2024-07-09T17:00:37.349Z"
   },
   {
    "duration": 0,
    "start_time": "2024-07-09T17:00:37.352Z"
   },
   {
    "duration": 0,
    "start_time": "2024-07-09T17:00:37.354Z"
   },
   {
    "duration": 0,
    "start_time": "2024-07-09T17:00:37.356Z"
   },
   {
    "duration": 0,
    "start_time": "2024-07-09T17:00:37.409Z"
   },
   {
    "duration": 0,
    "start_time": "2024-07-09T17:00:37.411Z"
   },
   {
    "duration": 0,
    "start_time": "2024-07-09T17:00:37.412Z"
   },
   {
    "duration": 0,
    "start_time": "2024-07-09T17:00:37.414Z"
   },
   {
    "duration": 0,
    "start_time": "2024-07-09T17:00:37.415Z"
   },
   {
    "duration": 0,
    "start_time": "2024-07-09T17:00:37.417Z"
   },
   {
    "duration": 0,
    "start_time": "2024-07-09T17:00:37.419Z"
   },
   {
    "duration": 0,
    "start_time": "2024-07-09T17:00:37.420Z"
   },
   {
    "duration": 0,
    "start_time": "2024-07-09T17:00:37.422Z"
   },
   {
    "duration": 0,
    "start_time": "2024-07-09T17:00:37.424Z"
   },
   {
    "duration": 0,
    "start_time": "2024-07-09T17:00:37.426Z"
   },
   {
    "duration": 0,
    "start_time": "2024-07-09T17:00:37.428Z"
   },
   {
    "duration": 0,
    "start_time": "2024-07-09T17:00:37.430Z"
   },
   {
    "duration": 0,
    "start_time": "2024-07-09T17:00:37.431Z"
   },
   {
    "duration": 0,
    "start_time": "2024-07-09T17:00:37.433Z"
   },
   {
    "duration": 5,
    "start_time": "2024-07-09T17:01:30.209Z"
   },
   {
    "duration": 184,
    "start_time": "2024-07-09T17:01:30.363Z"
   },
   {
    "duration": 4,
    "start_time": "2024-07-09T17:01:32.256Z"
   },
   {
    "duration": 8,
    "start_time": "2024-07-09T17:01:32.672Z"
   },
   {
    "duration": 87,
    "start_time": "2024-07-09T17:01:33.120Z"
   },
   {
    "duration": 57,
    "start_time": "2024-07-09T17:01:33.503Z"
   },
   {
    "duration": 25,
    "start_time": "2024-07-09T17:01:33.989Z"
   },
   {
    "duration": 15,
    "start_time": "2024-07-09T17:01:40.409Z"
   },
   {
    "duration": 65,
    "start_time": "2024-07-09T17:01:44.206Z"
   },
   {
    "duration": 81,
    "start_time": "2024-07-09T17:01:45.096Z"
   },
   {
    "duration": 76,
    "start_time": "2024-07-09T17:01:46.364Z"
   },
   {
    "duration": 73,
    "start_time": "2024-07-09T17:01:48.268Z"
   },
   {
    "duration": 60,
    "start_time": "2024-07-09T17:01:51.274Z"
   },
   {
    "duration": 61,
    "start_time": "2024-07-09T17:02:28.739Z"
   },
   {
    "duration": 29,
    "start_time": "2024-07-09T17:02:32.028Z"
   },
   {
    "duration": 227,
    "start_time": "2024-07-09T17:02:34.361Z"
   },
   {
    "duration": 9,
    "start_time": "2024-07-09T17:02:37.052Z"
   },
   {
    "duration": 22,
    "start_time": "2024-07-09T17:02:38.083Z"
   },
   {
    "duration": 36,
    "start_time": "2024-07-09T17:03:44.078Z"
   },
   {
    "duration": 15,
    "start_time": "2024-07-09T17:03:48.677Z"
   },
   {
    "duration": 21,
    "start_time": "2024-07-09T17:04:01.350Z"
   },
   {
    "duration": 15,
    "start_time": "2024-07-09T17:04:05.028Z"
   },
   {
    "duration": 6,
    "start_time": "2024-07-09T17:04:10.159Z"
   },
   {
    "duration": 6,
    "start_time": "2024-07-09T17:04:15.414Z"
   },
   {
    "duration": 1422,
    "start_time": "2024-07-09T17:04:17.342Z"
   },
   {
    "duration": 4,
    "start_time": "2024-07-09T17:04:20.700Z"
   },
   {
    "duration": 3,
    "start_time": "2024-07-09T17:04:20.996Z"
   },
   {
    "duration": 28,
    "start_time": "2024-07-09T17:04:21.351Z"
   },
   {
    "duration": 6,
    "start_time": "2024-07-09T17:04:21.763Z"
   },
   {
    "duration": 44,
    "start_time": "2024-07-09T17:04:23.338Z"
   },
   {
    "duration": 30,
    "start_time": "2024-07-09T17:10:23.171Z"
   },
   {
    "duration": 212,
    "start_time": "2024-07-09T17:10:36.569Z"
   },
   {
    "duration": 41,
    "start_time": "2024-07-09T17:11:17.986Z"
   },
   {
    "duration": 41,
    "start_time": "2024-07-09T17:11:49.690Z"
   },
   {
    "duration": 11,
    "start_time": "2024-07-09T17:13:20.870Z"
   },
   {
    "duration": 30,
    "start_time": "2024-07-09T17:17:33.622Z"
   },
   {
    "duration": 30,
    "start_time": "2024-07-09T17:17:40.289Z"
   },
   {
    "duration": 870,
    "start_time": "2024-07-09T17:17:51.627Z"
   },
   {
    "duration": 40,
    "start_time": "2024-07-09T17:21:24.289Z"
   },
   {
    "duration": 40,
    "start_time": "2024-07-09T17:22:44.458Z"
   },
   {
    "duration": 43,
    "start_time": "2024-07-09T17:23:31.514Z"
   },
   {
    "duration": 30,
    "start_time": "2024-07-09T17:23:46.275Z"
   },
   {
    "duration": 30,
    "start_time": "2024-07-09T17:24:48.323Z"
   },
   {
    "duration": 44,
    "start_time": "2024-07-09T17:25:12.372Z"
   },
   {
    "duration": 10,
    "start_time": "2024-07-09T17:25:53.747Z"
   },
   {
    "duration": 32,
    "start_time": "2024-07-09T17:25:59.344Z"
   },
   {
    "duration": 32,
    "start_time": "2024-07-09T17:28:16.358Z"
   },
   {
    "duration": 4,
    "start_time": "2024-07-09T17:32:53.400Z"
   },
   {
    "duration": 6,
    "start_time": "2024-07-09T17:32:57.970Z"
   },
   {
    "duration": 7,
    "start_time": "2024-07-09T17:33:12.401Z"
   },
   {
    "duration": 10,
    "start_time": "2024-07-09T17:34:45.668Z"
   },
   {
    "duration": 7,
    "start_time": "2024-07-09T17:35:58.947Z"
   },
   {
    "duration": 5,
    "start_time": "2024-07-09T17:36:03.750Z"
   },
   {
    "duration": 6,
    "start_time": "2024-07-09T17:36:31.130Z"
   },
   {
    "duration": 26,
    "start_time": "2024-07-09T17:36:52.897Z"
   },
   {
    "duration": 9,
    "start_time": "2024-07-09T17:37:01.061Z"
   },
   {
    "duration": 7,
    "start_time": "2024-07-09T17:42:46.176Z"
   },
   {
    "duration": 5,
    "start_time": "2024-07-09T17:43:14.385Z"
   },
   {
    "duration": 6,
    "start_time": "2024-07-09T17:43:21.882Z"
   },
   {
    "duration": 1228,
    "start_time": "2024-07-09T17:44:22.646Z"
   },
   {
    "duration": 187,
    "start_time": "2024-07-09T17:44:23.877Z"
   },
   {
    "duration": 5,
    "start_time": "2024-07-09T17:44:24.066Z"
   },
   {
    "duration": 33,
    "start_time": "2024-07-09T17:44:24.075Z"
   },
   {
    "duration": 98,
    "start_time": "2024-07-09T17:44:24.111Z"
   },
   {
    "duration": 48,
    "start_time": "2024-07-09T17:44:24.212Z"
   },
   {
    "duration": 46,
    "start_time": "2024-07-09T17:44:24.264Z"
   },
   {
    "duration": 18,
    "start_time": "2024-07-09T17:44:24.313Z"
   },
   {
    "duration": 95,
    "start_time": "2024-07-09T17:44:24.334Z"
   },
   {
    "duration": 102,
    "start_time": "2024-07-09T17:44:24.435Z"
   },
   {
    "duration": 127,
    "start_time": "2024-07-09T17:44:24.539Z"
   },
   {
    "duration": 76,
    "start_time": "2024-07-09T17:44:24.668Z"
   },
   {
    "duration": 73,
    "start_time": "2024-07-09T17:44:24.746Z"
   },
   {
    "duration": 30,
    "start_time": "2024-07-09T17:44:24.824Z"
   },
   {
    "duration": 271,
    "start_time": "2024-07-09T17:44:24.857Z"
   },
   {
    "duration": 10,
    "start_time": "2024-07-09T17:44:25.131Z"
   },
   {
    "duration": 14,
    "start_time": "2024-07-09T17:44:25.144Z"
   },
   {
    "duration": 6,
    "start_time": "2024-07-09T17:44:25.162Z"
   },
   {
    "duration": 7,
    "start_time": "2024-07-09T17:44:25.209Z"
   },
   {
    "duration": 1440,
    "start_time": "2024-07-09T17:44:25.223Z"
   },
   {
    "duration": 3,
    "start_time": "2024-07-09T17:44:26.666Z"
   },
   {
    "duration": 4,
    "start_time": "2024-07-09T17:44:26.672Z"
   },
   {
    "duration": 57,
    "start_time": "2024-07-09T17:44:26.678Z"
   },
   {
    "duration": 11,
    "start_time": "2024-07-09T17:44:26.737Z"
   },
   {
    "duration": 56,
    "start_time": "2024-07-09T17:44:26.751Z"
   },
   {
    "duration": 6,
    "start_time": "2024-07-09T17:44:26.811Z"
   },
   {
    "duration": 7,
    "start_time": "2024-07-09T17:44:26.821Z"
   },
   {
    "duration": 4,
    "start_time": "2024-07-09T17:44:26.838Z"
   },
   {
    "duration": 11,
    "start_time": "2024-07-09T17:44:26.845Z"
   },
   {
    "duration": 56,
    "start_time": "2024-07-09T17:44:26.859Z"
   },
   {
    "duration": 1416,
    "start_time": "2024-07-09T17:44:26.918Z"
   },
   {
    "duration": 3,
    "start_time": "2024-07-09T17:44:28.337Z"
   },
   {
    "duration": 34,
    "start_time": "2024-07-09T17:44:28.344Z"
   },
   {
    "duration": 3,
    "start_time": "2024-07-09T17:44:28.410Z"
   },
   {
    "duration": 71,
    "start_time": "2024-07-09T17:44:28.416Z"
   },
   {
    "duration": 21,
    "start_time": "2024-07-09T17:44:28.489Z"
   },
   {
    "duration": 4,
    "start_time": "2024-07-09T17:44:28.513Z"
   },
   {
    "duration": 306,
    "start_time": "2024-07-09T17:44:28.519Z"
   },
   {
    "duration": 3,
    "start_time": "2024-07-09T17:44:28.829Z"
   },
   {
    "duration": 2,
    "start_time": "2024-07-09T17:44:28.836Z"
   },
   {
    "duration": 4,
    "start_time": "2024-07-09T17:44:28.841Z"
   },
   {
    "duration": 79,
    "start_time": "2024-07-09T17:44:28.848Z"
   },
   {
    "duration": 253,
    "start_time": "2024-07-09T17:44:28.932Z"
   },
   {
    "duration": 4,
    "start_time": "2024-07-09T17:44:29.188Z"
   },
   {
    "duration": 5,
    "start_time": "2024-07-09T17:44:29.208Z"
   },
   {
    "duration": 3,
    "start_time": "2024-07-09T17:44:29.217Z"
   },
   {
    "duration": 13,
    "start_time": "2024-07-09T17:44:29.224Z"
   },
   {
    "duration": 3,
    "start_time": "2024-07-09T17:44:29.240Z"
   },
   {
    "duration": 100,
    "start_time": "2024-07-09T17:44:29.247Z"
   },
   {
    "duration": 4,
    "start_time": "2024-07-09T17:44:29.350Z"
   },
   {
    "duration": 166,
    "start_time": "2024-07-09T17:44:29.357Z"
   },
   {
    "duration": 4,
    "start_time": "2024-07-09T17:44:29.527Z"
   },
   {
    "duration": 163,
    "start_time": "2024-07-09T17:44:29.534Z"
   },
   {
    "duration": 78,
    "start_time": "2024-07-09T17:53:04.979Z"
   },
   {
    "duration": 71,
    "start_time": "2024-07-09T17:54:01.157Z"
   },
   {
    "duration": 5,
    "start_time": "2024-07-09T17:54:29.282Z"
   },
   {
    "duration": 9,
    "start_time": "2024-07-09T17:54:36.009Z"
   },
   {
    "duration": 40,
    "start_time": "2024-07-09T18:07:27.483Z"
   },
   {
    "duration": 126,
    "start_time": "2024-07-09T18:08:41.547Z"
   },
   {
    "duration": 1365,
    "start_time": "2024-07-09T18:09:13.500Z"
   },
   {
    "duration": 197,
    "start_time": "2024-07-09T18:09:14.868Z"
   },
   {
    "duration": 5,
    "start_time": "2024-07-09T18:09:15.068Z"
   },
   {
    "duration": 30,
    "start_time": "2024-07-09T18:09:15.078Z"
   },
   {
    "duration": 98,
    "start_time": "2024-07-09T18:09:15.111Z"
   },
   {
    "duration": 54,
    "start_time": "2024-07-09T18:09:15.213Z"
   },
   {
    "duration": 49,
    "start_time": "2024-07-09T18:09:15.269Z"
   },
   {
    "duration": 16,
    "start_time": "2024-07-09T18:09:15.321Z"
   },
   {
    "duration": 97,
    "start_time": "2024-07-09T18:09:15.340Z"
   },
   {
    "duration": 103,
    "start_time": "2024-07-09T18:09:15.443Z"
   },
   {
    "duration": 91,
    "start_time": "2024-07-09T18:09:15.549Z"
   },
   {
    "duration": 81,
    "start_time": "2024-07-09T18:09:15.643Z"
   },
   {
    "duration": 61,
    "start_time": "2024-07-09T18:09:15.727Z"
   },
   {
    "duration": 41,
    "start_time": "2024-07-09T18:09:15.791Z"
   },
   {
    "duration": 254,
    "start_time": "2024-07-09T18:09:15.834Z"
   },
   {
    "duration": 19,
    "start_time": "2024-07-09T18:09:16.092Z"
   },
   {
    "duration": 18,
    "start_time": "2024-07-09T18:09:16.114Z"
   },
   {
    "duration": 8,
    "start_time": "2024-07-09T18:09:16.136Z"
   },
   {
    "duration": 7,
    "start_time": "2024-07-09T18:09:16.147Z"
   },
   {
    "duration": 1460,
    "start_time": "2024-07-09T18:09:16.157Z"
   },
   {
    "duration": 3,
    "start_time": "2024-07-09T18:09:17.620Z"
   },
   {
    "duration": 5,
    "start_time": "2024-07-09T18:09:17.626Z"
   },
   {
    "duration": 30,
    "start_time": "2024-07-09T18:09:17.634Z"
   },
   {
    "duration": 44,
    "start_time": "2024-07-09T18:09:17.666Z"
   },
   {
    "duration": 34,
    "start_time": "2024-07-09T18:09:17.713Z"
   },
   {
    "duration": 5,
    "start_time": "2024-07-09T18:09:17.750Z"
   },
   {
    "duration": 7,
    "start_time": "2024-07-09T18:09:17.758Z"
   },
   {
    "duration": 3,
    "start_time": "2024-07-09T18:09:17.812Z"
   },
   {
    "duration": 10,
    "start_time": "2024-07-09T18:09:17.818Z"
   },
   {
    "duration": 9,
    "start_time": "2024-07-09T18:09:17.830Z"
   },
   {
    "duration": 1392,
    "start_time": "2024-07-09T18:09:17.842Z"
   },
   {
    "duration": 3,
    "start_time": "2024-07-09T18:09:19.237Z"
   },
   {
    "duration": 34,
    "start_time": "2024-07-09T18:09:19.244Z"
   },
   {
    "duration": 29,
    "start_time": "2024-07-09T18:09:19.281Z"
   },
   {
    "duration": 73,
    "start_time": "2024-07-09T18:09:19.316Z"
   },
   {
    "duration": 4,
    "start_time": "2024-07-09T18:09:19.410Z"
   },
   {
    "duration": 3,
    "start_time": "2024-07-09T18:09:19.418Z"
   },
   {
    "duration": 285,
    "start_time": "2024-07-09T18:09:19.425Z"
   },
   {
    "duration": 172,
    "start_time": "2024-07-09T18:09:19.713Z"
   },
   {
    "duration": 19,
    "start_time": "2024-07-09T18:09:19.889Z"
   },
   {
    "duration": 3,
    "start_time": "2024-07-09T18:09:19.912Z"
   },
   {
    "duration": 4,
    "start_time": "2024-07-09T18:09:19.918Z"
   },
   {
    "duration": 27,
    "start_time": "2024-07-09T18:09:19.925Z"
   },
   {
    "duration": 227,
    "start_time": "2024-07-09T18:09:19.955Z"
   },
   {
    "duration": 3,
    "start_time": "2024-07-09T18:09:20.185Z"
   },
   {
    "duration": 20,
    "start_time": "2024-07-09T18:09:20.191Z"
   },
   {
    "duration": 4,
    "start_time": "2024-07-09T18:09:20.214Z"
   },
   {
    "duration": 12,
    "start_time": "2024-07-09T18:09:20.222Z"
   },
   {
    "duration": 4,
    "start_time": "2024-07-09T18:09:20.237Z"
   },
   {
    "duration": 105,
    "start_time": "2024-07-09T18:09:20.244Z"
   },
   {
    "duration": 4,
    "start_time": "2024-07-09T18:09:20.352Z"
   },
   {
    "duration": 164,
    "start_time": "2024-07-09T18:09:20.359Z"
   },
   {
    "duration": 7,
    "start_time": "2024-07-09T18:09:20.527Z"
   },
   {
    "duration": 160,
    "start_time": "2024-07-09T18:09:20.540Z"
   },
   {
    "duration": 150,
    "start_time": "2024-07-09T18:11:33.529Z"
   },
   {
    "duration": 234,
    "start_time": "2024-07-09T18:12:57.772Z"
   },
   {
    "duration": 7,
    "start_time": "2024-07-09T18:20:33.662Z"
   },
   {
    "duration": 9,
    "start_time": "2024-07-09T18:21:12.942Z"
   },
   {
    "duration": 10,
    "start_time": "2024-07-09T18:21:21.358Z"
   },
   {
    "duration": 7,
    "start_time": "2024-07-09T18:23:12.617Z"
   },
   {
    "duration": 6,
    "start_time": "2024-07-09T18:23:16.620Z"
   },
   {
    "duration": 7,
    "start_time": "2024-07-09T18:23:34.234Z"
   },
   {
    "duration": 1290,
    "start_time": "2024-07-09T18:24:21.573Z"
   },
   {
    "duration": 193,
    "start_time": "2024-07-09T18:24:22.867Z"
   },
   {
    "duration": 4,
    "start_time": "2024-07-09T18:24:23.065Z"
   },
   {
    "duration": 35,
    "start_time": "2024-07-09T18:24:23.073Z"
   },
   {
    "duration": 97,
    "start_time": "2024-07-09T18:24:23.116Z"
   },
   {
    "duration": 63,
    "start_time": "2024-07-09T18:24:23.216Z"
   },
   {
    "duration": 51,
    "start_time": "2024-07-09T18:24:23.282Z"
   },
   {
    "duration": 18,
    "start_time": "2024-07-09T18:24:23.336Z"
   },
   {
    "duration": 102,
    "start_time": "2024-07-09T18:24:23.357Z"
   },
   {
    "duration": 101,
    "start_time": "2024-07-09T18:24:23.464Z"
   },
   {
    "duration": 123,
    "start_time": "2024-07-09T18:24:23.569Z"
   },
   {
    "duration": 97,
    "start_time": "2024-07-09T18:24:23.696Z"
   },
   {
    "duration": 69,
    "start_time": "2024-07-09T18:24:23.798Z"
   },
   {
    "duration": 40,
    "start_time": "2024-07-09T18:24:23.873Z"
   },
   {
    "duration": 260,
    "start_time": "2024-07-09T18:24:23.917Z"
   },
   {
    "duration": 16,
    "start_time": "2024-07-09T18:24:24.180Z"
   },
   {
    "duration": 18,
    "start_time": "2024-07-09T18:24:24.209Z"
   },
   {
    "duration": 8,
    "start_time": "2024-07-09T18:24:24.230Z"
   },
   {
    "duration": 8,
    "start_time": "2024-07-09T18:24:24.241Z"
   },
   {
    "duration": 1505,
    "start_time": "2024-07-09T18:24:24.252Z"
   },
   {
    "duration": 4,
    "start_time": "2024-07-09T18:24:25.760Z"
   },
   {
    "duration": 4,
    "start_time": "2024-07-09T18:24:25.768Z"
   },
   {
    "duration": 59,
    "start_time": "2024-07-09T18:24:25.777Z"
   },
   {
    "duration": 12,
    "start_time": "2024-07-09T18:24:25.840Z"
   },
   {
    "duration": 56,
    "start_time": "2024-07-09T18:24:25.856Z"
   },
   {
    "duration": 7,
    "start_time": "2024-07-09T18:24:25.914Z"
   },
   {
    "duration": 8,
    "start_time": "2024-07-09T18:24:25.924Z"
   },
   {
    "duration": 4,
    "start_time": "2024-07-09T18:24:25.936Z"
   },
   {
    "duration": 11,
    "start_time": "2024-07-09T18:24:25.945Z"
   },
   {
    "duration": 11,
    "start_time": "2024-07-09T18:24:26.010Z"
   },
   {
    "duration": 1433,
    "start_time": "2024-07-09T18:24:26.024Z"
   },
   {
    "duration": 3,
    "start_time": "2024-07-09T18:24:27.464Z"
   },
   {
    "duration": 49,
    "start_time": "2024-07-09T18:24:27.470Z"
   },
   {
    "duration": 5,
    "start_time": "2024-07-09T18:24:27.522Z"
   },
   {
    "duration": 116,
    "start_time": "2024-07-09T18:24:27.532Z"
   },
   {
    "duration": 3,
    "start_time": "2024-07-09T18:24:27.651Z"
   },
   {
    "duration": 5,
    "start_time": "2024-07-09T18:24:27.657Z"
   },
   {
    "duration": 387,
    "start_time": "2024-07-09T18:24:27.666Z"
   },
   {
    "duration": 4,
    "start_time": "2024-07-09T18:24:28.056Z"
   },
   {
    "duration": 13,
    "start_time": "2024-07-09T18:24:28.062Z"
   },
   {
    "duration": 25,
    "start_time": "2024-07-09T18:24:28.083Z"
   },
   {
    "duration": 3,
    "start_time": "2024-07-09T18:24:28.112Z"
   },
   {
    "duration": 34,
    "start_time": "2024-07-09T18:24:28.117Z"
   },
   {
    "duration": 277,
    "start_time": "2024-07-09T18:24:28.154Z"
   },
   {
    "duration": 4,
    "start_time": "2024-07-09T18:24:28.438Z"
   },
   {
    "duration": 6,
    "start_time": "2024-07-09T18:24:28.446Z"
   },
   {
    "duration": 4,
    "start_time": "2024-07-09T18:24:28.455Z"
   },
   {
    "duration": 47,
    "start_time": "2024-07-09T18:24:28.463Z"
   },
   {
    "duration": 4,
    "start_time": "2024-07-09T18:24:28.512Z"
   },
   {
    "duration": 93,
    "start_time": "2024-07-09T18:24:28.519Z"
   },
   {
    "duration": 4,
    "start_time": "2024-07-09T18:24:28.615Z"
   },
   {
    "duration": 177,
    "start_time": "2024-07-09T18:24:28.623Z"
   },
   {
    "duration": 4,
    "start_time": "2024-07-09T18:24:28.809Z"
   },
   {
    "duration": 166,
    "start_time": "2024-07-09T18:24:28.817Z"
   },
   {
    "duration": 12,
    "start_time": "2024-07-09T18:37:18.010Z"
   },
   {
    "duration": 5,
    "start_time": "2024-07-09T18:37:18.396Z"
   },
   {
    "duration": 56,
    "start_time": "2024-07-09T18:37:18.557Z"
   },
   {
    "duration": 3,
    "start_time": "2024-07-09T18:37:18.689Z"
   },
   {
    "duration": 142,
    "start_time": "2024-07-09T18:37:18.834Z"
   },
   {
    "duration": 4,
    "start_time": "2024-07-09T18:37:19.105Z"
   },
   {
    "duration": 140,
    "start_time": "2024-07-09T18:38:04.382Z"
   },
   {
    "duration": 141,
    "start_time": "2024-07-09T18:40:09.754Z"
   },
   {
    "duration": 209,
    "start_time": "2024-07-09T18:40:14.772Z"
   },
   {
    "duration": 589,
    "start_time": "2024-07-09T18:40:55.488Z"
   },
   {
    "duration": 309,
    "start_time": "2024-07-09T18:41:19.607Z"
   },
   {
    "duration": 17,
    "start_time": "2024-07-09T18:42:29.215Z"
   },
   {
    "duration": 140,
    "start_time": "2024-07-09T18:42:35.987Z"
   },
   {
    "duration": 140,
    "start_time": "2024-07-09T18:45:01.921Z"
   },
   {
    "duration": 17,
    "start_time": "2024-07-09T18:45:40.743Z"
   },
   {
    "duration": 145,
    "start_time": "2024-07-09T18:45:46.786Z"
   },
   {
    "duration": 5035,
    "start_time": "2024-07-09T21:22:33.404Z"
   },
   {
    "duration": 221,
    "start_time": "2024-07-09T21:22:38.443Z"
   },
   {
    "duration": 4,
    "start_time": "2024-07-09T21:22:38.670Z"
   },
   {
    "duration": 23,
    "start_time": "2024-07-09T21:22:38.680Z"
   },
   {
    "duration": 101,
    "start_time": "2024-07-09T21:22:38.707Z"
   },
   {
    "duration": 48,
    "start_time": "2024-07-09T21:22:38.812Z"
   },
   {
    "duration": 50,
    "start_time": "2024-07-09T21:22:38.863Z"
   },
   {
    "duration": 16,
    "start_time": "2024-07-09T21:22:38.917Z"
   },
   {
    "duration": 98,
    "start_time": "2024-07-09T21:22:38.936Z"
   },
   {
    "duration": 107,
    "start_time": "2024-07-09T21:22:39.041Z"
   },
   {
    "duration": 103,
    "start_time": "2024-07-09T21:22:39.152Z"
   },
   {
    "duration": 89,
    "start_time": "2024-07-09T21:22:39.258Z"
   },
   {
    "duration": 72,
    "start_time": "2024-07-09T21:22:39.351Z"
   },
   {
    "duration": 29,
    "start_time": "2024-07-09T21:22:39.427Z"
   },
   {
    "duration": 265,
    "start_time": "2024-07-09T21:22:39.459Z"
   },
   {
    "duration": 10,
    "start_time": "2024-07-09T21:22:39.727Z"
   },
   {
    "duration": 20,
    "start_time": "2024-07-09T21:22:39.740Z"
   },
   {
    "duration": 7,
    "start_time": "2024-07-09T21:22:39.792Z"
   },
   {
    "duration": 7,
    "start_time": "2024-07-09T21:22:39.803Z"
   },
   {
    "duration": 1468,
    "start_time": "2024-07-09T21:22:39.814Z"
   },
   {
    "duration": 8,
    "start_time": "2024-07-09T21:22:41.285Z"
   },
   {
    "duration": 3,
    "start_time": "2024-07-09T21:22:41.297Z"
   },
   {
    "duration": 30,
    "start_time": "2024-07-09T21:22:41.303Z"
   },
   {
    "duration": 11,
    "start_time": "2024-07-09T21:22:41.336Z"
   },
   {
    "duration": 72,
    "start_time": "2024-07-09T21:22:41.350Z"
   },
   {
    "duration": 6,
    "start_time": "2024-07-09T21:22:41.425Z"
   },
   {
    "duration": 7,
    "start_time": "2024-07-09T21:22:41.435Z"
   },
   {
    "duration": 3,
    "start_time": "2024-07-09T21:22:41.490Z"
   },
   {
    "duration": 9,
    "start_time": "2024-07-09T21:22:41.497Z"
   },
   {
    "duration": 11,
    "start_time": "2024-07-09T21:22:41.509Z"
   },
   {
    "duration": 1438,
    "start_time": "2024-07-09T21:22:41.523Z"
   },
   {
    "duration": 4,
    "start_time": "2024-07-09T21:22:42.964Z"
   },
   {
    "duration": 53,
    "start_time": "2024-07-09T21:22:42.971Z"
   },
   {
    "duration": 4,
    "start_time": "2024-07-09T21:22:43.028Z"
   },
   {
    "duration": 114,
    "start_time": "2024-07-09T21:22:43.035Z"
   },
   {
    "duration": 4,
    "start_time": "2024-07-09T21:22:43.153Z"
   },
   {
    "duration": 5,
    "start_time": "2024-07-09T21:22:43.160Z"
   },
   {
    "duration": 358,
    "start_time": "2024-07-09T21:22:43.192Z"
   },
   {
    "duration": 3,
    "start_time": "2024-07-09T21:22:43.554Z"
   },
   {
    "duration": 36,
    "start_time": "2024-07-09T21:22:43.559Z"
   },
   {
    "duration": 3,
    "start_time": "2024-07-09T21:22:43.598Z"
   },
   {
    "duration": 4,
    "start_time": "2024-07-09T21:22:43.604Z"
   },
   {
    "duration": 94,
    "start_time": "2024-07-09T21:22:43.612Z"
   },
   {
    "duration": 232,
    "start_time": "2024-07-09T21:22:43.709Z"
   },
   {
    "duration": 4,
    "start_time": "2024-07-09T21:22:43.945Z"
   },
   {
    "duration": 5,
    "start_time": "2024-07-09T21:22:43.952Z"
   },
   {
    "duration": 31,
    "start_time": "2024-07-09T21:22:43.960Z"
   },
   {
    "duration": 13,
    "start_time": "2024-07-09T21:22:43.994Z"
   },
   {
    "duration": 3,
    "start_time": "2024-07-09T21:22:44.011Z"
   },
   {
    "duration": 93,
    "start_time": "2024-07-09T21:22:44.018Z"
   },
   {
    "duration": 3,
    "start_time": "2024-07-09T21:22:44.115Z"
   },
   {
    "duration": 180,
    "start_time": "2024-07-09T21:22:44.121Z"
   },
   {
    "duration": 4,
    "start_time": "2024-07-09T21:22:44.304Z"
   },
   {
    "duration": 164,
    "start_time": "2024-07-09T21:22:44.312Z"
   },
   {
    "duration": 2576,
    "start_time": "2024-09-16T23:04:57.991Z"
   },
   {
    "duration": 150,
    "start_time": "2024-09-16T23:05:00.569Z"
   },
   {
    "duration": 3,
    "start_time": "2024-09-16T23:05:00.721Z"
   },
   {
    "duration": 9,
    "start_time": "2024-09-16T23:05:00.726Z"
   },
   {
    "duration": 68,
    "start_time": "2024-09-16T23:05:00.737Z"
   },
   {
    "duration": 30,
    "start_time": "2024-09-16T23:05:00.807Z"
   },
   {
    "duration": 23,
    "start_time": "2024-09-16T23:05:00.839Z"
   },
   {
    "duration": 33,
    "start_time": "2024-09-16T23:05:00.863Z"
   },
   {
    "duration": 44,
    "start_time": "2024-09-16T23:05:00.898Z"
   },
   {
    "duration": 69,
    "start_time": "2024-09-16T23:05:00.946Z"
   },
   {
    "duration": 55,
    "start_time": "2024-09-16T23:05:01.017Z"
   },
   {
    "duration": 74,
    "start_time": "2024-09-16T23:05:01.073Z"
   },
   {
    "duration": 43,
    "start_time": "2024-09-16T23:05:01.148Z"
   },
   {
    "duration": 18,
    "start_time": "2024-09-16T23:05:01.194Z"
   },
   {
    "duration": 145,
    "start_time": "2024-09-16T23:05:01.214Z"
   },
   {
    "duration": 7,
    "start_time": "2024-09-16T23:05:01.361Z"
   },
   {
    "duration": 19,
    "start_time": "2024-09-16T23:05:01.369Z"
   },
   {
    "duration": 3,
    "start_time": "2024-09-16T23:05:01.390Z"
   },
   {
    "duration": 4,
    "start_time": "2024-09-16T23:05:01.395Z"
   },
   {
    "duration": 809,
    "start_time": "2024-09-16T23:05:01.401Z"
   },
   {
    "duration": 2,
    "start_time": "2024-09-16T23:05:02.212Z"
   },
   {
    "duration": 2,
    "start_time": "2024-09-16T23:05:02.216Z"
   },
   {
    "duration": 15,
    "start_time": "2024-09-16T23:05:02.220Z"
   },
   {
    "duration": 9,
    "start_time": "2024-09-16T23:05:02.236Z"
   },
   {
    "duration": 46,
    "start_time": "2024-09-16T23:05:02.248Z"
   },
   {
    "duration": 4,
    "start_time": "2024-09-16T23:05:02.296Z"
   },
   {
    "duration": 5,
    "start_time": "2024-09-16T23:05:02.302Z"
   },
   {
    "duration": 2,
    "start_time": "2024-09-16T23:05:02.313Z"
   },
   {
    "duration": 7,
    "start_time": "2024-09-16T23:05:02.317Z"
   },
   {
    "duration": 6,
    "start_time": "2024-09-16T23:05:02.325Z"
   },
   {
    "duration": 811,
    "start_time": "2024-09-16T23:05:02.334Z"
   },
   {
    "duration": 5,
    "start_time": "2024-09-16T23:05:03.148Z"
   },
   {
    "duration": 36,
    "start_time": "2024-09-16T23:05:03.158Z"
   },
   {
    "duration": 8,
    "start_time": "2024-09-16T23:05:03.198Z"
   },
   {
    "duration": 44,
    "start_time": "2024-09-16T23:05:03.211Z"
   },
   {
    "duration": 3,
    "start_time": "2024-09-16T23:05:03.257Z"
   },
   {
    "duration": 3,
    "start_time": "2024-09-16T23:05:03.261Z"
   },
   {
    "duration": 225,
    "start_time": "2024-09-16T23:05:03.265Z"
   },
   {
    "duration": 2,
    "start_time": "2024-09-16T23:05:03.492Z"
   },
   {
    "duration": 7,
    "start_time": "2024-09-16T23:05:03.499Z"
   },
   {
    "duration": 3,
    "start_time": "2024-09-16T23:05:03.508Z"
   },
   {
    "duration": 3,
    "start_time": "2024-09-16T23:05:03.512Z"
   },
   {
    "duration": 71,
    "start_time": "2024-09-16T23:05:03.516Z"
   },
   {
    "duration": 137,
    "start_time": "2024-09-16T23:05:03.589Z"
   },
   {
    "duration": 2,
    "start_time": "2024-09-16T23:05:03.729Z"
   },
   {
    "duration": 6,
    "start_time": "2024-09-16T23:05:03.733Z"
   },
   {
    "duration": 4,
    "start_time": "2024-09-16T23:05:03.740Z"
   },
   {
    "duration": 12,
    "start_time": "2024-09-16T23:05:03.745Z"
   },
   {
    "duration": 3,
    "start_time": "2024-09-16T23:05:03.759Z"
   },
   {
    "duration": 39,
    "start_time": "2024-09-16T23:05:03.787Z"
   },
   {
    "duration": 5,
    "start_time": "2024-09-16T23:05:03.827Z"
   },
   {
    "duration": 98,
    "start_time": "2024-09-16T23:05:03.834Z"
   },
   {
    "duration": 2,
    "start_time": "2024-09-16T23:05:03.934Z"
   },
   {
    "duration": 104,
    "start_time": "2024-09-16T23:05:03.937Z"
   }
  ],
  "kernelspec": {
   "display_name": "base",
   "language": "python",
   "name": "python3"
  },
  "language_info": {
   "codemirror_mode": {
    "name": "ipython",
    "version": 3
   },
   "file_extension": ".py",
   "mimetype": "text/x-python",
   "name": "python",
   "nbconvert_exporter": "python",
   "pygments_lexer": "ipython3",
   "version": "3.11.7"
  },
  "toc": {
   "base_numbering": 1,
   "nav_menu": {},
   "number_sections": true,
   "sideBar": true,
   "skip_h1_title": true,
   "title_cell": "Table of Contents",
   "title_sidebar": "Contents",
   "toc_cell": false,
   "toc_position": {},
   "toc_section_display": true,
   "toc_window_display": false
  }
 },
 "nbformat": 4,
 "nbformat_minor": 2
}
